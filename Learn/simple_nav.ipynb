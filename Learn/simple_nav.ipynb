{
 "cells": [
  {
   "cell_type": "code",
   "execution_count": 10,
   "metadata": {},
   "outputs": [],
   "source": [
    "import cv2\n",
    "import time\n",
    "import math\n",
    "import carla\n",
    "import weakref\n",
    "import numpy as np\n",
    "import threading\n",
    "import time\n",
    "import random"
   ]
  },
  {
   "cell_type": "code",
   "execution_count": 11,
   "metadata": {},
   "outputs": [],
   "source": [
    "# Global dictionary to store GNSS data\n",
    "gnss_data = {'lat': None, 'lon': None}\n",
    "stop_flag = threading.Event()\n",
    "log_file = \"gnss_coordinates.txt\"  # File to save coordinates"
   ]
  },
  {
   "cell_type": "code",
   "execution_count": 2,
   "metadata": {},
   "outputs": [],
   "source": [
    "import sys\n",
    "sys.path.append('/home/kaustubh/CARLA_0_9_14/PythonAPI/carla')"
   ]
  },
  {
   "cell_type": "code",
   "execution_count": 3,
   "metadata": {},
   "outputs": [],
   "source": [
    "client = carla.Client(\"localhost\", 2000)"
   ]
  },
  {
   "cell_type": "code",
   "execution_count": 4,
   "metadata": {},
   "outputs": [],
   "source": [
    "world = client.get_world()"
   ]
  },
  {
   "cell_type": "code",
   "execution_count": 5,
   "metadata": {},
   "outputs": [],
   "source": [
    "map_ = world.get_map()"
   ]
  },
  {
   "cell_type": "code",
   "execution_count": 6,
   "metadata": {},
   "outputs": [],
   "source": [
    "spawn_points = map_.get_spawn_points()"
   ]
  },
  {
   "cell_type": "code",
   "execution_count": 7,
   "metadata": {},
   "outputs": [],
   "source": [
    "# Selecting the vehicle and spawning it\n",
    "# vehicle_bp = world.get_blueprint_library().filter('vehicle.mini.cooper_s')\n",
    "vehicle = world.get_actors().filter('*vehicle*')[0]\n",
    "start_point = spawn_points[0]\n",
    "# vehicle = world.try_spawn_actor(vehicle_bp[0], start_point)"
   ]
  },
  {
   "cell_type": "code",
   "execution_count": 8,
   "metadata": {},
   "outputs": [
    {
     "name": "stdout",
     "output_type": "stream",
     "text": [
      "Actor(id=543, type=vehicle.volkswagen.t2_2021)\n"
     ]
    }
   ],
   "source": [
    "print(vehicle)"
   ]
  },
  {
   "cell_type": "code",
   "execution_count": 30,
   "metadata": {},
   "outputs": [],
   "source": [
    "# Camera setup\n",
    "# import carla.libcarla\n",
    "\n",
    "\n",
    "# camera_pos_z = 3\n",
    "# camera_pos_x = 0\n",
    "# camera_bp = world.get_blueprint_library().find('sensor.camera.rgb')\n",
    "# # camera_bp = world.get_blueprint_library().find('sensor.camera.semantic_segmentation')\n",
    "# camera_bp.set_attribute('image_size_x', '640')\n",
    "# camera_bp.set_attribute('image_size_y', '360')\n",
    "\n",
    "# camera_init_trans = carla.Transform(carla.Location(z=camera_pos_z, x=camera_pos_x))\n",
    "# camera = world.spawn_actor(camera_bp, camera_init_trans, attach_to=vehicle)\n",
    "\n",
    "# def camera_callback(image, data_dict):\n",
    "#     data_dict['image'] = np.reshape(np.copy(image.raw_data), (image.height, image.width, 4))\n",
    "\n",
    "# image_w = camera_bp.get_attribute('image_size_x').as_int()\n",
    "# image_h = camera_bp.get_attribute('image_size_y').as_int()\n",
    "\n",
    "# camera_data = {'image': np.zeros((image_h, image_w, 4))}\n",
    "# camera.listen(lambda image: camera_callback(image, camera_data))"
   ]
  },
  {
   "cell_type": "code",
   "execution_count": 31,
   "metadata": {},
   "outputs": [],
   "source": [
    "# PREFERRED_SPEED = 30\n",
    "# SPEED_THRESHOL = 2\n",
    "\n",
    "# font = cv2.FONT_HERSHEY_SIMPLEX\n",
    "\n",
    "# org = (30, 30)\n",
    "# org2 = (30, 50)\n",
    "# org3 = (30, 70)\n",
    "# org4 = (30, 90)\n",
    "# org5 = (30, 110)\n",
    "\n",
    "# fontscale = 0.5\n",
    "\n",
    "# color = (255, 255, 255)\n",
    "# thickness = 1\n",
    "\n",
    "# def maintain_spped(s):\n",
    "#     if s >= PREFERRED_SPEED:\n",
    "#         return 0\n",
    "#     elif s < PREFERRED_SPEED - SPEED_THRESHOL:\n",
    "#         return 0.8\n",
    "#     else:\n",
    "#         return 0.4"
   ]
  },
  {
   "cell_type": "code",
   "execution_count": 28,
   "metadata": {},
   "outputs": [],
   "source": [
    "import carla.libcarla\n",
    "\n",
    "\n",
    "camera_pos_z = 2.5\n",
    "camera_pos_x = 0.65\n",
    "# camera_bp = world.get_blueprint_library().find('sensor.camera.rgb')\n",
    "camera_bp = world.get_blueprint_library().find('sensor.camera.instance_segmentation')\n",
    "camera_bp.set_attribute('image_size_x', '640')\n",
    "camera_bp.set_attribute('image_size_y', '360')\n",
    "\n",
    "camera_init_trans = carla.Transform(carla.Location(z=camera_pos_z, x=camera_pos_x))\n",
    "camera = world.spawn_actor(camera_bp, camera_init_trans, attach_to=vehicle)\n",
    "\n",
    "def camera_callback(image, data_dict):\n",
    "    data_dict['image'] = np.reshape(np.copy(image.raw_data), (image.height, image.width, 4))\n",
    "\n",
    "image_w = camera_bp.get_attribute('image_size_x').as_int()\n",
    "image_h = camera_bp.get_attribute('image_size_y').as_int()\n",
    "\n",
    "camera_data = {'image': np.zeros((image_h, image_w, 4))}\n",
    "camera.listen(lambda image: camera_callback(image, camera_data))\n",
    "\n",
    "cv2.namedWindow('RGB Camera', cv2.WINDOW_AUTOSIZE)\n",
    "cv2.imshow('RGB Camera', camera_data['image'])\n",
    "\n",
    "quit = False\n",
    "\n",
    "while True: \n",
    "    world.tick()\n",
    "    \n",
    "    if cv2.waitKey(1) == ord('q'):\n",
    "        quit = True\n",
    "        break\n",
    "    \n",
    "    image = camera_data['image']\n",
    "    \n",
    "    # steering_angle = 0\n",
    "    # v = vehicle.get_velocity()\n",
    "    # speed = round(3.6 * math.sqrt(v.x**2 + v.y**2 + v.z**2), 0)\n",
    "    # image = cv2.putText(image, 'Speed: ' + str(int(speed)) + ' kmh', org2,\n",
    "    #                     font, fontscale, color, thickness, cv2.LINE_AA)\n",
    "    \n",
    "    # estimate_throttle = maintain_spped(speed)\n",
    "    # estimate_throttle = 10\n",
    "    # vehicle.apply_control(carla.VehicleControl(throttle=estimate_throttle,\n",
    "    #                                            steer=steering_angle))\n",
    "    \n",
    "    cv2.imshow('RGB Camera', image)\n",
    "    \n",
    "cv2.destroyAllWindows()\n",
    "camera.stop()\n",
    "# for actor in world.get_actors().filter('*vehicle*'):\n",
    "#     actor.destroy()\n",
    "# for sensor in world.get_actors().filter('*sensor*'):\n",
    "#     sensor.destroy()"
   ]
  },
  {
   "cell_type": "code",
   "execution_count": 7,
   "metadata": {},
   "outputs": [],
   "source": [
    "for actor in world.get_actors().filter('*vehicle*'):\n",
    "    actor.destroy()\n",
    "for sensor in world.get_actors().filter('*sensor*'):\n",
    "    sensor.destroy()"
   ]
  },
  {
   "cell_type": "code",
   "execution_count": 19,
   "metadata": {},
   "outputs": [
    {
     "name": "stdout",
     "output_type": "stream",
     "text": [
      "Actor(id=507, type=vehicle.volkswagen.t2_2021)\n"
     ]
    }
   ],
   "source": [
    "x = world.get_actors().filter('*vehicle*')\n",
    "\n",
    "for i in x:\n",
    "    print(i)"
   ]
  },
  {
   "cell_type": "code",
   "execution_count": 9,
   "metadata": {},
   "outputs": [
    {
     "name": "stdout",
     "output_type": "stream",
     "text": [
      "Actor(id=546, type=sensor.other.gnss)\n"
     ]
    }
   ],
   "source": [
    "for sen in world.get_actors().filter('*gnss*'):\n",
    "    print(sen)"
   ]
  },
  {
   "cell_type": "code",
   "execution_count": 19,
   "metadata": {},
   "outputs": [
    {
     "name": "stdout",
     "output_type": "stream",
     "text": [
      "Waiting for GNSS data...\n",
      "Waiting for GNSS data...\n",
      "Waiting for GNSS data...\n"
     ]
    }
   ],
   "source": [
    "gnss = world.get_actors().filter('*gnss*')[0]"
   ]
  },
  {
   "cell_type": "code",
   "execution_count": null,
   "metadata": {},
   "outputs": [
    {
     "name": "stdout",
     "output_type": "stream",
     "text": [
      "Logged: Latitude: 0.0002904473135885155, Longitude: -0.0009534886969418\n"
     ]
    },
    {
     "name": "stdout",
     "output_type": "stream",
     "text": [
      "Logged: Latitude: 0.0002934100913449811, Longitude: -0.000952634943776038\n",
      "Logged: Latitude: 0.00029756926808488515, Longitude: -0.0009514279559778332\n",
      "Logged: Latitude: 0.00048222160988586893, Longitude: -0.0008395302973369796\n",
      "Logged: Latitude: 0.0005028655834848905, Longitude: -0.000806694006155453\n",
      "Logged: Latitude: 0.0005655435531082276, Longitude: -0.00043122272587322956\n",
      "Logged: Latitude: 0.0005659280058978311, Longitude: -0.00041824138739897154\n",
      "Logged: Latitude: 0.000570594520510781, Longitude: -0.00025882327035398045\n",
      "Logged: Latitude: 0.0005716884923856469, Longitude: -0.00022142916269127122\n",
      "Logged: Latitude: 0.0005857133260178671, Longitude: 0.00025869793511259907\n",
      "Logged: Latitude: 0.0005878151200562343, Longitude: 0.00033073607421345546\n",
      "Logged: Latitude: 0.0003804216025429241, Longitude: 0.0008545270744678616\n",
      "Logged: Latitude: 0.0003393935438822382, Longitude: 0.0008712295074578046\n",
      "Logging complete.\n",
      "Logged: Latitude: -0.0001164877384525198, Longitude: 0.0009677317834919736\n",
      "Logged: Latitude: -0.0006084225982192493, Longitude: 0.0010050090029774163\n",
      "Logged: Latitude: -0.0006358820332650339, Longitude: 0.0010032178141689398\n",
      "Logged: Latitude: -0.0007959705867506273, Longitude: 0.0009843977553207874\n",
      "Logged: Latitude: -0.0012110432113132674, Longitude: 0.0007293065623792417\n",
      "Logged: Latitude: -0.001263321251542493, Longitude: 1.1199123600528345e-05\n",
      "Logged: Latitude: -0.0011577150622485988, Longitude: -0.00034395238842254653\n",
      "Logged: Latitude: -0.0009249993711506477, Longitude: -0.0003949516836557126\n",
      "Logging complete.\n"
     ]
    }
   ],
   "source": [
    "\n",
    "def _on_gnss_event(event):\n",
    "    # Update the global dictionary directly\n",
    "    gnss_data['lat'] = event.latitude\n",
    "    gnss_data['lon'] = event.longitude\n",
    "\n",
    "# Function to log GNSS data to a text file every 4 seconds for 1 minute\n",
    "def log_gnss_data():\n",
    "    start_time = time.time()\n",
    "    with open(log_file, \"w\") as file:  # Open file in write mode\n",
    "        while not stop_flag.is_set():\n",
    "            print\n",
    "            current_time = time.time()\n",
    "            elapsed = current_time - start_time\n",
    "\n",
    "            # Stop after 1 minute\n",
    "            if elapsed > 60:\n",
    "                print(\"Logging complete.\")\n",
    "                break\n",
    "\n",
    "            if gnss_data['lat'] is not None and gnss_data['lon'] is not None:\n",
    "                file.write(f\"{gnss_data['lat']:.7f},{gnss_data['lon']:.7f}\\n\")\n",
    "                file.flush()  # Immediately write to disk\n",
    "                print(f\"Logged: Latitude: {gnss_data['lat']}, Longitude: {gnss_data['lon']}\")\n",
    "            else:\n",
    "                print(\"Waiting for GNSS data...\")\n",
    "\n",
    "            time.sleep(4)\n",
    "\n",
    "# Start the logging thread\n",
    "thread = threading.Thread(target=log_gnss_data, daemon=True)\n",
    "thread.start()\n",
    "\n",
    "# Assuming 'gnss' is your actual GNSS object\n",
    "# gnss.listen(_on_gnss_event)  # Uncomment when using a real GNSS object\n",
    "\n",
    "# Function to choose a random coordinate from the file\n"
   ]
  },
  {
   "cell_type": "code",
   "execution_count": null,
   "metadata": {},
   "outputs": [
    {
     "name": "stdout",
     "output_type": "stream",
     "text": [
      "Logged: Latitude: 0.0002904473135885155, Longitude: -0.0009534886969418\n",
      "Logged: Latitude: 0.0002904473135885155, Longitude: -0.0009534886969418\n"
     ]
    }
   ],
   "source": [
    "gnss.listen(_on_gnss_event)"
   ]
  },
  {
   "cell_type": "code",
   "execution_count": 26,
   "metadata": {},
   "outputs": [
    {
     "name": "stdout",
     "output_type": "stream",
     "text": [
      "Chosen Coordinate: Latitude: -0.0012633, Longitude: 1.12e-05\n"
     ]
    },
    {
     "data": {
      "text/plain": [
       "(-0.0012633, 1.12e-05)"
      ]
     },
     "execution_count": 26,
     "metadata": {},
     "output_type": "execute_result"
    }
   ],
   "source": [
    "def choose_random_coordinate():\n",
    "    with open(log_file, \"r\") as file:\n",
    "        lines = file.readlines()\n",
    "        random_coordinate = random.choice(lines).strip()\n",
    "        lat, lon = map(float, random_coordinate.split(\",\"))\n",
    "        print(f\"Chosen Coordinate: Latitude: {lat}, Longitude: {lon}\")\n",
    "        return lat, lon\n",
    "\n",
    "\n",
    "choose_random_coordinate()"
   ]
  },
  {
   "cell_type": "markdown",
   "metadata": {},
   "source": []
  }
 ],
 "metadata": {
  "kernelspec": {
   "display_name": "carla_sim",
   "language": "python",
   "name": "python3"
  },
  "language_info": {
   "codemirror_mode": {
    "name": "ipython",
    "version": 3
   },
   "file_extension": ".py",
   "mimetype": "text/x-python",
   "name": "python",
   "nbconvert_exporter": "python",
   "pygments_lexer": "ipython3",
   "version": "3.7.12"
  }
 },
 "nbformat": 4,
 "nbformat_minor": 2
}
