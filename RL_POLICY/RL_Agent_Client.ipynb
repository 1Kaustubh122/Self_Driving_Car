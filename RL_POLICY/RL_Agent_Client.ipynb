{
 "cells": [
  {
   "cell_type": "code",
   "execution_count": 5,
   "metadata": {},
   "outputs": [],
   "source": [
    "import cv2\n",
    "import zmq\n",
    "import time\n",
    "import torch\n",
    "import pickle\n",
    "import numpy as np\n",
    "import gymnasium as gym\n",
    "from stable_baselines3 import PPO"
   ]
  },
  {
   "cell_type": "code",
   "execution_count": 6,
   "metadata": {},
   "outputs": [
    {
     "data": {
      "text/plain": [
       "<SocketContext(connect='tcp://localhost:5555')>"
      ]
     },
     "execution_count": 6,
     "metadata": {},
     "output_type": "execute_result"
    }
   ],
   "source": [
    "context = zmq.Context()\n",
    "socket = context.socket(zmq.REQ)\n",
    "socket.connect(\"tcp://localhost:5555\")"
   ]
  },
  {
   "cell_type": "code",
   "execution_count": 7,
   "metadata": {},
   "outputs": [],
   "source": [
    "def send_action(steer: float, throttle: float):\n",
    "    action = {\n",
    "        \"action\": [steer, throttle]\n",
    "    }\n",
    "    socket.send(pickle.dumps(action))  # Serialize & send\n",
    "    response = socket.recv()           # Receive serialized reply\n",
    "    data = pickle.loads(response)      # Deserialize\n",
    "\n",
    "    return data\n",
    "\n",
    "# ==== Decode image from bytes ====\n",
    "def decode_image(image_bytes):\n",
    "    np_arr = np.frombuffer(image_bytes, dtype=np.uint8)\n",
    "    img = cv2.imdecode(np_arr, cv2.IMREAD_COLOR)\n",
    "    return img\n",
    "\n",
    "# # ==== Main loop ====\n",
    "# for step in range(200):\n",
    "#     steer = 0.0               # Replace with your RL output\n",
    "#     throttle = 0.5            # Forward motion\n",
    "#     obs = send_action(steer, throttle)\n",
    "\n",
    "#     # Extract observation\n",
    "#     try:\n",
    "#         image = decode_image(obs[\"image\"])\n",
    "#         gnss = obs[\"gnss\"]\n",
    "#         timestamp = obs[\"timestamp\"]\n",
    "\n",
    "#         print(f\"[Step {step}] GNSS: {gnss} | Time: {timestamp}\")\n",
    "\n",
    "#         # Optional: show image\n",
    "#         cv2.imshow(\"Camera\", image)\n",
    "#         cv2.waitKey(1)\n",
    "\n",
    "#     except Exception as e:\n",
    "#         print(f\"[ERROR] Failed to process observation: {e}\")\n",
    "#         break\n",
    "\n",
    "#     time.sleep(0.05)  # slow it down for now\n",
    "# cv2.destroyAllWindows()\n",
    "\n",
    "# Reset Carla at end (optional)\n",
    "# reset_command = {\"command\": \"reset\"}\n",
    "# socket.send(pickle.dumps(reset_command))\n",
    "# _ = socket.recv()"
   ]
  },
  {
   "cell_type": "code",
   "execution_count": 15,
   "metadata": {},
   "outputs": [
    {
     "name": "stdout",
     "output_type": "stream",
     "text": [
      "Keys in state dict:\n",
      "conv1.weight\n",
      "bn1.weight\n",
      "bn1.bias\n",
      "bn1.running_mean\n",
      "bn1.running_var\n",
      "bn1.num_batches_tracked\n",
      "layer1.0.conv1.weight\n",
      "layer1.0.bn1.weight\n",
      "layer1.0.bn1.bias\n",
      "layer1.0.bn1.running_mean\n"
     ]
    }
   ],
   "source": [
    "import torch\n",
    "import torch.nn as nn\n",
    "from torchvision import transforms\n",
    "from PIL import Image\n",
    "import io\n",
    "\n",
    "# Simulated RL output\n",
    "steer = 0.0\n",
    "throttle = 0.0\n",
    "\n",
    "# Simulated environment image response\n",
    "obs = send_action(steer, throttle)  # Should return a dict with \"image\" in bytes\n",
    "\n",
    "# Load checkpoint\n",
    "checkpoint = torch.load('culane_res34.pth', map_location='cpu')\n",
    "state_dict = checkpoint['model'] if 'model' in checkpoint else checkpoint\n",
    "\n",
    "# Sanitize keys\n",
    "new_state_dict = {}\n",
    "for k, v in state_dict.items():\n",
    "    if k.startswith(\"module.model.\"):\n",
    "        new_k = k.replace(\"module.model.\", \"\")\n",
    "    elif k.startswith(\"model.\"):\n",
    "        new_k = k.replace(\"model.\", \"\")\n",
    "    else:\n",
    "        new_k = k\n",
    "    new_state_dict[new_k] = v\n",
    "\n",
    "# Inspect keys to understand the architecture\n",
    "print(\"Keys in state dict:\")\n",
    "for k in list(new_state_dict.keys())[:10]:\n",
    "    print(k)\n",
    "\n",
    "# WARNING: You CANNOT load these weights into torchvision.models.resnet34 directly\n",
    "# unless you confirm the model was trained with that structure.\n",
    "\n",
    "# Image decode and preprocessing\n",
    "def decode_image(image_bytes):\n",
    "    return Image.open(io.BytesIO(image_bytes)).convert('RGB')\n",
    "\n",
    "transform = transforms.Compose([\n",
    "    transforms.Resize((288, 800)),  # CULane input size\n",
    "    transforms.ToTensor(),\n",
    "    transforms.Normalize(mean=[0.3598, 0.3653, 0.3662], std=[0.2573, 0.2663, 0.2756])  # CULane-specific\n",
    "])\n",
    "\n",
    "image = decode_image(obs[\"image\"])\n",
    "input_tensor = transform(image).unsqueeze(0)\n",
    "\n",
    "# You need the **EXACT MODEL DEFINITION** for lane detection used during training\n",
    "# Example (not working yet):\n",
    "# model = CustomLaneNet()\n",
    "\n",
    "# model.load_state_dict(new_state_dict)\n",
    "# model.eval()\n",
    "\n",
    "# with torch.no_grad():\n",
    "#     output = model(input_tensor)\n"
   ]
  },
  {
   "cell_type": "code",
   "execution_count": 17,
   "metadata": {},
   "outputs": [
    {
     "data": {
      "text/plain": [
       "_IncompatibleKeys(missing_keys=['fc.weight', 'fc.bias'], unexpected_keys=['module.cls.0.weight', 'module.cls.0.bias', 'module.cls.1.weight', 'module.cls.1.bias', 'module.cls.3.weight', 'module.cls.3.bias', 'module.pool.weight', 'module.pool.bias'])"
      ]
     },
     "execution_count": 17,
     "metadata": {},
     "output_type": "execute_result"
    }
   ],
   "source": [
    "import torchvision\n",
    "model = torchvision.models.resnet34()\n",
    "model.load_state_dict(new_state_dict, strict=False)\n"
   ]
  },
  {
   "cell_type": "code",
   "execution_count": 18,
   "metadata": {},
   "outputs": [],
   "source": [
    "with torch.no_grad():\n",
    "    output = model(input_tensor)\n"
   ]
  },
  {
   "cell_type": "code",
   "execution_count": null,
   "metadata": {},
   "outputs": [],
   "source": []
  }
 ],
 "metadata": {
  "kernelspec": {
   "display_name": "carla_sim_3_9",
   "language": "python",
   "name": "python3"
  },
  "language_info": {
   "codemirror_mode": {
    "name": "ipython",
    "version": 3
   },
   "file_extension": ".py",
   "mimetype": "text/x-python",
   "name": "python",
   "nbconvert_exporter": "python",
   "pygments_lexer": "ipython3",
   "version": "3.9.21"
  }
 },
 "nbformat": 4,
 "nbformat_minor": 2
}
