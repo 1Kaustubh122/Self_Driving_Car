{
 "cells": [
  {
   "cell_type": "code",
   "execution_count": 17,
   "metadata": {},
   "outputs": [
    {
     "ename": "ImportError",
     "evalue": "/home/kaustubh/miniforge3/envs/carla_sim/lib/python3.7/site-packages/nvidia/dali/libdali.so: version `DALI_1.31.0' not found (required by /home/kaustubh/miniforge3/envs/carla_sim/lib/python3.7/site-packages/nvidia/dali/python_function_plugin.cpython-37m-x86_64-linux-gnu.so)",
     "output_type": "error",
     "traceback": [
      "\u001b[0;31m---------------------------------------------------------------------------\u001b[0m",
      "\u001b[0;31mImportError\u001b[0m                               Traceback (most recent call last)",
      "\u001b[0;32m/tmp/ipykernel_2475384/1049650058.py\u001b[0m in \u001b[0;36m<module>\u001b[0;34m\u001b[0m\n\u001b[1;32m      8\u001b[0m \u001b[0;32mfrom\u001b[0m \u001b[0mstable_baselines3\u001b[0m \u001b[0;32mimport\u001b[0m \u001b[0mPPO\u001b[0m\u001b[0;34m\u001b[0m\u001b[0;34m\u001b[0m\u001b[0m\n\u001b[1;32m      9\u001b[0m \u001b[0;32mfrom\u001b[0m \u001b[0mtorchvision\u001b[0m \u001b[0;32mimport\u001b[0m \u001b[0mtransforms\u001b[0m\u001b[0;34m\u001b[0m\u001b[0;34m\u001b[0m\u001b[0m\n\u001b[0;32m---> 10\u001b[0;31m \u001b[0;32mfrom\u001b[0m \u001b[0mmodel\u001b[0m\u001b[0;34m.\u001b[0m\u001b[0mmodel_culane\u001b[0m \u001b[0;32mimport\u001b[0m \u001b[0mget_model\u001b[0m\u001b[0;34m\u001b[0m\u001b[0;34m\u001b[0m\u001b[0m\n\u001b[0m\u001b[1;32m     11\u001b[0m \u001b[0;32mfrom\u001b[0m \u001b[0mstable_baselines3\u001b[0m\u001b[0;34m.\u001b[0m\u001b[0mcommon\u001b[0m\u001b[0;34m.\u001b[0m\u001b[0mvec_env\u001b[0m \u001b[0;32mimport\u001b[0m \u001b[0mDummyVecEnv\u001b[0m\u001b[0;34m\u001b[0m\u001b[0;34m\u001b[0m\u001b[0m\n",
      "\u001b[0;32m~/Documents/GitHub/Self_Driving_Car/RL_POLICY/model/model_culane.py\u001b[0m in \u001b[0;36m<module>\u001b[0;34m\u001b[0m\n\u001b[1;32m      2\u001b[0m \u001b[0;32mfrom\u001b[0m \u001b[0mmodel\u001b[0m\u001b[0;34m.\u001b[0m\u001b[0mbackbone\u001b[0m \u001b[0;32mimport\u001b[0m \u001b[0mresnet\u001b[0m\u001b[0;34m\u001b[0m\u001b[0;34m\u001b[0m\u001b[0m\n\u001b[1;32m      3\u001b[0m \u001b[0;32mimport\u001b[0m \u001b[0mnumpy\u001b[0m \u001b[0;32mas\u001b[0m \u001b[0mnp\u001b[0m\u001b[0;34m\u001b[0m\u001b[0;34m\u001b[0m\u001b[0m\n\u001b[0;32m----> 4\u001b[0;31m \u001b[0;32mfrom\u001b[0m \u001b[0mutils\u001b[0m\u001b[0;34m.\u001b[0m\u001b[0mcommon\u001b[0m \u001b[0;32mimport\u001b[0m \u001b[0minitialize_weights\u001b[0m\u001b[0;34m\u001b[0m\u001b[0;34m\u001b[0m\u001b[0m\n\u001b[0m\u001b[1;32m      5\u001b[0m \u001b[0;32mfrom\u001b[0m \u001b[0mmodel\u001b[0m\u001b[0;34m.\u001b[0m\u001b[0mseg_model\u001b[0m \u001b[0;32mimport\u001b[0m \u001b[0mSegHead\u001b[0m\u001b[0;34m\u001b[0m\u001b[0;34m\u001b[0m\u001b[0m\n\u001b[1;32m      6\u001b[0m \u001b[0;32mfrom\u001b[0m \u001b[0mmodel\u001b[0m\u001b[0;34m.\u001b[0m\u001b[0mlayer\u001b[0m \u001b[0;32mimport\u001b[0m \u001b[0mCoordConv\u001b[0m\u001b[0;34m\u001b[0m\u001b[0;34m\u001b[0m\u001b[0m\n",
      "\u001b[0;32m~/Documents/GitHub/Self_Driving_Car/RL_POLICY/utils/common.py\u001b[0m in \u001b[0;36m<module>\u001b[0;34m\u001b[0m\n\u001b[1;32m      1\u001b[0m \u001b[0;32mimport\u001b[0m \u001b[0mos\u001b[0m\u001b[0;34m,\u001b[0m \u001b[0margparse\u001b[0m\u001b[0;34m\u001b[0m\u001b[0;34m\u001b[0m\u001b[0m\n\u001b[0;32m----> 2\u001b[0;31m \u001b[0;32mfrom\u001b[0m \u001b[0mdata\u001b[0m\u001b[0;34m.\u001b[0m\u001b[0mdali_data\u001b[0m \u001b[0;32mimport\u001b[0m \u001b[0mTrainCollect\u001b[0m\u001b[0;34m\u001b[0m\u001b[0;34m\u001b[0m\u001b[0m\n\u001b[0m\u001b[1;32m      3\u001b[0m \u001b[0;32mfrom\u001b[0m \u001b[0mutils\u001b[0m\u001b[0;34m.\u001b[0m\u001b[0mdist_utils\u001b[0m \u001b[0;32mimport\u001b[0m \u001b[0mget_rank\u001b[0m\u001b[0;34m,\u001b[0m \u001b[0mget_world_size\u001b[0m\u001b[0;34m,\u001b[0m \u001b[0mis_main_process\u001b[0m\u001b[0;34m,\u001b[0m \u001b[0mdist_print\u001b[0m\u001b[0;34m,\u001b[0m \u001b[0mDistSummaryWriter\u001b[0m\u001b[0;34m\u001b[0m\u001b[0;34m\u001b[0m\u001b[0m\n\u001b[1;32m      4\u001b[0m \u001b[0;32mfrom\u001b[0m \u001b[0mutils\u001b[0m\u001b[0;34m.\u001b[0m\u001b[0mconfig\u001b[0m \u001b[0;32mimport\u001b[0m \u001b[0mConfig\u001b[0m\u001b[0;34m\u001b[0m\u001b[0;34m\u001b[0m\u001b[0m\n\u001b[1;32m      5\u001b[0m \u001b[0;32mimport\u001b[0m \u001b[0mtorch\u001b[0m\u001b[0;34m\u001b[0m\u001b[0;34m\u001b[0m\u001b[0m\n",
      "\u001b[0;32m~/Documents/GitHub/Self_Driving_Car/RL_POLICY/data/dali_data.py\u001b[0m in \u001b[0;36m<module>\u001b[0;34m\u001b[0m\n\u001b[1;32m      2\u001b[0m \u001b[0;32mimport\u001b[0m \u001b[0mnumpy\u001b[0m \u001b[0;32mas\u001b[0m \u001b[0mnp\u001b[0m\u001b[0;34m\u001b[0m\u001b[0;34m\u001b[0m\u001b[0m\n\u001b[1;32m      3\u001b[0m \u001b[0;32mimport\u001b[0m \u001b[0mrandom\u001b[0m\u001b[0;34m\u001b[0m\u001b[0;34m\u001b[0m\u001b[0m\n\u001b[0;32m----> 4\u001b[0;31m \u001b[0;32mfrom\u001b[0m \u001b[0mnvidia\u001b[0m\u001b[0;34m.\u001b[0m\u001b[0mdali\u001b[0m\u001b[0;34m.\u001b[0m\u001b[0mpipeline\u001b[0m \u001b[0;32mimport\u001b[0m \u001b[0mPipeline\u001b[0m\u001b[0;34m\u001b[0m\u001b[0;34m\u001b[0m\u001b[0m\n\u001b[0m\u001b[1;32m      5\u001b[0m \u001b[0;32mimport\u001b[0m \u001b[0mnvidia\u001b[0m\u001b[0;34m.\u001b[0m\u001b[0mdali\u001b[0m\u001b[0;34m.\u001b[0m\u001b[0mtypes\u001b[0m \u001b[0;32mas\u001b[0m \u001b[0mtypes\u001b[0m\u001b[0;34m\u001b[0m\u001b[0;34m\u001b[0m\u001b[0m\n\u001b[1;32m      6\u001b[0m \u001b[0;32mimport\u001b[0m \u001b[0mnvidia\u001b[0m\u001b[0;34m.\u001b[0m\u001b[0mdali\u001b[0m\u001b[0;34m.\u001b[0m\u001b[0mfn\u001b[0m \u001b[0;32mas\u001b[0m \u001b[0mfn\u001b[0m\u001b[0;34m\u001b[0m\u001b[0;34m\u001b[0m\u001b[0m\n",
      "\u001b[0;32m~/miniforge3/envs/carla_sim/lib/python3.7/site-packages/nvidia/dali/__init__.py\u001b[0m in \u001b[0;36m<module>\u001b[0;34m\u001b[0m\n\u001b[1;32m     18\u001b[0m \u001b[0m__git_sha__\u001b[0m \u001b[0;34m=\u001b[0m \u001b[0;34m'166a2e445992d4a0fca41be32ef897ea0a526a6e'\u001b[0m\u001b[0;34m\u001b[0m\u001b[0;34m\u001b[0m\u001b[0m\n\u001b[1;32m     19\u001b[0m \u001b[0;34m\u001b[0m\u001b[0m\n\u001b[0;32m---> 20\u001b[0;31m \u001b[0;32mfrom\u001b[0m \u001b[0;34m.\u001b[0m \u001b[0;32mimport\u001b[0m \u001b[0mops\u001b[0m\u001b[0;34m\u001b[0m\u001b[0;34m\u001b[0m\u001b[0m\n\u001b[0m\u001b[1;32m     21\u001b[0m \u001b[0;32mfrom\u001b[0m \u001b[0;34m.\u001b[0m \u001b[0;32mimport\u001b[0m \u001b[0mpipeline\u001b[0m\u001b[0;34m\u001b[0m\u001b[0;34m\u001b[0m\u001b[0m\n\u001b[1;32m     22\u001b[0m \u001b[0;32mfrom\u001b[0m \u001b[0;34m.\u001b[0m \u001b[0;32mimport\u001b[0m \u001b[0mtensors\u001b[0m\u001b[0;34m\u001b[0m\u001b[0;34m\u001b[0m\u001b[0m\n",
      "\u001b[0;32m~/miniforge3/envs/carla_sim/lib/python3.7/site-packages/nvidia/dali/ops/__init__.py\u001b[0m in \u001b[0;36m<module>\u001b[0;34m\u001b[0m\n\u001b[1;32m     20\u001b[0m \u001b[0;32mfrom\u001b[0m \u001b[0mitertools\u001b[0m \u001b[0;32mimport\u001b[0m \u001b[0mcount\u001b[0m\u001b[0;34m\u001b[0m\u001b[0;34m\u001b[0m\u001b[0m\n\u001b[1;32m     21\u001b[0m \u001b[0;34m\u001b[0m\u001b[0m\n\u001b[0;32m---> 22\u001b[0;31m \u001b[0;32mimport\u001b[0m \u001b[0mnvidia\u001b[0m\u001b[0;34m.\u001b[0m\u001b[0mdali\u001b[0m\u001b[0;34m.\u001b[0m\u001b[0mpython_function_plugin\u001b[0m\u001b[0;34m\u001b[0m\u001b[0;34m\u001b[0m\u001b[0m\n\u001b[0m\u001b[1;32m     23\u001b[0m \u001b[0;32mfrom\u001b[0m \u001b[0mnvidia\u001b[0m\u001b[0;34m.\u001b[0m\u001b[0mdali\u001b[0m \u001b[0;32mimport\u001b[0m \u001b[0mbackend\u001b[0m \u001b[0;32mas\u001b[0m \u001b[0m_b\u001b[0m\u001b[0;34m\u001b[0m\u001b[0;34m\u001b[0m\u001b[0m\n\u001b[1;32m     24\u001b[0m \u001b[0;32mfrom\u001b[0m \u001b[0mnvidia\u001b[0m\u001b[0;34m.\u001b[0m\u001b[0mdali\u001b[0m \u001b[0;32mimport\u001b[0m \u001b[0mfn\u001b[0m \u001b[0;32mas\u001b[0m \u001b[0m_functional\u001b[0m\u001b[0;34m\u001b[0m\u001b[0;34m\u001b[0m\u001b[0m\n",
      "\u001b[0;31mImportError\u001b[0m: /home/kaustubh/miniforge3/envs/carla_sim/lib/python3.7/site-packages/nvidia/dali/libdali.so: version `DALI_1.31.0' not found (required by /home/kaustubh/miniforge3/envs/carla_sim/lib/python3.7/site-packages/nvidia/dali/python_function_plugin.cpython-37m-x86_64-linux-gnu.so)"
     ]
    }
   ],
   "source": [
    "import cv2\n",
    "import math\n",
    "import time\n",
    "import carla\n",
    "import torch\n",
    "import numpy as np\n",
    "import gymnasium as gym\n",
    "from stable_baselines3 import PPO\n",
    "from torchvision import transforms\n",
    "from model.model_culane import get_model\n",
    "from stable_baselines3.common.vec_env import DummyVecEnv"
   ]
  },
  {
   "cell_type": "code",
   "execution_count": null,
   "metadata": {},
   "outputs": [],
   "source": []
  },
  {
   "cell_type": "code",
   "execution_count": null,
   "metadata": {},
   "outputs": [],
   "source": [
    "class CarlaEnvPPO(gym.Env):\n",
    "    def __init__(self):\n",
    "        super(CarlaEnvPPO, self).__init__()\n",
    "        \n",
    "        # Carla Connection\n",
    "        self.client_ = carla.Client(\"localhost\", 2000)\n",
    "        self.client_.set_timeout(10.0)\n",
    "        self.world_ = self.client.get_world()\n",
    "        self.map_ = self.world_.get_map()\n",
    "        \n",
    "        # Spawn Point and start point\n",
    "        self.spawn_points_ = self.map_.get_spawn_points()\n",
    "        self.start_point_ = self.spawn_points_[0]\n",
    "        \n",
    "        # Vehicle Setup\n",
    "        self.blueprint_library_ = self.world_.get_blueprint_library()\n",
    "        self.vehicle_bp = self.blueprint_library_.find('vehicle.volkswagen.t2_2021')\n",
    "        self.vehicle_ = None\n",
    "\n",
    "        # Camera Setup\n",
    "        self.camera_bp_ = self.blueprint_library_.find('camera.sensor.rgb')\n",
    "        self.camera_bp_.set_attribute('image_size_x', '800')\n",
    "        self.camera_bp_.set_attribute('image_size_y', '288')\n",
    "        self.camera_bp_.set_attribute('fov', '90')\n",
    "        self.camera_sensor = None\n",
    "        \n",
    "        self.camera_transform = carla.Transform(carla.Location(z=2.5, x=0.65))\n",
    "    \n",
    "        self.image = None\n",
    "        \n",
    "        # Action Space\n",
    "        self.action_space = gym.spaces.Box(\n",
    "            low=np.array([-1.0, -1.0]),   # steer, throttle/brake min values\n",
    "            high=np.array([1.0, 1.0]),    # steer, throttle/brake max values\n",
    "            dtype=np.float32\n",
    "        )\n",
    "        \n",
    "        # Observation_space\n",
    "        self.observation_space = gym.spaces.Box(\n",
    "            low=0, high=255,\n",
    "            shape=(288, 800, 3),\n",
    "            dtype=np.uint8\n",
    "        )\n",
    "\n",
    "    \n",
    "    def image_callback(self, image):\n",
    "        array = np.frombuffer(image.raw_data, dtype=np.uint8)\n",
    "        array = np.reshape(array, (image.height, image.width, 4))[:, :, :3]\n",
    "        self.image = array\n",
    "    \n",
    "    \n",
    "    def destroy_actors(self):\n",
    "        if self.vehicle_ is not None:\n",
    "            self.vehicle_.destroy()\n",
    "        if hasattr(self, 'camera_sensor') and self.camera_sensor is not None:\n",
    "            self.camera_sensor.stop()\n",
    "            self.camera_sensor.destroy()\n",
    "\n",
    "            \n",
    "    def reset(self):\n",
    "        self.destroy_actors()\n",
    "        self.vehicle_ = self.world_.try_spawn_actor(self.vehicle_bp, self.start_point_)\n",
    "        self.camera_sensor = self.world_.spawn_actor(\n",
    "            self.camera_bp_,\n",
    "            self.camera_transform, \n",
    "            attach_to=self.vehicle_\n",
    "        )\n",
    "        self.image = None\n",
    "        self.camera_sensor.listen(lambda data: self.image_callback(data))\n",
    "\n",
    "        while self.image is None:\n",
    "            time.sleep(0.01)\n",
    "\n",
    "        return self.image \n",
    "    \n",
    "    def step(self, action):\n",
    "        steer = action[0]\n",
    "        throttle = 0\n",
    "        brake = 0\n",
    "        if action[1] > 0:\n",
    "            throttle = action[1]\n",
    "        else:\n",
    "            brake = abs(action[1])\n",
    "        \n",
    "        self.vehicle_.apply_control(\n",
    "            carla.VehicleControl(\n",
    "                throttle=throttle, \n",
    "                steer=steer, \n",
    "                brake=brake\n",
    "            )\n",
    "        )\n",
    "        \n",
    "        obs = self.image\n",
    "        reward = self.reward()\n",
    "        done = False\n",
    "        info = {}\n",
    "        \n",
    "        return obs, reward, done, info\n",
    "    \n",
    "    def reward(self):\n",
    "    # Example dummy reward — replace with actual logic\n",
    "        return 1.0\n"
   ]
  },
  {
   "cell_type": "code",
   "execution_count": null,
   "metadata": {},
   "outputs": [],
   "source": [
    "# Vehicle Setup\n",
    "# vehicle = world.get_actors().filter('*vehicle*')[0]\n",
    "vehicle_bp = world.ge\n",
    "start_point = spawn_points[0]"
   ]
  },
  {
   "cell_type": "code",
   "execution_count": null,
   "metadata": {},
   "outputs": [],
   "source": [
    "# Lane Detect\n",
    "import torch\n"
   ]
  },
  {
   "cell_type": "code",
   "execution_count": 14,
   "metadata": {},
   "outputs": [
    {
     "name": "stdout",
     "output_type": "stream",
     "text": [
      "[-0.30524457  0.21000373]\n"
     ]
    }
   ],
   "source": [
    "action_space = gym.spaces.Box(\n",
    "    low=np.array([-1.0, -0.5]),   # steer, throttle/brake min values\n",
    "    high=np.array([1.0, 0.5]),    # steer, throttle/brake max values\n",
    "    dtype=np.float32\n",
    ")\n",
    "for _ in range(5):\n",
    "    action = action_space.sample()\n",
    "    # print(action)\n",
    "print(action_space.sample())"
   ]
  },
  {
   "cell_type": "code",
   "execution_count": null,
   "metadata": {},
   "outputs": [],
   "source": []
  }
 ],
 "metadata": {
  "kernelspec": {
   "display_name": "carla_sim",
   "language": "python",
   "name": "python3"
  },
  "language_info": {
   "codemirror_mode": {
    "name": "ipython",
    "version": 3
   },
   "file_extension": ".py",
   "mimetype": "text/x-python",
   "name": "python",
   "nbconvert_exporter": "python",
   "pygments_lexer": "ipython3",
   "version": "3.7.12"
  }
 },
 "nbformat": 4,
 "nbformat_minor": 2
}
