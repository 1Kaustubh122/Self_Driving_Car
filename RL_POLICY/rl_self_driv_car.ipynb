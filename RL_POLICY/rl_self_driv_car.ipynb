{
 "cells": [
  {
   "cell_type": "code",
   "execution_count": 2,
   "metadata": {},
   "outputs": [
    {
     "ename": "ModuleNotFoundError",
     "evalue": "No module named 'torch'",
     "output_type": "error",
     "traceback": [
      "\u001b[0;31m---------------------------------------------------------------------------\u001b[0m",
      "\u001b[0;31mModuleNotFoundError\u001b[0m                       Traceback (most recent call last)",
      "\u001b[0;32m/tmp/ipykernel_18166/1049650058.py\u001b[0m in \u001b[0;36m<module>\u001b[0;34m\u001b[0m\n\u001b[1;32m      3\u001b[0m \u001b[0;32mimport\u001b[0m \u001b[0mtime\u001b[0m\u001b[0;34m\u001b[0m\u001b[0;34m\u001b[0m\u001b[0m\n\u001b[1;32m      4\u001b[0m \u001b[0;32mimport\u001b[0m \u001b[0mcarla\u001b[0m\u001b[0;34m\u001b[0m\u001b[0;34m\u001b[0m\u001b[0m\n\u001b[0;32m----> 5\u001b[0;31m \u001b[0;32mimport\u001b[0m \u001b[0mtorch\u001b[0m\u001b[0;34m\u001b[0m\u001b[0;34m\u001b[0m\u001b[0m\n\u001b[0m\u001b[1;32m      6\u001b[0m \u001b[0;32mimport\u001b[0m \u001b[0mnumpy\u001b[0m \u001b[0;32mas\u001b[0m \u001b[0mnp\u001b[0m\u001b[0;34m\u001b[0m\u001b[0;34m\u001b[0m\u001b[0m\n\u001b[1;32m      7\u001b[0m \u001b[0;32mimport\u001b[0m \u001b[0mgymnasium\u001b[0m \u001b[0;32mas\u001b[0m \u001b[0mgym\u001b[0m\u001b[0;34m\u001b[0m\u001b[0;34m\u001b[0m\u001b[0m\n",
      "\u001b[0;31mModuleNotFoundError\u001b[0m: No module named 'torch'"
     ]
    }
   ],
   "source": [
    "import cv2\n",
    "import math\n",
    "import time\n",
    "import carla\n",
    "import torch\n",
    "import numpy as np\n",
    "import gymnasium as gym\n",
    "from stable_baselines3 import PPO\n",
    "from torchvision import transforms\n",
    "from model.model_culane import get_model\n",
    "from stable_baselines3.common.vec_env import DummyVecEnv"
   ]
  },
  {
   "cell_type": "code",
   "execution_count": null,
   "metadata": {},
   "outputs": [],
   "source": []
  },
  {
   "cell_type": "code",
   "execution_count": null,
   "metadata": {},
   "outputs": [],
   "source": [
    "class CarlaEnvPPO(gym.Env):\n",
    "    def __init__(self):\n",
    "        super(CarlaEnvPPO, self).__init__()\n",
    "        \n",
    "        # Carla Connection\n",
    "        self.client_ = carla.Client(\"localhost\", 2000)\n",
    "        self.client_.set_timeout(10.0)\n",
    "        self.world_ = self.client.get_world()\n",
    "        self.map_ = self.world_.get_map()\n",
    "        \n",
    "        # Spawn Point and start point\n",
    "        self.spawn_points_ = self.map_.get_spawn_points()\n",
    "        self.start_point_ = self.spawn_points_[0]\n",
    "        \n",
    "        # Vehicle Setup\n",
    "        self.blueprint_library_ = self.world_.get_blueprint_library()\n",
    "        self.vehicle_bp = self.blueprint_library_.find('vehicle.volkswagen.t2_2021')\n",
    "        self.vehicle_ = None\n",
    "\n",
    "        # Camera Setup\n",
    "        self.camera_bp_ = self.blueprint_library_.find('camera.sensor.rgb')\n",
    "        self.camera_bp_.set_attribute('image_size_x', '800')\n",
    "        self.camera_bp_.set_attribute('image_size_y', '288')\n",
    "        self.camera_bp_.set_attribute('fov', '90')\n",
    "        self.camera_sensor = None\n",
    "        \n",
    "        self.camera_transform = carla.Transform(carla.Location(z=2.5, x=0.65))\n",
    "    \n",
    "        self.image = None\n",
    "        \n",
    "        # Action Space\n",
    "        self.action_space = gym.spaces.Box(\n",
    "            low=np.array([-1.0, -1.0]),   # steer, throttle/brake min values\n",
    "            high=np.array([1.0, 1.0]),    # steer, throttle/brake max values\n",
    "            dtype=np.float32\n",
    "        )\n",
    "        \n",
    "        # Observation_space\n",
    "        self.observation_space = gym.spaces.Box(\n",
    "            low=0, high=255,\n",
    "            shape=(288, 800, 3),\n",
    "            dtype=np.uint8\n",
    "        )\n",
    "\n",
    "    \n",
    "    def image_callback(self, image):\n",
    "        array = np.frombuffer(image.raw_data, dtype=np.uint8)\n",
    "        array = np.reshape(array, (image.height, image.width, 4))[:, :, :3]\n",
    "        self.image = array\n",
    "    \n",
    "    \n",
    "    def destroy_actors(self):\n",
    "        if self.vehicle_ is not None:\n",
    "            self.vehicle_.destroy()\n",
    "        if hasattr(self, 'camera_sensor') and self.camera_sensor is not None:\n",
    "            self.camera_sensor.stop()\n",
    "            self.camera_sensor.destroy()\n",
    "\n",
    "            \n",
    "    def reset(self):\n",
    "        self.destroy_actors()\n",
    "        self.vehicle_ = self.world_.try_spawn_actor(self.vehicle_bp, self.start_point_)\n",
    "        self.camera_sensor = self.world_.spawn_actor(\n",
    "            self.camera_bp_,\n",
    "            self.camera_transform, \n",
    "            attach_to=self.vehicle_\n",
    "        )\n",
    "        self.image = None\n",
    "        self.camera_sensor.listen(lambda data: self.image_callback(data))\n",
    "\n",
    "        while self.image is None:\n",
    "            time.sleep(0.01)\n",
    "\n",
    "        return self.image \n",
    "    \n",
    "    def step(self, action):\n",
    "        steer = action[0]\n",
    "        throttle = 0\n",
    "        brake = 0\n",
    "        if action[1] > 0:\n",
    "            throttle = action[1]\n",
    "        else:\n",
    "            brake = abs(action[1])\n",
    "        \n",
    "        self.vehicle_.apply_control(\n",
    "            carla.VehicleControl(\n",
    "                throttle=throttle, \n",
    "                steer=steer, \n",
    "                brake=brake\n",
    "            )\n",
    "        )\n",
    "        \n",
    "        obs = self.image\n",
    "        reward = self.reward()\n",
    "        done = False\n",
    "        info = {}\n",
    "        \n",
    "        return obs, reward, done, info\n",
    "    \n",
    "    def reward(self):\n",
    "    # Example dummy reward — replace with actual logic\n",
    "        return 1.0\n"
   ]
  },
  {
   "cell_type": "code",
   "execution_count": null,
   "metadata": {},
   "outputs": [],
   "source": [
    "# Vehicle Setup\n",
    "# vehicle = world.get_actors().filter('*vehicle*')[0]\n",
    "vehicle_bp = world.ge\n",
    "start_point = spawn_points[0]"
   ]
  },
  {
   "cell_type": "code",
   "execution_count": null,
   "metadata": {},
   "outputs": [],
   "source": [
    "# Lane Detect\n",
    "import torch\n"
   ]
  },
  {
   "cell_type": "code",
   "execution_count": 14,
   "metadata": {},
   "outputs": [
    {
     "name": "stdout",
     "output_type": "stream",
     "text": [
      "[-0.30524457  0.21000373]\n"
     ]
    }
   ],
   "source": [
    "action_space = gym.spaces.Box(\n",
    "    low=np.array([-1.0, -0.5]),   # steer, throttle/brake min values\n",
    "    high=np.array([1.0, 0.5]),    # steer, throttle/brake max values\n",
    "    dtype=np.float32\n",
    ")\n",
    "for _ in range(5):\n",
    "    action = action_space.sample()\n",
    "    # print(action)\n",
    "print(action_space.sample())"
   ]
  },
  {
   "cell_type": "code",
   "execution_count": null,
   "metadata": {},
   "outputs": [],
   "source": []
  }
 ],
 "metadata": {
  "kernelspec": {
   "display_name": "carla_sim",
   "language": "python",
   "name": "python3"
  },
  "language_info": {
   "codemirror_mode": {
    "name": "ipython",
    "version": 3
   },
   "file_extension": ".py",
   "mimetype": "text/x-python",
   "name": "python",
   "nbconvert_exporter": "python",
   "pygments_lexer": "ipython3",
   "version": "3.7.12"
  }
 },
 "nbformat": 4,
 "nbformat_minor": 2
}
