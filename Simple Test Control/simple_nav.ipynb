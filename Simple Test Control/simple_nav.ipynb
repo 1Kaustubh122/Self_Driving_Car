{
 "cells": [
  {
   "cell_type": "code",
   "execution_count": 1,
   "metadata": {},
   "outputs": [],
   "source": [
    "import cv2\n",
    "import time\n",
    "import math\n",
    "import carla\n",
    "import weakref\n",
    "import numpy as np\n",
    "import threading\n",
    "import time\n",
    "import random"
   ]
  },
  {
   "cell_type": "code",
   "execution_count": 3,
   "metadata": {},
   "outputs": [],
   "source": [
    "# Global dictionary to store GNSS data\n",
    "gnss_data = {'lat': None, 'lon': None}\n",
    "stop_flag = threading.Event()\n",
    "log_file = \"gnss_coordinates.txt\"  # File to save coordinates"
   ]
  },
  {
   "cell_type": "code",
   "execution_count": 4,
   "metadata": {},
   "outputs": [],
   "source": [
    "import sys\n",
    "# sys.path.append('/home/kaustubh/CARLA_0_9_14/PythonAPI/carla')"
   ]
  },
  {
   "cell_type": "code",
   "execution_count": 2,
   "metadata": {},
   "outputs": [],
   "source": [
    "client = carla.Client(\"localhost\", 2000)\n",
    "world = client.get_world()\n"
   ]
  },
  {
   "cell_type": "code",
   "execution_count": 3,
   "metadata": {},
   "outputs": [],
   "source": [
    "map_ = world.get_map()"
   ]
  },
  {
   "cell_type": "code",
   "execution_count": 4,
   "metadata": {},
   "outputs": [],
   "source": [
    "spawn_points = map_.get_spawn_points()"
   ]
  },
  {
   "cell_type": "code",
   "execution_count": 8,
   "metadata": {},
   "outputs": [],
   "source": [
    "# Selecting the vehicle and spawning it\n",
    "vehicle_bp = world.get_blueprint_library().filter('vehicle.mini.cooper_s')\n",
    "# vehicle = world.get_actors().filter('*vehicle*')[0]\n",
    "# camera = world.get_actors().filter('*camera*')[0]\n",
    "# gnss = world.get_actors().filter('*gnss*')[0]\n",
    "# collision_bp = world.get_blueprint_library().find('sensor.other.collision')\n",
    "start_point = spawn_points[0]\n",
    "vehicle = world.try_spawn_actor(vehicle_bp[0], start_point)"
   ]
  },
  {
   "cell_type": "code",
   "execution_count": 68,
   "metadata": {},
   "outputs": [],
   "source": [
    "map = world.get_map()\n",
    "waypoints = [map.get_waypoint(spawn_points[0].location)]\n",
    "for _ in range(50):  # Generate a simple route\n",
    "    next_wps = waypoints[-1].next(10.0)\n",
    "    waypoints.append(next_wps[0] if next_wps else waypoints[-1])\n",
    "current_waypoint_idx = 0"
   ]
  },
  {
   "cell_type": "code",
   "execution_count": 69,
   "metadata": {},
   "outputs": [],
   "source": [
    "for i in waypoints:\n",
    "    world.debug.draw_point(\n",
    "            i.transform.location,\n",
    "            size=0.2,\n",
    "            color=carla.Color(0, 255, 0),\n",
    "            life_time=6.0\n",
    "        )\n",
    "    \n",
    "    # print(i.transform.location)"
   ]
  },
  {
   "cell_type": "code",
   "execution_count": null,
   "metadata": {},
   "outputs": [],
   "source": [
    "print(collision_bp)\n",
    "camera_init_trans = carla.Transform(carla.Location(z=camera_pos_z, x=camera_pos_x))\n",
    "camera = world.spawn_actor(camera_bp, camera_init_trans, attach_to=vehicle)"
   ]
  },
  {
   "cell_type": "code",
   "execution_count": null,
   "metadata": {},
   "outputs": [],
   "source": [
    "# print(vehicle)\n",
    "# print(camera)\n",
    "# print(gnss)\n",
    "for actor in world.get_actors():\n",
    "    print(actor)"
   ]
  },
  {
   "cell_type": "code",
   "execution_count": null,
   "metadata": {},
   "outputs": [],
   "source": [
    "# Simple Control\n",
    "vehicle.apply_control(carla.VehicleControl(throttle=0, steer=1, brake=1,hand_brake=False))"
   ]
  },
  {
   "cell_type": "code",
   "execution_count": null,
   "metadata": {},
   "outputs": [],
   "source": []
  },
  {
   "cell_type": "code",
   "execution_count": null,
   "metadata": {},
   "outputs": [],
   "source": [
    "# Camera setup\n",
    "# import carla.libcarla\n",
    "\n",
    "\n",
    "# camera_pos_z = 3\n",
    "# camera_pos_x = 0\n",
    "camera_bp = world.get_blueprint_library().find('sensor.camera.rgb')\n",
    "# # camera_bp = world.get_blueprint_library().find('sensor.camera.semantic_segmentation')\n",
    "# camera_bp.set_attribute('image_size_x', '640')\n",
    "# camera_bp.set_attribute('image_size_y', '360')\n",
    "\n",
    "# camera_init_trans = carla.Transform(carla.Location(z=camera_pos_z, x=camera_pos_x))\n",
    "# camera = world.spawn_actor(camera_bp, camera_init_trans, attach_to=vehicle)\n",
    "\n",
    "def camera_callback(image, data_dict):\n",
    "    data_dict['image'] = np.reshape(np.copy(image.raw_data), (image.height, image.width, 4))\n",
    "\n",
    "image_w = camera_bp.get_attribute('image_size_x').as_int()\n",
    "image_h = camera_bp.get_attribute('image_size_y').as_int()\n",
    "\n",
    "camera_data = {'image': np.zeros((image_h, image_w, 4))}\n",
    "camera.listen(lambda image: camera_callback(image, camera_data))"
   ]
  },
  {
   "cell_type": "code",
   "execution_count": null,
   "metadata": {},
   "outputs": [],
   "source": [
    "PREFERRED_SPEED = 30\n",
    "SPEED_THRESHOL = 2\n",
    "\n",
    "# font = cv2.FONT_HERSHEY_SIMPLEX\n",
    "\n",
    "# org = (30, 30)\n",
    "# org2 = (30, 50)\n",
    "# org3 = (30, 70)\n",
    "# org4 = (30, 90)\n",
    "# org5 = (30, 110)\n",
    "\n",
    "# fontscale = 0.5\n",
    "\n",
    "# color = (255, 255, 255)\n",
    "# thickness = 1\n",
    "\n",
    "# def maintain_spped(s):\n",
    "#     if s >= PREFERRED_SPEED:\n",
    "#         return 0\n",
    "#     elif s < PREFERRED_SPEED - SPEED_THRESHOL:\n",
    "#         return 0.8\n",
    "#     else:\n",
    "#         return 0.4"
   ]
  },
  {
   "cell_type": "code",
   "execution_count": null,
   "metadata": {},
   "outputs": [],
   "source": [
    "import carla.libcarla\n",
    "\n",
    "\n",
    "camera_pos_z = 2.5\n",
    "camera_pos_x = 0.65\n",
    "camera_bp = world.get_blueprint_library().find('sensor.camera.rgb')\n",
    "# camera_bp = world.get_blueprint_library().find('sensor.camera.instance_segmentation')\n",
    "camera_bp.set_attribute('image_size_x', '640')\n",
    "camera_bp.set_attribute('image_size_y', '360')\n",
    "\n",
    "# camera_init_trans = carla.Transform(carla.Location(z=camera_pos_z, x=camera_pos_x))\n",
    "# camera = world.spawn_actor(camera_bp, camera_init_trans, attach_to=vehicle)\n",
    "\n",
    "def camera_callback(image, data_dict):\n",
    "    data_dict['image'] = np.reshape(np.copy(image.raw_data), (image.height, image.width, 4))\n",
    "\n",
    "image_w = camera_bp.get_attribute('image_size_x').as_int()\n",
    "image_h = camera_bp.get_attribute('image_size_y').as_int()\n",
    "\n",
    "camera_data = {'image': np.zeros((image_h, image_w, 4))}\n",
    "camera.listen(lambda image: camera_callback(image, camera_data))\n",
    "\n",
    "cv2.namedWindow('RGB Camera', cv2.WINDOW_AUTOSIZE)\n",
    "cv2.imshow('RGB Camera', camera_data['image'])\n",
    "\n",
    "quit = False\n",
    "\n",
    "while True: \n",
    "    world.tick()\n",
    "    \n",
    "    if cv2.waitKey(1) == ord('q'):\n",
    "        quit = True\n",
    "        break\n",
    "    \n",
    "    image = camera_data['image']\n",
    "    \n",
    "    # steering_angle = 0\n",
    "    # # v = vehicle.get_velocity()\n",
    "    # speed = round(3.6 * math.sqrt(v.x**2 + v.y**2 + v.z**2), 0)\n",
    "    # # image = cv2.putText(image, 'Speed: ' + str(int(speed)) + ' kmh', org2,\n",
    "    # #                     font, fontscale, color, thickness, cv2.LINE_AA)\n",
    "    \n",
    "    # estimate_throttle = maintain_spped(speed)\n",
    "    # estimate_throttle = 10\n",
    "    # vehicle.apply_control(carla.VehicleControl(throttle=1,\n",
    "    #                                            steer=steering_angle))\n",
    "    \n",
    "    cv2.imshow('RGB Camera', image)\n",
    "    \n",
    "cv2.destroyAllWindows()\n",
    "camera.stop()\n",
    "# for actor in world.get_actors().filter('*vehicle*'):\n",
    "#     actor.destroy()\n",
    "# for sensor in world.get_actors().filter('*sensor*'):\n",
    "#     sensor.destroy()"
   ]
  },
  {
   "cell_type": "code",
   "execution_count": 9,
   "metadata": {},
   "outputs": [],
   "source": [
    "for actor in world.get_actors().filter('*vehicle*'):\n",
    "    actor.destroy()\n",
    "for sensor in world.get_actors().filter('*sensor*'):\n",
    "    sensor.destroy()"
   ]
  },
  {
   "cell_type": "code",
   "execution_count": 10,
   "metadata": {},
   "outputs": [],
   "source": [
    "x = world.get_actors().filter('*vehicle*')\n",
    "\n",
    "for i in x:\n",
    "    print(i)"
   ]
  },
  {
   "cell_type": "code",
   "execution_count": null,
   "metadata": {},
   "outputs": [],
   "source": [
    "# for sen in world.get_actors().filter('*gnss*'):\n",
    "for sen in world.get_blueprint_library().filter('*lidar*'):\n",
    "    print(sen)"
   ]
  },
  {
   "cell_type": "code",
   "execution_count": null,
   "metadata": {},
   "outputs": [],
   "source": [
    "gnss = world.get_actors().filter('*gnss*')[0]"
   ]
  },
  {
   "cell_type": "code",
   "execution_count": null,
   "metadata": {},
   "outputs": [],
   "source": [
    "\n",
    "# def _on_gnss_event(event):\n",
    "#     # Update the global dictionary directly\n",
    "#     gnss_data['latitude'] = event.latitude\n",
    "#     gnss_data['longitude'] = event.longitude\n",
    "\n",
    "# # Function to log GNSS data to a text file every 4 seconds for 1 minute\n",
    "# def log_gnss_data():\n",
    "#     start_time = time.time()\n",
    "#     with open(log_file, \"w\") as file:  # Open file in write mode\n",
    "#         while not stop_flag.is_set():\n",
    "#             print\n",
    "#             current_time = time.time()\n",
    "#             elapsed = current_time - start_time\n",
    "\n",
    "#             # Stop after 1 minute\n",
    "#             if elapsed > 60:\n",
    "#                 print(\"Logging complete.\")\n",
    "#                 break\n",
    "\n",
    "#             if gnss_data['lat'] is not None and gnss_data['lon'] is not None:\n",
    "#                 file.write(f\"{gnss_data['lat']:.7f},{gnss_data['lon']:.7f}\\n\")\n",
    "#                 file.flush()  # Immediately write to disk\n",
    "#                 print(f\"Logged: Latitude: {gnss_data['lat']}, Longitude: {gnss_data['lon']}\")\n",
    "#             else:\n",
    "#                 print(\"Waiting for GNSS data...\")\n",
    "\n",
    "#             time.sleep(4)\n",
    "\n",
    "# # Start the logging thread\n",
    "# thread = threading.Thread(target=log_gnss_data, daemon=True)\n",
    "# thread.start()\n",
    "\n",
    "# Assuming 'gnss' is your actual GNSS object\n",
    "# gnss.listen(_on_gnss_event)  # Uncomment when using a real GNSS object\n",
    "\n",
    "# Function to choose a random coordinate from the file\n"
   ]
  },
  {
   "cell_type": "code",
   "execution_count": null,
   "metadata": {},
   "outputs": [],
   "source": [
    "gnss.listen()"
   ]
  },
  {
   "cell_type": "code",
   "execution_count": null,
   "metadata": {},
   "outputs": [],
   "source": [
    "def choose_random_coordinate():\n",
    "    with open(log_file, \"r\") as file:\n",
    "        lines = file.readlines()\n",
    "        random_coordinate = random.choice(lines).strip()\n",
    "        lat, lon = map(float, random_coordinate.split(\",\"))\n",
    "        print(f\"Chosen Coordinate: Latitude: {lat}, Longitude: {lon}\")\n",
    "        return lat, lon\n",
    "\n",
    "\n",
    "choose_random_coordinate()"
   ]
  },
  {
   "cell_type": "code",
   "execution_count": null,
   "metadata": {},
   "outputs": [],
   "source": [
    "for sensor in world.get_blueprint_library().filter('*collision*'):\n",
    "    print(sensor)\n",
    "    x = sensor"
   ]
  },
  {
   "cell_type": "code",
   "execution_count": null,
   "metadata": {},
   "outputs": [],
   "source": [
    "print(x)"
   ]
  },
  {
   "cell_type": "code",
   "execution_count": null,
   "metadata": {},
   "outputs": [],
   "source": [
    "world_location = world.get_map().get_waypoint(vehicle.get_location()).transform.location\n",
    "print(world_location)"
   ]
  },
  {
   "cell_type": "code",
   "execution_count": 1,
   "metadata": {},
   "outputs": [
    {
     "ename": "NameError",
     "evalue": "name 'world' is not defined",
     "output_type": "error",
     "traceback": [
      "\u001b[0;31m---------------------------------------------------------------------------\u001b[0m",
      "\u001b[0;31mNameError\u001b[0m                                 Traceback (most recent call last)",
      "\u001b[0;32m/tmp/ipykernel_334600/1513296765.py\u001b[0m in \u001b[0;36m<module>\u001b[0;34m\u001b[0m\n\u001b[0;32m----> 1\u001b[0;31m \u001b[0;32mfor\u001b[0m \u001b[0mactor\u001b[0m \u001b[0;32min\u001b[0m \u001b[0mworld\u001b[0m\u001b[0;34m.\u001b[0m\u001b[0mget_actors\u001b[0m\u001b[0;34m(\u001b[0m\u001b[0;34m)\u001b[0m\u001b[0;34m.\u001b[0m\u001b[0mfilter\u001b[0m\u001b[0;34m(\u001b[0m\u001b[0;34m'*vehicle*'\u001b[0m\u001b[0;34m)\u001b[0m\u001b[0;34m:\u001b[0m\u001b[0;34m\u001b[0m\u001b[0;34m\u001b[0m\u001b[0m\n\u001b[0m\u001b[1;32m      2\u001b[0m     \u001b[0mactor\u001b[0m\u001b[0;34m.\u001b[0m\u001b[0mdestroy\u001b[0m\u001b[0;34m(\u001b[0m\u001b[0;34m)\u001b[0m\u001b[0;34m\u001b[0m\u001b[0;34m\u001b[0m\u001b[0m\n\u001b[1;32m      3\u001b[0m \u001b[0;32mfor\u001b[0m \u001b[0msensor\u001b[0m \u001b[0;32min\u001b[0m \u001b[0mworld\u001b[0m\u001b[0;34m.\u001b[0m\u001b[0mget_actors\u001b[0m\u001b[0;34m(\u001b[0m\u001b[0;34m)\u001b[0m\u001b[0;34m.\u001b[0m\u001b[0mfilter\u001b[0m\u001b[0;34m(\u001b[0m\u001b[0;34m'*sensor*'\u001b[0m\u001b[0;34m)\u001b[0m\u001b[0;34m:\u001b[0m\u001b[0;34m\u001b[0m\u001b[0;34m\u001b[0m\u001b[0m\n\u001b[1;32m      4\u001b[0m     \u001b[0msensor\u001b[0m\u001b[0;34m.\u001b[0m\u001b[0mdestroy\u001b[0m\u001b[0;34m(\u001b[0m\u001b[0;34m)\u001b[0m\u001b[0;34m\u001b[0m\u001b[0;34m\u001b[0m\u001b[0m\n",
      "\u001b[0;31mNameError\u001b[0m: name 'world' is not defined"
     ]
    }
   ],
   "source": [
    "for actor in world.get_actors().filter('*vehicle*'):\n",
    "    actor.destroy()\n",
    "for sensor in world.get_actors().filter('*sensor*'):\n",
    "    sensor.destroy()"
   ]
  },
  {
   "cell_type": "code",
   "execution_count": null,
   "metadata": {},
   "outputs": [],
   "source": [
    "import carla\n",
    "import time\n",
    "import random\n",
    "\n",
    "# ====== 1. Globals ======\n",
    "latest_gnss = {'lat': 0.0, 'lon': 0.0}\n",
    "\n",
    "# ====== 2. GNSS Sensor Callback ======\n",
    "def gnss_callback(data):\n",
    "    latest_gnss['lat'] = data.latitude\n",
    "    latest_gnss['lon'] = data.longitude\n",
    "\n",
    "# ====== 3. Attach GNSS Sensor to Vehicle ======\n",
    "def attach_gnss_sensor(world, vehicle):\n",
    "    blueprint_library = world.get_blueprint_library()\n",
    "    gnss_bp = blueprint_library.find('sensor.other.gnss')\n",
    "    gnss_bp.set_attribute('sensor_tick', '0.1')  # 10Hz\n",
    "    spawn_point = carla.Transform(carla.Location(x=0.0, z=2.0))\n",
    "    gnss_sensor = world.spawn_actor(gnss_bp, spawn_point, attach_to=vehicle)\n",
    "    gnss_sensor.listen(gnss_callback)\n",
    "    return gnss_sensor\n",
    "\n",
    "# ====== 4. Choose Random Coordinate Offset ======\n",
    "def choose_random_coordinate():\n",
    "    # Small offset in degrees (~10–50 meters max)\n",
    "    delta_lat = random.uniform(-0.0004, 0.0004)\n",
    "    delta_lon = random.uniform(-0.0004, 0.0004)\n",
    "    return delta_lat, delta_lon\n",
    "\n",
    "def gnss_to_carla_location(lat, lon, vehicle, world):\n",
    "    geo_ref = carla.GeoReference(world.get_map().transform_to_georeference())\n",
    "    x, y = geo_ref.transform(lat, lon)\n",
    "    z = vehicle.get_transform().location.z\n",
    "    return carla.Location(x=x, y=y, z=z)\n",
    "\n",
    "# ====== 6. Global Route Planner ======\n",
    "from agents.navigation.global_route_planner import GlobalRoutePlanner\n",
    "\n",
    "def create_global_planner(world, sampling_resolution=2.0):\n",
    "    carla_map = world.get_map()\n",
    "    planner = GlobalRoutePlanner(carla_map, sampling_resolution)\n",
    "    planner.setup()\n",
    "    return planner\n",
    "\n",
    "# ====== 7. Plan Route from GNSS ======\n",
    "def plan_route_from_ground_truth(world, vehicle):\n",
    "    start_loc = vehicle.get_location()\n",
    "    goal_loc = carla.Location(x=start_loc.x + 50.0, y=start_loc.y + 20.0, z=start_loc.z)\n",
    "\n",
    "    dao = GlobalRoutePlannerDAO(world.get_map(), sampling_resolution=2.0)\n",
    "    planner = GlobalRoutePlanner(dao)\n",
    "    planner.setup()\n",
    "\n",
    "    waypoints = planner.trace_route(start_loc, goal_loc)\n",
    "    return waypoints, start_loc, goal_loc\n",
    "\n",
    "\n",
    "# ====== 8. Draw Route (Debug) ======\n",
    "def draw_route(world, waypoints, life_time=60.0):\n",
    "    for wp in waypoints:\n",
    "        world.debug.draw_point(wp.transform.location, size=0.1, color=carla.Color(255,0,0), life_time=life_time)\n",
    "\n",
    "# ====== 9. Main Flow ======\n",
    "def run_global_planner(world, vehicle):\n",
    "    gnss_sensor = attach_gnss_sensor(world, vehicle)\n",
    "    print(\"Waiting for GNSS data...\")\n",
    "    time.sleep(1.5)  # Let sensor start\n",
    "\n",
    "    waypoints, start_loc, goal_loc = plan_route_from_gnss(world, vehicle)\n",
    "    draw_route(world, waypoints)\n",
    "    print(f\"Planned route from:\\n{start_loc}\\nto:\\n{goal_loc}\\nTotal waypoints: {len(waypoints)}\")\n",
    "\n",
    "    return waypoints, start_loc, goal_loc\n"
   ]
  },
  {
   "cell_type": "code",
   "execution_count": 105,
   "metadata": {},
   "outputs": [
    {
     "name": "stdout",
     "output_type": "stream",
     "text": [
      "Waiting for GNSS data...\n"
     ]
    },
    {
     "ename": "AttributeError",
     "evalue": "module 'carla' has no attribute 'GeoReference'",
     "output_type": "error",
     "traceback": [
      "\u001b[0;31m---------------------------------------------------------------------------\u001b[0m",
      "\u001b[0;31mAttributeError\u001b[0m                            Traceback (most recent call last)",
      "\u001b[0;32m/tmp/ipykernel_1094597/1632757141.py\u001b[0m in \u001b[0;36m<module>\u001b[0;34m\u001b[0m\n\u001b[1;32m      5\u001b[0m \u001b[0mvehicle\u001b[0m \u001b[0;34m=\u001b[0m \u001b[0mworld\u001b[0m\u001b[0;34m.\u001b[0m\u001b[0mget_actors\u001b[0m\u001b[0;34m(\u001b[0m\u001b[0;34m)\u001b[0m\u001b[0;34m.\u001b[0m\u001b[0mfilter\u001b[0m\u001b[0;34m(\u001b[0m\u001b[0;34m\"*vehicle*\"\u001b[0m\u001b[0;34m)\u001b[0m\u001b[0;34m[\u001b[0m\u001b[0;36m0\u001b[0m\u001b[0;34m]\u001b[0m  \u001b[0;31m# Use your own spawned vehicle\u001b[0m\u001b[0;34m\u001b[0m\u001b[0;34m\u001b[0m\u001b[0m\n\u001b[1;32m      6\u001b[0m \u001b[0;34m\u001b[0m\u001b[0m\n\u001b[0;32m----> 7\u001b[0;31m \u001b[0mwaypoints\u001b[0m\u001b[0;34m,\u001b[0m \u001b[0mstart\u001b[0m\u001b[0;34m,\u001b[0m \u001b[0mgoal\u001b[0m \u001b[0;34m=\u001b[0m \u001b[0mrun_global_planner\u001b[0m\u001b[0;34m(\u001b[0m\u001b[0mworld\u001b[0m\u001b[0;34m,\u001b[0m \u001b[0mvehicle\u001b[0m\u001b[0;34m)\u001b[0m\u001b[0;34m\u001b[0m\u001b[0;34m\u001b[0m\u001b[0m\n\u001b[0m",
      "\u001b[0;32m/tmp/ipykernel_1094597/919005242.py\u001b[0m in \u001b[0;36mrun_global_planner\u001b[0;34m(world, vehicle)\u001b[0m\n\u001b[1;32m     70\u001b[0m     \u001b[0mtime\u001b[0m\u001b[0;34m.\u001b[0m\u001b[0msleep\u001b[0m\u001b[0;34m(\u001b[0m\u001b[0;36m1.5\u001b[0m\u001b[0;34m)\u001b[0m  \u001b[0;31m# Let sensor start\u001b[0m\u001b[0;34m\u001b[0m\u001b[0;34m\u001b[0m\u001b[0m\n\u001b[1;32m     71\u001b[0m \u001b[0;34m\u001b[0m\u001b[0m\n\u001b[0;32m---> 72\u001b[0;31m     \u001b[0mwaypoints\u001b[0m\u001b[0;34m,\u001b[0m \u001b[0mstart_loc\u001b[0m\u001b[0;34m,\u001b[0m \u001b[0mgoal_loc\u001b[0m \u001b[0;34m=\u001b[0m \u001b[0mplan_route_from_gnss\u001b[0m\u001b[0;34m(\u001b[0m\u001b[0mworld\u001b[0m\u001b[0;34m,\u001b[0m \u001b[0mvehicle\u001b[0m\u001b[0;34m)\u001b[0m\u001b[0;34m\u001b[0m\u001b[0;34m\u001b[0m\u001b[0m\n\u001b[0m\u001b[1;32m     73\u001b[0m     \u001b[0mdraw_route\u001b[0m\u001b[0;34m(\u001b[0m\u001b[0mworld\u001b[0m\u001b[0;34m,\u001b[0m \u001b[0mwaypoints\u001b[0m\u001b[0;34m)\u001b[0m\u001b[0;34m\u001b[0m\u001b[0;34m\u001b[0m\u001b[0m\n\u001b[1;32m     74\u001b[0m     \u001b[0mprint\u001b[0m\u001b[0;34m(\u001b[0m\u001b[0;34mf\"Planned route from:\\n{start_loc}\\nto:\\n{goal_loc}\\nTotal waypoints: {len(waypoints)}\"\u001b[0m\u001b[0;34m)\u001b[0m\u001b[0;34m\u001b[0m\u001b[0;34m\u001b[0m\u001b[0m\n",
      "\u001b[0;32m/tmp/ipykernel_1094597/919005242.py\u001b[0m in \u001b[0;36mplan_route_from_gnss\u001b[0;34m(world, vehicle)\u001b[0m\n\u001b[1;32m     50\u001b[0m     \u001b[0mgoal_lon\u001b[0m \u001b[0;34m=\u001b[0m \u001b[0mcurr_lon\u001b[0m \u001b[0;34m+\u001b[0m \u001b[0mdelta_lon\u001b[0m\u001b[0;34m\u001b[0m\u001b[0;34m\u001b[0m\u001b[0m\n\u001b[1;32m     51\u001b[0m \u001b[0;34m\u001b[0m\u001b[0m\n\u001b[0;32m---> 52\u001b[0;31m     \u001b[0mstart_loc\u001b[0m \u001b[0;34m=\u001b[0m \u001b[0mgnss_to_carla_location\u001b[0m\u001b[0;34m(\u001b[0m\u001b[0mcurr_lat\u001b[0m\u001b[0;34m,\u001b[0m \u001b[0mcurr_lon\u001b[0m\u001b[0;34m,\u001b[0m \u001b[0mvehicle\u001b[0m\u001b[0;34m,\u001b[0m \u001b[0mworld\u001b[0m\u001b[0;34m)\u001b[0m\u001b[0;34m\u001b[0m\u001b[0;34m\u001b[0m\u001b[0m\n\u001b[0m\u001b[1;32m     53\u001b[0m     \u001b[0mgoal_loc\u001b[0m \u001b[0;34m=\u001b[0m \u001b[0mgnss_to_carla_location\u001b[0m\u001b[0;34m(\u001b[0m\u001b[0mgoal_lat\u001b[0m\u001b[0;34m,\u001b[0m \u001b[0mgoal_lon\u001b[0m\u001b[0;34m,\u001b[0m \u001b[0mvehicle\u001b[0m\u001b[0;34m,\u001b[0m \u001b[0mworld\u001b[0m\u001b[0;34m)\u001b[0m\u001b[0;34m\u001b[0m\u001b[0;34m\u001b[0m\u001b[0m\n\u001b[1;32m     54\u001b[0m \u001b[0;34m\u001b[0m\u001b[0m\n",
      "\u001b[0;32m/tmp/ipykernel_1094597/919005242.py\u001b[0m in \u001b[0;36mgnss_to_carla_location\u001b[0;34m(lat, lon, vehicle, world)\u001b[0m\n\u001b[1;32m     29\u001b[0m \u001b[0;34m\u001b[0m\u001b[0m\n\u001b[1;32m     30\u001b[0m \u001b[0;32mdef\u001b[0m \u001b[0mgnss_to_carla_location\u001b[0m\u001b[0;34m(\u001b[0m\u001b[0mlat\u001b[0m\u001b[0;34m,\u001b[0m \u001b[0mlon\u001b[0m\u001b[0;34m,\u001b[0m \u001b[0mvehicle\u001b[0m\u001b[0;34m,\u001b[0m \u001b[0mworld\u001b[0m\u001b[0;34m)\u001b[0m\u001b[0;34m:\u001b[0m\u001b[0;34m\u001b[0m\u001b[0;34m\u001b[0m\u001b[0m\n\u001b[0;32m---> 31\u001b[0;31m     \u001b[0mgeo_ref\u001b[0m \u001b[0;34m=\u001b[0m \u001b[0mcarla\u001b[0m\u001b[0;34m.\u001b[0m\u001b[0mGeoReference\u001b[0m\u001b[0;34m(\u001b[0m\u001b[0mworld\u001b[0m\u001b[0;34m.\u001b[0m\u001b[0mget_map\u001b[0m\u001b[0;34m(\u001b[0m\u001b[0;34m)\u001b[0m\u001b[0;34m.\u001b[0m\u001b[0mtransform_to_georeference\u001b[0m\u001b[0;34m(\u001b[0m\u001b[0;34m)\u001b[0m\u001b[0;34m)\u001b[0m\u001b[0;34m\u001b[0m\u001b[0;34m\u001b[0m\u001b[0m\n\u001b[0m\u001b[1;32m     32\u001b[0m     \u001b[0mx\u001b[0m\u001b[0;34m,\u001b[0m \u001b[0my\u001b[0m \u001b[0;34m=\u001b[0m \u001b[0mgeo_ref\u001b[0m\u001b[0;34m.\u001b[0m\u001b[0mtransform\u001b[0m\u001b[0;34m(\u001b[0m\u001b[0mlat\u001b[0m\u001b[0;34m,\u001b[0m \u001b[0mlon\u001b[0m\u001b[0;34m)\u001b[0m\u001b[0;34m\u001b[0m\u001b[0;34m\u001b[0m\u001b[0m\n\u001b[1;32m     33\u001b[0m     \u001b[0mz\u001b[0m \u001b[0;34m=\u001b[0m \u001b[0mvehicle\u001b[0m\u001b[0;34m.\u001b[0m\u001b[0mget_transform\u001b[0m\u001b[0;34m(\u001b[0m\u001b[0;34m)\u001b[0m\u001b[0;34m.\u001b[0m\u001b[0mlocation\u001b[0m\u001b[0;34m.\u001b[0m\u001b[0mz\u001b[0m\u001b[0;34m\u001b[0m\u001b[0;34m\u001b[0m\u001b[0m\n",
      "\u001b[0;31mAttributeError\u001b[0m: module 'carla' has no attribute 'GeoReference'"
     ]
    }
   ],
   "source": [
    "client = carla.Client('localhost', 2000)\n",
    "client.set_timeout(10.0)\n",
    "world = client.get_world()\n",
    "\n",
    "vehicle = world.get_actors().filter(\"*vehicle*\")[0]  # Use your own spawned vehicle\n",
    "\n",
    "waypoints, start, goal = run_global_planner(world, vehicle)\n"
   ]
  },
  {
   "cell_type": "code",
   "execution_count": 12,
   "metadata": {},
   "outputs": [
    {
     "name": "stdout",
     "output_type": "stream",
     "text": [
      "Location(x=-64.644844, y=24.471010, z=0.600000)\n"
     ]
    }
   ],
   "source": [
    "# route planning bit like shown in Tutorial 3\n",
    "import sys\n",
    "sys.path.append('/home/kaustubh/CARLA_15/PythonAPI/carla/')\n",
    "\n",
    "from agents.navigation.global_route_planner import GlobalRoutePlanner\n",
    "\n",
    "point_a = start_point.location #we start at where the car is\n",
    "print(point_a)\n",
    "sampling_resolution = 1\n",
    "grp = GlobalRoutePlanner(world.get_map(), sampling_resolution)\n",
    "\n",
    "# now let' pick the longest possible route\n",
    "distance = 0\n",
    "for loc in spawn_points: # we start trying all spawn points \n",
    "                            #but we just exclude first at zero index\n",
    "    cur_route = grp.trace_route(point_a, loc.location)\n",
    "    if len(cur_route)>distance:\n",
    "        distance = len(cur_route)\n",
    "        route = cur_route\n",
    "#draw the route in sim window - Note it does not get into the camera of the car\n",
    "for waypoint in route:\n",
    "    world.debug.draw_string(waypoint[0].transform.location, '^', draw_shadow=False,\n",
    "        color=carla.Color(r=0, g=0, b=255), life_time=10.0,\n",
    "        persistent_lines=True)"
   ]
  },
  {
   "cell_type": "code",
   "execution_count": 13,
   "metadata": {},
   "outputs": [
    {
     "name": "stdout",
     "output_type": "stream",
     "text": [
      "Vehicle GNSS: lat=-0.0002198307656868792, lon=-0.0005807147886869425\n"
     ]
    }
   ],
   "source": [
    "vehicle_location = vehicle.get_transform().location\n",
    "vehicle_gnss = world.get_map().transform_to_geolocation(vehicle_location)\n",
    "print(f\"Vehicle GNSS: lat={vehicle_gnss.latitude}, lon={vehicle_gnss.longitude}\")\n"
   ]
  },
  {
   "cell_type": "code",
   "execution_count": 20,
   "metadata": {},
   "outputs": [
    {
     "name": "stdout",
     "output_type": "stream",
     "text": [
      "Location(x=-64.644844, y=24.471010, z=0.600000)\n",
      "GeoLocation(latitude=-0.000220, longitude=-0.000581, altitude=0.600000)\n"
     ]
    }
   ],
   "source": [
    "start_location = world.get_map().get_spawn_points()[0].location\n",
    "geo = world.get_map().transform_to_geolocation(start_location)\n",
    "\n",
    "print(start_location)\n",
    "print(geo)"
   ]
  },
  {
   "cell_type": "code",
   "execution_count": 3,
   "metadata": {},
   "outputs": [
    {
     "ename": "ModuleNotFoundError",
     "evalue": "No module named 'carla'",
     "output_type": "error",
     "traceback": [
      "\u001b[0;31m---------------------------------------------------------------------------\u001b[0m",
      "\u001b[0;31mModuleNotFoundError\u001b[0m                       Traceback (most recent call last)",
      "\u001b[0;32m/tmp/ipykernel_1477470/3719685768.py\u001b[0m in \u001b[0;36m<module>\u001b[0;34m\u001b[0m\n\u001b[1;32m      2\u001b[0m \u001b[0;32mimport\u001b[0m \u001b[0mmath\u001b[0m\u001b[0;34m\u001b[0m\u001b[0;34m\u001b[0m\u001b[0m\n\u001b[1;32m      3\u001b[0m \u001b[0;32mimport\u001b[0m \u001b[0mnumpy\u001b[0m \u001b[0;32mas\u001b[0m \u001b[0mnp\u001b[0m\u001b[0;34m\u001b[0m\u001b[0;34m\u001b[0m\u001b[0m\n\u001b[0;32m----> 4\u001b[0;31m \u001b[0;32mimport\u001b[0m \u001b[0mcarla\u001b[0m\u001b[0;34m\u001b[0m\u001b[0;34m\u001b[0m\u001b[0m\n\u001b[0m\u001b[1;32m      5\u001b[0m \u001b[0;32mimport\u001b[0m \u001b[0mtime\u001b[0m\u001b[0;34m\u001b[0m\u001b[0;34m\u001b[0m\u001b[0m\n\u001b[1;32m      6\u001b[0m \u001b[0;34m\u001b[0m\u001b[0m\n",
      "\u001b[0;31mModuleNotFoundError\u001b[0m: No module named 'carla'"
     ]
    }
   ],
   "source": [
    "import sys\n",
    "import math\n",
    "import numpy as np\n",
    "import carla\n",
    "import time\n",
    "\n",
    "sys.path.append('/home/kaustubh/CARLA_15/PythonAPI/carla/dist/carla-0.9.15-py3.7-linux-x86_64.egg')\n",
    "\n",
    "# === Connect to server\n",
    "client = carla.Client(\"localhost\", 2000)\n",
    "client.set_timeout(10.0)\n",
    "world = client.get_world()\n",
    "carla_map = world.get_map()\n",
    "\n",
    "# === Find vehicle\n",
    "vehicle = world.get_actors().filter('vehicle.*')[0]\n",
    "\n",
    "# === Get GNSS sensor\n",
    "# gnss = [s for s in world.get_actors().filter('sensor.other.gnss') if s.parent == vehicle]\n",
    "gnss = world.get_actors().filter(\"*gnss*\")\n",
    "if len(gnss) == 0:\n",
    "    raise Exception(\"GNSS not found.\")\n",
    "gnss = gnss[0]\n",
    "\n",
    "# === Listen to GNSS\n",
    "gnss_data = None\n",
    "def gnss_callback(self, event):\n",
    "    gnss_data = {\n",
    "        \"latitude\": event.latitude,\n",
    "        \"longitude\": event.longitude\n",
    "    }\n",
    "\n",
    "gnss.listen(gnss_callback)\n",
    "\n",
    "print(\"[INFO] Waiting for GNSS fix...\")\n",
    "while gnss_data is None:\n",
    "    time.sleep(0.1)\n",
    "\n",
    "# === Get GeoReference from map\n",
    "geo_ref_str = carla_map.to_opendrive().split(\"geoReference>\")[1].split(\"</geoReference\")[0]\n",
    "geo_tags = dict([tag.split('=') for tag in geo_ref_str.strip().replace('+', '').split()])\n",
    "\n",
    "# === Convert GNSS → Location (manual projection using pyproj)\n",
    "import pyproj\n",
    "proj = pyproj.Proj(f\"+proj=utm +zone={geo_tags['zone']} +ellps=WGS84 +datum=WGS84 +units=m +no_defs\")\n",
    "\n",
    "x, y = proj(gnss_data.longitude, gnss_data.latitude)\n",
    "z = gnss_data.altitude\n",
    "\n",
    "origin_x = float(geo_tags['false_easting'])\n",
    "origin_y = float(geo_tags['false_northing'])\n",
    "\n",
    "carla_x = x - origin_x\n",
    "carla_y = y - origin_y\n",
    "carla_z = z  # Assuming flat terrain, alt might need tuning\n",
    "\n",
    "start_loc = carla.Location(x=carla_x, y=carla_y, z=carla_z)\n",
    "print(\"[INFO] CARLA Start Location:\", start_loc)\n",
    "\n",
    "# === Goal GNSS (same projection)\n",
    "goal_lat, goal_lon = -0.0009250, -0.0003950\n",
    "goal_x, goal_y = proj(goal_lon, goal_lat)\n",
    "\n",
    "carla_goal_x = goal_x - origin_x\n",
    "carla_goal_y = goal_y - origin_y\n",
    "carla_goal_z = 0.0\n",
    "\n",
    "goal_loc = carla.Location(x=carla_goal_x, y=carla_goal_y, z=carla_goal_z)\n",
    "print(\"[INFO] CARLA Goal Location:\", goal_loc)\n",
    "\n",
    "# === Waypoints\n",
    "start_wp = carla_map.get_waypoint(start_loc, project_to_road=True)\n",
    "goal_wp = carla_map.get_waypoint(goal_loc, project_to_road=True)\n",
    "\n",
    "grp = carla.GlobalRoutePlanner(carla_map, sampling_resolution=2.0)\n",
    "route = grp.trace_route(start_wp.transform.location, goal_wp.transform.location)\n",
    "\n",
    "for wp, _ in route:\n",
    "    world.debug.draw_point(wp.transform.location + carla.Location(z=0.5), size=0.2, color=carla.Color(255, 0, 0), life_time=20.0)\n",
    "\n",
    "print(f\"[INFO] Route with {len(route)} waypoints plotted.\")\n",
    "gnss.stop()\n"
   ]
  },
  {
   "cell_type": "code",
   "execution_count": 5,
   "metadata": {},
   "outputs": [
    {
     "name": "stdout",
     "output_type": "stream",
     "text": [
      "['__class__', '__delattr__', '__dict__', '__dir__', '__doc__', '__eq__', '__format__', '__ge__', '__getattribute__', '__gt__', '__hash__', '__init__', '__init_subclass__', '__le__', '__lt__', '__module__', '__ne__', '__new__', '__reduce__', '__reduce_ex__', '__repr__', '__setattr__', '__sizeof__', '__str__', '__subclasshook__', '__weakref__', 'cook_in_memory_map', 'generate_waypoints', 'get_all_landmarks', 'get_all_landmarks_from_id', 'get_all_landmarks_of_type', 'get_crosswalks', 'get_landmark_group', 'get_spawn_points', 'get_topology', 'get_waypoint', 'get_waypoint_xodr', 'name', 'save_to_disk', 'to_opendrive', 'transform_to_geolocation']\n"
     ]
    }
   ],
   "source": [
    "import carla\n",
    "client = carla.Client('localhost', 2000)\n",
    "client.set_timeout(10.0)\n",
    "\n",
    "world = client.get_world()\n",
    "m = world.get_map()\n",
    "\n",
    "print(dir(m))\n"
   ]
  },
  {
   "cell_type": "code",
   "execution_count": 1,
   "metadata": {},
   "outputs": [
    {
     "ename": "ModuleNotFoundError",
     "evalue": "No module named 'carla'",
     "output_type": "error",
     "traceback": [
      "\u001b[0;31m---------------------------------------------------------------------------\u001b[0m",
      "\u001b[0;31mModuleNotFoundError\u001b[0m                       Traceback (most recent call last)",
      "\u001b[0;32m/tmp/ipykernel_1479856/1860861370.py\u001b[0m in \u001b[0;36m<module>\u001b[0;34m\u001b[0m\n\u001b[0;32m----> 1\u001b[0;31m \u001b[0;32mimport\u001b[0m \u001b[0mcarla\u001b[0m\u001b[0;34m\u001b[0m\u001b[0;34m\u001b[0m\u001b[0m\n\u001b[0m\u001b[1;32m      2\u001b[0m \u001b[0mprint\u001b[0m\u001b[0;34m(\u001b[0m\u001b[0mdir\u001b[0m\u001b[0;34m(\u001b[0m\u001b[0mcarla\u001b[0m\u001b[0;34m.\u001b[0m\u001b[0mMap\u001b[0m\u001b[0;34m)\u001b[0m\u001b[0;34m)\u001b[0m\u001b[0;34m\u001b[0m\u001b[0;34m\u001b[0m\u001b[0m\n",
      "\u001b[0;31mModuleNotFoundError\u001b[0m: No module named 'carla'"
     ]
    }
   ],
   "source": [
    "import carla\n",
    "print(dir(carla.Map))\n"
   ]
  },
  {
   "cell_type": "code",
   "execution_count": 14,
   "metadata": {},
   "outputs": [],
   "source": [
    "location = world.get_map()"
   ]
  },
  {
   "cell_type": "code",
   "execution_count": 18,
   "metadata": {},
   "outputs": [
    {
     "ename": "",
     "evalue": "",
     "output_type": "error",
     "traceback": [
      "\u001b[1;31mThe Kernel crashed while executing code in the current cell or a previous cell. \n",
      "\u001b[1;31mPlease review the code in the cell(s) to identify a possible cause of the failure. \n",
      "\u001b[1;31mClick <a href='https://aka.ms/vscodeJupyterKernelCrash'>here</a> for more info. \n",
      "\u001b[1;31mView Jupyter <a href='command:jupyter.viewOutput'>log</a> for further details."
     ]
    }
   ],
   "source": [
    "gnss_data = None\n",
    "\n",
    "def gnss_callback(data):\n",
    "    global gnss_data\n",
    "    gnss_data = data\n",
    "\n",
    "bp = world.get_blueprint_library().filter('*gnss*')\n",
    "# gnss = world.spawn_actor(bp, carla.Transform(), attach_to=vehicle)\n",
    "gnss.listen(gnss_callback)\n",
    "\n",
    "# Wait until data comes in\n",
    "while gnss_data is None:\n",
    "    time.sleep(0.1)\n",
    "\n",
    "lat = gnss_data.latitude\n",
    "lon = gnss_data.longitude\n",
    "alt = gnss_data.altitude\n",
    "\n",
    "carla_loc = vehicle.get_transform().location\n",
    "print(f\"GNSS = ({lat}, {lon}, {alt})\")\n",
    "print(f\"Location = ({carla_loc.x}, {carla_loc.y}, {carla_loc.z})\")\n"
   ]
  },
  {
   "cell_type": "code",
   "execution_count": null,
   "metadata": {},
   "outputs": [],
   "source": []
  }
 ],
 "metadata": {
  "kernelspec": {
   "display_name": "carla_15",
   "language": "python",
   "name": "python3"
  },
  "language_info": {
   "codemirror_mode": {
    "name": "ipython",
    "version": 3
   },
   "file_extension": ".py",
   "mimetype": "text/x-python",
   "name": "python",
   "nbconvert_exporter": "python",
   "pygments_lexer": "ipython3",
   "version": "3.10.0"
  }
 },
 "nbformat": 4,
 "nbformat_minor": 2
}
