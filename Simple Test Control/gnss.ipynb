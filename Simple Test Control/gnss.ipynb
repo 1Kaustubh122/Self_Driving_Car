{
 "cells": [
  {
   "cell_type": "code",
   "execution_count": 2,
   "id": "607f8f50",
   "metadata": {},
   "outputs": [],
   "source": [
    "import carla\n",
    "import time\n",
    "import sys\n",
    "sys.path.append('/home/kaustubh/CARLA_15/PythonAPI/carla/')\n",
    "\n",
    "client = carla.Client(\"localhost\", 2000)\n",
    "world = client.get_world()"
   ]
  },
  {
   "cell_type": "code",
   "execution_count": 3,
   "id": "f2c309cb",
   "metadata": {},
   "outputs": [
    {
     "name": "stdout",
     "output_type": "stream",
     "text": [
      "Actor(id=48, type=vehicle.volkswagen.t2_2021) Actor(id=50, type=sensor.other.gnss)\n"
     ]
    }
   ],
   "source": [
    "vehicle = world.get_actors().filter(\"*vehicle*\")[0]\n",
    "gnss = world.get_actors().filter(\"*gnss*\")[0]\n",
    "print(vehicle, gnss)"
   ]
  },
  {
   "cell_type": "code",
   "execution_count": null,
   "id": "dce4d72a",
   "metadata": {},
   "outputs": [
    {
     "name": "stdout",
     "output_type": "stream",
     "text": [
      "GNSS = (-0.00021983009746406879, -0.0005807149257589768, 1.996480107307434)\n",
      "Location = (-64.6448745727539, 24.47144889831543, -0.003519897349178791)\n"
     ]
    }
   ],
   "source": [
    "gnss_data = None\n",
    "\n",
    "def gnss_callback(data):\n",
    "    global gnss_data\n",
    "    gnss_data = data\n",
    "\n",
    "gnss.listen(gnss_callback)\n",
    "\n",
    "# Wait until data comes in\n",
    "while gnss_data is None:\n",
    "    time.sleep(0.1)\n",
    "\n",
    "lat = gnss_data.latitude\n",
    "lon = gnss_data.longitude\n",
    "alt = gnss_data.altitude\n",
    "\n",
    "carla_loc = vehicle.get_transform().location\n",
    "print(f\"GNSS = ({lat}, {lon}, {alt})\")\n",
    "print(f\"Location = ({carla_loc.x}, {carla_loc.y}, {carla_loc.z})\")\n"
   ]
  },
  {
   "cell_type": "code",
   "execution_count": 13,
   "id": "9d2a4908",
   "metadata": {},
   "outputs": [
    {
     "name": "stdout",
     "output_type": "stream",
     "text": [
      "GNSS = (-0.00022121913406181193, -6.453951494285637e-05, 1.9992948770523071)\n",
      "Location = (-7.1847381591796875, 24.626001358032227, -0.0007050705025903881)\n"
     ]
    }
   ],
   "source": [
    "# Wait until data comes in\n",
    "while gnss_data is None:\n",
    "    time.sleep(0.1)\n",
    "\n",
    "lat = gnss_data.latitude\n",
    "lon = gnss_data.longitude\n",
    "alt = gnss_data.altitude\n",
    "\n",
    "carla_loc = vehicle.get_transform().location\n",
    "print(f\"GNSS = ({lat}, {lon}, {alt})\")\n",
    "print(f\"Location = ({carla_loc.x}, {carla_loc.y}, {carla_loc.z})\")"
   ]
  },
  {
   "cell_type": "code",
   "execution_count": null,
   "id": "2d6812d9",
   "metadata": {},
   "outputs": [],
   "source": [
    "GNSS = (-0.00021983009746406879, -0.0005807149257589768, 1.996480107307434)\n",
    "Location = (-64.6448745727539, 24.47144889831543, -0.003519897349178791)\n",
    "\n",
    "GNSS = (-0.00022035828743582897, -0.0003889849722697718, 1.9989652633666992)\n",
    "Location = (-43.30065155029297, 24.530176162719727, -0.001034431392326951)\n",
    "\n",
    "GNSS = (-0.00022079931669338748, -0.00022790756398132856, 1.9992910623550415)\n",
    "Location = (-25.37077522277832, 24.579267501831055, -0.0007089614518918097)\n",
    "\n",
    "GNSS = (-0.00022121913406181193, -6.453951494285637e-05, 1.9992948770523071)\n",
    "Location = (-7.1847381591796875, 24.626001358032227, -0.0007050705025903881)"
   ]
  },
  {
   "cell_type": "code",
   "execution_count": 8,
   "id": "cb63c1a9",
   "metadata": {},
   "outputs": [],
   "source": [
    "map = world.get_map()"
   ]
  },
  {
   "cell_type": "code",
   "execution_count": 11,
   "id": "faa6c2c7",
   "metadata": {},
   "outputs": [
    {
     "name": "stdout",
     "output_type": "stream",
     "text": [
      "Transform(Location(x=-64.644844, y=24.471010, z=0.600000), Rotation(pitch=0.000000, yaw=0.159198, roll=0.000000))\n"
     ]
    }
   ],
   "source": [
    "print(map.get_spawn_points()[0])"
   ]
  },
  {
   "cell_type": "code",
   "execution_count": null,
   "id": "5f64db5e",
   "metadata": {},
   "outputs": [
    {
     "name": "stdout",
     "output_type": "stream",
     "text": [
      "Location(x=-64.644844, y=24.471010, z=0.600000)\n",
      "GeoLocation(latitude=-0.000220, longitude=-0.000581, altitude=0.600000)\n"
     ]
    }
   ],
   "source": [
    "start_location = world.get_map().get_spawn_points()[0].location\n",
    "geo = world.get_map().transform_to_geolocation(start_location)\n",
    "\n",
    "print(start_location)\n",
    "print(geo)"
   ]
  },
  {
   "cell_type": "code",
   "execution_count": 14,
   "id": "a6879b91",
   "metadata": {},
   "outputs": [],
   "source": [
    "def gnss_to_location(lat, lon):\n",
    "    x = -14418.6285 * lat + 111279.5690 * lon - 3.19252014\n",
    "    y = -109660.6210 * lat +    4.33686914 * lon + 0.367254638\n",
    "    return carla.Location(x=x, y=y, z=0.0)\n"
   ]
  },
  {
   "cell_type": "code",
   "execution_count": 22,
   "id": "68bd7e1e",
   "metadata": {},
   "outputs": [],
   "source": [
    "# 1. Convert start and goal GNSS to CARLA locations\n",
    "start_lat = -0.000220\n",
    "start_lon = -0.000581\n",
    "goal_lat = -0.00022121913406181193\n",
    "goal_lon =   -6.453951494285637\n",
    "start_loc = gnss_to_location(start_lat, start_lon)\n",
    "goal_loc  = gnss_to_location(goal_lat,  goal_lon)\n",
    "\n",
    "# 2. Plan the route\n",
    "from agents.navigation.global_route_planner import GlobalRoutePlanner\n",
    "grp = GlobalRoutePlanner(world.get_map(), sampling_resolution=2.0)\n",
    "route = grp.trace_route(start_loc, goal_loc)\n",
    "\n",
    "# 3. Visualize\n",
    "for wp, _ in route:\n",
    "    world.debug.draw_point(wp.transform.location + carla.Location(z=0.5),\n",
    "                           size=0.2,\n",
    "                           color=carla.Color(0,255,0),\n",
    "                           life_time=30.0)\n"
   ]
  },
  {
   "cell_type": "code",
   "execution_count": 8,
   "id": "76deff05",
   "metadata": {},
   "outputs": [
    {
     "name": "stdout",
     "output_type": "stream",
     "text": [
      "Actor(id=31, type=sensor.other.imu)\n"
     ]
    }
   ],
   "source": [
    "for actor in world.get_actors().filter(\"*imu*\"):\n",
    "    x = actor\n",
    "    print(actor)"
   ]
  },
  {
   "cell_type": "code",
   "execution_count": 9,
   "id": "3d5fe42e",
   "metadata": {},
   "outputs": [
    {
     "ename": "ArgumentError",
     "evalue": "Python argument types in\n    Sensor.listen(ServerSideSensor)\ndid not match C++ signature:\n    listen(carla::client::Sensor {lvalue}, boost::python::api::object callback)",
     "output_type": "error",
     "traceback": [
      "\u001b[0;31m---------------------------------------------------------------------------\u001b[0m",
      "\u001b[0;31mArgumentError\u001b[0m                             Traceback (most recent call last)",
      "\u001b[0;32m/tmp/ipykernel_334588/666635600.py\u001b[0m in \u001b[0;36m<module>\u001b[0;34m\u001b[0m\n\u001b[0;32m----> 1\u001b[0;31m \u001b[0mx\u001b[0m\u001b[0;34m.\u001b[0m\u001b[0mlisten\u001b[0m\u001b[0;34m(\u001b[0m\u001b[0;34m)\u001b[0m\u001b[0;34m\u001b[0m\u001b[0;34m\u001b[0m\u001b[0m\n\u001b[0m",
      "\u001b[0;31mArgumentError\u001b[0m: Python argument types in\n    Sensor.listen(ServerSideSensor)\ndid not match C++ signature:\n    listen(carla::client::Sensor {lvalue}, boost::python::api::object callback)"
     ]
    }
   ],
   "source": [
    "x.listen()"
   ]
  },
  {
   "cell_type": "code",
   "execution_count": 46,
   "id": "8beb4155",
   "metadata": {},
   "outputs": [
    {
     "name": "stdout",
     "output_type": "stream",
     "text": [
      "Rotation(pitch=0.000068, yaw=98.611740, roll=0.000000)\n"
     ]
    }
   ],
   "source": [
    "x = vehicle.get_transform().rotation\n",
    "print(x)"
   ]
  },
  {
   "cell_type": "code",
   "execution_count": 28,
   "id": "2f115164",
   "metadata": {},
   "outputs": [
    {
     "name": "stdout",
     "output_type": "stream",
     "text": [
      "<class 'float'>\n"
     ]
    }
   ],
   "source": [
    "print(type(x.rotation.yaw))"
   ]
  },
  {
   "cell_type": "code",
   "execution_count": 30,
   "id": "384ae588",
   "metadata": {},
   "outputs": [],
   "source": [
    "import math\n",
    "def euler_to_quaternion():\n",
    "    yaw, roll = 0, 0\n",
    "    pitch= vehicle.get_transform().rotation.yaw\n",
    "    cy = math.cos(yaw * 0.5)\n",
    "    sy = math.sin(yaw * 0.5)\n",
    "    cp = math.cos(pitch * 0.5)\n",
    "    sp = math.sin(pitch * 0.5)\n",
    "    cr = math.cos(roll * 0.5)\n",
    "    sr = math.sin(roll * 0.5)\n",
    "\n",
    "    return {\n",
    "        \"w\": cr * cp * cy + sr * sp * sy,\n",
    "        \"x\": sr * cp * cy - cr * sp * sy,\n",
    "        \"y\": cr * sp * cy + sr * cp * sy,\n",
    "        \"z\": cr * cp * sy - sr * sp * cy\n",
    "    }"
   ]
  },
  {
   "cell_type": "code",
   "execution_count": 40,
   "id": "83b7faeb",
   "metadata": {},
   "outputs": [],
   "source": [
    "x = euler_to_quaternion()"
   ]
  },
  {
   "cell_type": "code",
   "execution_count": 38,
   "id": "f33d9cc7",
   "metadata": {},
   "outputs": [
    {
     "name": "stdout",
     "output_type": "stream",
     "text": [
      "w x y z\n"
     ]
    }
   ],
   "source": [
    "print(x, y, z, w)"
   ]
  },
  {
   "cell_type": "code",
   "execution_count": 41,
   "id": "f21da3f4",
   "metadata": {},
   "outputs": [
    {
     "name": "stdout",
     "output_type": "stream",
     "text": [
      "{'w': 0.5738374605835068, 'x': 0.0, 'y': -0.8189692111618557, 'z': 0.0}\n"
     ]
    }
   ],
   "source": [
    "print(x)"
   ]
  },
  {
   "cell_type": "code",
   "execution_count": 43,
   "id": "1a0f6e99",
   "metadata": {},
   "outputs": [
    {
     "name": "stdout",
     "output_type": "stream",
     "text": [
      "0.5738374605835068\n"
     ]
    }
   ],
   "source": [
    "print(x['w'])"
   ]
  },
  {
   "cell_type": "code",
   "execution_count": 6,
   "id": "8ae86aea",
   "metadata": {},
   "outputs": [
    {
     "name": "stdout",
     "output_type": "stream",
     "text": [
      "ActorBlueprint(id=sensor.other.lane_invasion,tags=[lane_invasion, other, sensor])\n"
     ]
    }
   ],
   "source": [
    "for ac in world.get_blueprint_library().filter(\"*lane*\"):\n",
    "    print(ac)"
   ]
  },
  {
   "cell_type": "code",
   "execution_count": null,
   "id": "734fd1d4",
   "metadata": {},
   "outputs": [],
   "source": []
  }
 ],
 "metadata": {
  "kernelspec": {
   "display_name": "carla_sim_15",
   "language": "python",
   "name": "python3"
  },
  "language_info": {
   "codemirror_mode": {
    "name": "ipython",
    "version": 3
   },
   "file_extension": ".py",
   "mimetype": "text/x-python",
   "name": "python",
   "nbconvert_exporter": "python",
   "pygments_lexer": "ipython3",
   "version": "3.7.12"
  }
 },
 "nbformat": 4,
 "nbformat_minor": 5
}
