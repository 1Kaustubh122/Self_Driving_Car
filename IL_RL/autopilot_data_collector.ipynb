{
 "cells": [
  {
   "cell_type": "code",
   "execution_count": 1,
   "id": "632d21de",
   "metadata": {},
   "outputs": [],
   "source": [
    "import os\n",
    "import sys\n",
    "import cv2\n",
    "import zmq\n",
    "import time\n",
    "import math\n",
    "import json\n",
    "import carla\n",
    "import pickle\n",
    "import random\n",
    "import numpy as np\n",
    "from threading import Lock\n",
    "sys.path.append(r'/home/avcem/CarlaUE4/PythonAPI/carla')\n",
    "from agents.navigation.global_route_planner import GlobalRoutePlanner"
   ]
  },
  {
   "cell_type": "code",
   "execution_count": 2,
   "id": "8305fbf6",
   "metadata": {},
   "outputs": [],
   "source": [
    "path = \"dataset_autopilot\"\n",
    "os.makedirs(path, exist_ok=True)"
   ]
  },
  {
   "cell_type": "code",
   "execution_count": 3,
   "id": "eb297e26",
   "metadata": {},
   "outputs": [],
   "source": [
    "client = carla.Client('localhost', 2000)\n",
    "client.set_timeout(10.0)\n",
    "world = client.get_world()\n",
    "traffic_manager = client.get_trafficmanager()\n",
    "blueprint = world.get_blueprint_library()"
   ]
  },
  {
   "cell_type": "code",
   "execution_count": 4,
   "id": "c337281c",
   "metadata": {},
   "outputs": [],
   "source": [
    "# Destroying old actors i.e old sensors and vehicles\n",
    "# for x in world.get_actors().filter('*sensor*'):\n",
    "#     x.destroy()\n",
    "# for x in world.get_actors().filter('*vehicle*'):\n",
    "#     x.destroy()\n",
    "\n",
    "# Blueprint of the vehicles and sensors\n",
    "vehicle_bp = blueprint.find('vehicle.volkswagen.t2_2021')\n",
    "camera_bp = blueprint.find('sensor.camera.rgb')\n",
    "imu_bp = blueprint.find('sensor.other.imu')\n",
    "gnss_bp = blueprint.find('sensor.other.gnss')"
   ]
  },
  {
   "cell_type": "code",
   "execution_count": 5,
   "id": "6c94b4f7",
   "metadata": {},
   "outputs": [],
   "source": [
    "spawn_points = world.get_map().get_spawn_points()"
   ]
  },
  {
   "cell_type": "code",
   "execution_count": 6,
   "id": "40603306",
   "metadata": {},
   "outputs": [],
   "source": [
    "camera_bp.set_attribute('image_size_x', '640')\n",
    "camera_bp.set_attribute('image_size_y', '360')\n",
    "image = None\n",
    "camera_transform = carla.Transform(carla.Location(z=2.5, x=0.65))\n",
    "gnss_transform = carla.Transform(carla.Location(z=2.0))\n",
    "imu_transform = carla.Transform(carla.Location(z=2.0))\n",
    "gnss = None\n",
    "imu = None\n",
    "vehicle = world.try_spawn_actor(vehicle_bp, random.choice(spawn_points))"
   ]
  },
  {
   "cell_type": "code",
   "execution_count": 7,
   "id": "1a525f6b",
   "metadata": {},
   "outputs": [],
   "source": [
    "def euler_to_quaternion():\n",
    "    pitch, roll = 0, 0\n",
    "    yaw=vehicle.get_transform().rotation.yaw\n",
    "    cy = math.cos(yaw * 0.5)\n",
    "    sy = math.sin(yaw * 0.5)\n",
    "    cp = math.cos(pitch * 0.5)\n",
    "    sp = math.sin(pitch * 0.5)\n",
    "    cr = math.cos(roll * 0.5)\n",
    "    sr = math.sin(roll * 0.5)\n",
    "\n",
    "    return {\n",
    "        \"w\": cr * cp * cy + sr * sp * sy,\n",
    "        \"x\": sr * cp * cy - cr * sp * sy,\n",
    "        \"y\": cr * sp * cy + sr * cp * sy,\n",
    "        \"z\": cr * cp * sy - sr * sp * cy\n",
    "    }\n",
    "\n",
    "# Callbacks\n",
    "def image_callback(data):\n",
    "    global image\n",
    "    array = np.frombuffer(data.raw_data, dtype=np.uint8)\n",
    "    array = np.reshape(array, (data.height, data.width, 4))[:, :, :3]\n",
    "    image = array\n",
    "def gnss_callback(event):\n",
    "    global gnss\n",
    "    gnss = {\n",
    "        \"latitude\": event.latitude,\n",
    "        \"longitude\": event.longitude\n",
    "    }\n",
    "    \n",
    "def imu_callback(event):\n",
    "    global imu\n",
    "    imu = {\n",
    "        \"orientation\": euler_to_quaternion(),\n",
    "        \"orientation_covariance\": [0.0]*9,  \n",
    "        \"angular_velocity\": {\n",
    "            \"x\": event.gyroscope.x,\n",
    "            \"y\": event.gyroscope.y,\n",
    "            \"z\": event.gyroscope.z\n",
    "        },\n",
    "        \"angular_velocity_covariance\": [0.0]*9,  \n",
    "        \"linear_acceleration\": {\n",
    "            \"x\": event.accelerometer.x,\n",
    "            \"y\": event.accelerometer.y,\n",
    "            \"z\": event.accelerometer.z\n",
    "        },\n",
    "        \"linear_acceleration_covariance\": [0.0]*9 \n",
    "    }"
   ]
  },
  {
   "cell_type": "code",
   "execution_count": 8,
   "id": "87cab7aa",
   "metadata": {},
   "outputs": [],
   "source": [
    "imu_callbackvehicle = world.try_spawn_actor(vehicle_bp,random.choice(spawn_points))\n",
    "camera_sensor = world.spawn_actor(camera_bp, camera_transform, attach_to=vehicle)\n",
    "gnss_sensor = world.spawn_actor(gnss_bp, gnss_transform, attach_to=vehicle)\n",
    "imu_sensor = world.spawn_actor(imu_bp, imu_transform, attach_to=vehicle)"
   ]
  },
  {
   "cell_type": "code",
   "execution_count": 9,
   "id": "8f3a5c33",
   "metadata": {},
   "outputs": [],
   "source": [
    "# traffic_manager.ignore_lights_percentage(vehicle, 100)\n",
    "# traffic_manager.ignore_signs_percentage(vehicle, 100)\n",
    "# traffic_manager.ignore_walkers_percentage(vehicle, 100)\n",
    "# traffic_manager.ignore_vehicles_percentage(vehicle, 100)"
   ]
  },
  {
   "cell_type": "code",
   "execution_count": 10,
   "id": "0d959c4f",
   "metadata": {},
   "outputs": [],
   "source": [
    "camera_sensor.listen(lambda data: image_callback(data))\n",
    "gnss_sensor.listen(lambda data: gnss_callback(data))\n",
    "imu_sensor.listen(lambda data: imu_callback(data))"
   ]
  },
  {
   "cell_type": "code",
   "execution_count": 11,
   "id": "52ebd095",
   "metadata": {},
   "outputs": [],
   "source": [
    "frame = {'count': 0}\n",
    "data_log = []"
   ]
  },
  {
   "cell_type": "code",
   "execution_count": null,
   "id": "b12a5c99",
   "metadata": {},
   "outputs": [],
   "source": [
    "def send_data(image):\n",
    "    img_name = f\"{frame['count']:05g}.png\"\n",
    "    cv2.imwrite(os.path.join(path, img_name), image)\n",
    "\n",
    "    control = vehicle.get_control()\n",
    "    throttle = control.throttle\n",
    "    steer = control.steer\n",
    "    brake = control.brake\n",
    "\n",
    "    data_log.append({\n",
    "        'img': img_name,\n",
    "        'steer': steer,\n",
    "        'throttle': throttle,\n",
    "        'brake': brake,\n",
    "        'imu': imu,\n",
    "        'gnss': gnss\n",
    "    })\n",
    "\n",
    "    frame['count'] += 1\n",
    "    if frame['count'] >= 10000:\n",
    "        camera_sensor.stop()"
   ]
  },
  {
   "cell_type": "code",
   "execution_count": null,
   "id": "de548849",
   "metadata": {},
   "outputs": [],
   "source": [
    "# for i in range(10000):\n",
    "#     try:\n",
    "#         save_data(image)\n",
    "#         time.sleep(0.1)\n",
    "#     finally:\n",
    "#         with open(os.path.join(path, \"logs.json\"), \"w\") as f:\n",
    "#             json.dump(data_log, f, indent=2)\n",
    "#             print(\"Done logging\")"
   ]
  },
  {
   "cell_type": "code",
   "execution_count": 17,
   "id": "e4d6c385",
   "metadata": {},
   "outputs": [],
   "source": [
    "vehicle.set_autopilot(True)\n",
    "\n",
    "while True:\n",
    "    cv2.imshow(\"Camera\", image)\n",
    "    if cv2.waitKey(1) == ord('q'):\n",
    "        break\n",
    "cv2.destroyAllWindows()"
   ]
  },
  {
   "cell_type": "code",
   "execution_count": null,
   "id": "5f4d0b50",
   "metadata": {},
   "outputs": [],
   "source": [
    "port = 6969\n",
    "context = zmq.Context()\n",
    "socket = context.socket(zmq.REP)\n",
    "socket.bind(f\"tcp://*:{port}\")"
   ]
  },
  {
   "cell_type": "code",
   "execution_count": null,
   "id": "1bd61501",
   "metadata": {},
   "outputs": [],
   "source": [
    "try:\n",
    "    payload = {\n",
    "            image, steer\n",
    "        }\n",
    "        self.socket.send(pickle.dumps(payload))\n",
    "except KeyboardInterrupt:\n",
    "    print(\"Interrupted by user\")\n",
    "except Exception as e:\n",
    "    print(f\"Fatal Error: {e}\")\n",
    "finally:\n",
    "    try:\n",
    "        socket.unbind(f\"tcp://*:{port}\")\n",
    "        print(\"Socket unbound.\")\n",
    "    except zmq.ZMQError as e:\n",
    "        print(f\"ZMQ unbind error: {e}\")\n",
    "        socket.close()\n",
    "        context.term()\n"
   ]
  },
  {
   "cell_type": "code",
   "execution_count": null,
   "id": "dc2b63a4",
   "metadata": {},
   "outputs": [],
   "source": [
    "print(vehicle.get_control())"
   ]
  },
  {
   "cell_type": "code",
   "execution_count": null,
   "id": "9e36df80",
   "metadata": {},
   "outputs": [],
   "source": [
    "for ac in world.get_actors().filter('*vehicle*'):\n",
    "    # ac.destroy()\n",
    "    print(ac)"
   ]
  },
  {
   "cell_type": "code",
   "execution_count": null,
   "id": "1c7d23c1",
   "metadata": {},
   "outputs": [],
   "source": []
  },
  {
   "cell_type": "code",
   "execution_count": null,
   "id": "9f8b85f2",
   "metadata": {},
   "outputs": [],
   "source": []
  }
 ],
 "metadata": {
  "kernelspec": {
   "display_name": "carla_sim",
   "language": "python",
   "name": "python3"
  },
  "language_info": {
   "codemirror_mode": {
    "name": "ipython",
    "version": 3
   },
   "file_extension": ".py",
   "mimetype": "text/x-python",
   "name": "python",
   "nbconvert_exporter": "python",
   "pygments_lexer": "ipython3",
   "version": "3.7.16"
  }
 },
 "nbformat": 4,
 "nbformat_minor": 5
}
