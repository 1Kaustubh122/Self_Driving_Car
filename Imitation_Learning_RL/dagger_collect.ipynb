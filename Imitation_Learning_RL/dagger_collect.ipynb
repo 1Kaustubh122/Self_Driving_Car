{
 "cells": [
  {
   "cell_type": "code",
   "execution_count": 1,
   "id": "c1904698",
   "metadata": {},
   "outputs": [
    {
     "name": "stderr",
     "output_type": "stream",
     "text": [
      "/home/kaustubh/miniconda3/envs/carla_15/lib/python3.10/site-packages/torchvision/models/_utils.py:208: UserWarning: The parameter 'pretrained' is deprecated since 0.13 and may be removed in the future, please use 'weights' instead.\n",
      "  warnings.warn(\n",
      "/home/kaustubh/miniconda3/envs/carla_15/lib/python3.10/site-packages/torchvision/models/_utils.py:223: UserWarning: Arguments other than a weight enum or `None` for 'weights' are deprecated since 0.13 and may be removed in the future. The current behavior is equivalent to passing `weights=None`.\n",
      "  warnings.warn(msg)\n"
     ]
    }
   ],
   "source": [
    "import os\n",
    "import sys\n",
    "import cv2\n",
    "import time\n",
    "import json\n",
    "import carla\n",
    "import torch\n",
    "import numpy as np\n",
    "import torch.nn.functional as F\n",
    "import torchvision.transforms as transforms\n",
    "from PIL import Image  \n",
    "from process_frame import process_frame\n",
    "from model.ImitationCNN import ImitationCNN\n",
    "from model.ImitationResNet import ImitationResNet"
   ]
  },
  {
   "cell_type": "code",
   "execution_count": 2,
   "id": "5a0726c3",
   "metadata": {},
   "outputs": [],
   "source": [
    "sys.path.append(r'/home/kaustubh/CARLA_15/PythonAPI/carla')\n",
    "from agents.navigation.basic_agent import BasicAgent\n",
    "from agents.navigation.global_route_planner import GlobalRoutePlanner"
   ]
  },
  {
   "cell_type": "code",
   "execution_count": 3,
   "id": "ddaa4b57",
   "metadata": {},
   "outputs": [],
   "source": [
    "device = torch.device(\"cuda\" if torch.cuda.is_available() else \"cpu\")\n",
    "MODEL_PATH = \"models/bc_model.pth\"\n",
    "IMG_RGB = os.path.join('DAgger/rgb', \"DAgger_image\")\n",
    "IMG_SEG = os.path.join('DAgger/seg', \"DAgger_image\")\n",
    "JSON_PATH = os.path.join('DAgger', 'DAgger_log')\n",
    "MODEL_PATH = \"models/bc_model.pth\"\n",
    "dagger_log = []\n",
    "\n",
    "os.makedirs(IMG_RGB, exist_ok=True)\n",
    "os.makedirs(IMG_SEG, exist_ok=True)\n",
    "os.makedirs(JSON_PATH, exist_ok=True)"
   ]
  },
  {
   "cell_type": "code",
   "execution_count": 4,
   "id": "df983477",
   "metadata": {},
   "outputs": [
    {
     "name": "stderr",
     "output_type": "stream",
     "text": [
      "/home/kaustubh/miniconda3/envs/carla_15/lib/python3.10/site-packages/torchvision/models/_utils.py:223: UserWarning: Arguments other than a weight enum or `None` for 'weights' are deprecated since 0.13 and may be removed in the future. The current behavior is equivalent to passing `weights=ResNet18_Weights.IMAGENET1K_V1`. You can also use `weights=ResNet18_Weights.DEFAULT` to get the most up-to-date weights.\n",
      "  warnings.warn(msg)\n"
     ]
    },
    {
     "data": {
      "text/plain": [
       "ImitationResNet(\n",
       "  (conv1): Conv2d(5, 64, kernel_size=(7, 7), stride=(2, 2), padding=(3, 3), bias=False)\n",
       "  (bn1): BatchNorm2d(64, eps=1e-05, momentum=0.1, affine=True, track_running_stats=True)\n",
       "  (relu): ReLU(inplace=True)\n",
       "  (maxpool): MaxPool2d(kernel_size=3, stride=2, padding=1, dilation=1, ceil_mode=False)\n",
       "  (layer1): Sequential(\n",
       "    (0): BasicBlock(\n",
       "      (conv1): Conv2d(64, 64, kernel_size=(3, 3), stride=(1, 1), padding=(1, 1), bias=False)\n",
       "      (bn1): BatchNorm2d(64, eps=1e-05, momentum=0.1, affine=True, track_running_stats=True)\n",
       "      (relu): ReLU(inplace=True)\n",
       "      (conv2): Conv2d(64, 64, kernel_size=(3, 3), stride=(1, 1), padding=(1, 1), bias=False)\n",
       "      (bn2): BatchNorm2d(64, eps=1e-05, momentum=0.1, affine=True, track_running_stats=True)\n",
       "    )\n",
       "    (1): BasicBlock(\n",
       "      (conv1): Conv2d(64, 64, kernel_size=(3, 3), stride=(1, 1), padding=(1, 1), bias=False)\n",
       "      (bn1): BatchNorm2d(64, eps=1e-05, momentum=0.1, affine=True, track_running_stats=True)\n",
       "      (relu): ReLU(inplace=True)\n",
       "      (conv2): Conv2d(64, 64, kernel_size=(3, 3), stride=(1, 1), padding=(1, 1), bias=False)\n",
       "      (bn2): BatchNorm2d(64, eps=1e-05, momentum=0.1, affine=True, track_running_stats=True)\n",
       "    )\n",
       "  )\n",
       "  (layer2): Sequential(\n",
       "    (0): BasicBlock(\n",
       "      (conv1): Conv2d(64, 128, kernel_size=(3, 3), stride=(2, 2), padding=(1, 1), bias=False)\n",
       "      (bn1): BatchNorm2d(128, eps=1e-05, momentum=0.1, affine=True, track_running_stats=True)\n",
       "      (relu): ReLU(inplace=True)\n",
       "      (conv2): Conv2d(128, 128, kernel_size=(3, 3), stride=(1, 1), padding=(1, 1), bias=False)\n",
       "      (bn2): BatchNorm2d(128, eps=1e-05, momentum=0.1, affine=True, track_running_stats=True)\n",
       "      (downsample): Sequential(\n",
       "        (0): Conv2d(64, 128, kernel_size=(1, 1), stride=(2, 2), bias=False)\n",
       "        (1): BatchNorm2d(128, eps=1e-05, momentum=0.1, affine=True, track_running_stats=True)\n",
       "      )\n",
       "    )\n",
       "    (1): BasicBlock(\n",
       "      (conv1): Conv2d(128, 128, kernel_size=(3, 3), stride=(1, 1), padding=(1, 1), bias=False)\n",
       "      (bn1): BatchNorm2d(128, eps=1e-05, momentum=0.1, affine=True, track_running_stats=True)\n",
       "      (relu): ReLU(inplace=True)\n",
       "      (conv2): Conv2d(128, 128, kernel_size=(3, 3), stride=(1, 1), padding=(1, 1), bias=False)\n",
       "      (bn2): BatchNorm2d(128, eps=1e-05, momentum=0.1, affine=True, track_running_stats=True)\n",
       "    )\n",
       "  )\n",
       "  (layer3): Sequential(\n",
       "    (0): BasicBlock(\n",
       "      (conv1): Conv2d(128, 256, kernel_size=(3, 3), stride=(2, 2), padding=(1, 1), bias=False)\n",
       "      (bn1): BatchNorm2d(256, eps=1e-05, momentum=0.1, affine=True, track_running_stats=True)\n",
       "      (relu): ReLU(inplace=True)\n",
       "      (conv2): Conv2d(256, 256, kernel_size=(3, 3), stride=(1, 1), padding=(1, 1), bias=False)\n",
       "      (bn2): BatchNorm2d(256, eps=1e-05, momentum=0.1, affine=True, track_running_stats=True)\n",
       "      (downsample): Sequential(\n",
       "        (0): Conv2d(128, 256, kernel_size=(1, 1), stride=(2, 2), bias=False)\n",
       "        (1): BatchNorm2d(256, eps=1e-05, momentum=0.1, affine=True, track_running_stats=True)\n",
       "      )\n",
       "    )\n",
       "    (1): BasicBlock(\n",
       "      (conv1): Conv2d(256, 256, kernel_size=(3, 3), stride=(1, 1), padding=(1, 1), bias=False)\n",
       "      (bn1): BatchNorm2d(256, eps=1e-05, momentum=0.1, affine=True, track_running_stats=True)\n",
       "      (relu): ReLU(inplace=True)\n",
       "      (conv2): Conv2d(256, 256, kernel_size=(3, 3), stride=(1, 1), padding=(1, 1), bias=False)\n",
       "      (bn2): BatchNorm2d(256, eps=1e-05, momentum=0.1, affine=True, track_running_stats=True)\n",
       "    )\n",
       "  )\n",
       "  (layer4): Sequential(\n",
       "    (0): BasicBlock(\n",
       "      (conv1): Conv2d(256, 512, kernel_size=(3, 3), stride=(2, 2), padding=(1, 1), bias=False)\n",
       "      (bn1): BatchNorm2d(512, eps=1e-05, momentum=0.1, affine=True, track_running_stats=True)\n",
       "      (relu): ReLU(inplace=True)\n",
       "      (conv2): Conv2d(512, 512, kernel_size=(3, 3), stride=(1, 1), padding=(1, 1), bias=False)\n",
       "      (bn2): BatchNorm2d(512, eps=1e-05, momentum=0.1, affine=True, track_running_stats=True)\n",
       "      (downsample): Sequential(\n",
       "        (0): Conv2d(256, 512, kernel_size=(1, 1), stride=(2, 2), bias=False)\n",
       "        (1): BatchNorm2d(512, eps=1e-05, momentum=0.1, affine=True, track_running_stats=True)\n",
       "      )\n",
       "    )\n",
       "    (1): BasicBlock(\n",
       "      (conv1): Conv2d(512, 512, kernel_size=(3, 3), stride=(1, 1), padding=(1, 1), bias=False)\n",
       "      (bn1): BatchNorm2d(512, eps=1e-05, momentum=0.1, affine=True, track_running_stats=True)\n",
       "      (relu): ReLU(inplace=True)\n",
       "      (conv2): Conv2d(512, 512, kernel_size=(3, 3), stride=(1, 1), padding=(1, 1), bias=False)\n",
       "      (bn2): BatchNorm2d(512, eps=1e-05, momentum=0.1, affine=True, track_running_stats=True)\n",
       "    )\n",
       "  )\n",
       "  (avgpool): AdaptiveAvgPool2d(output_size=(1, 1))\n",
       "  (lstm): LSTM(512, 256, batch_first=True)\n",
       "  (fc): Linear(in_features=256, out_features=512, bias=True)\n",
       "  (steer_head): Linear(in_features=512, out_features=1, bias=True)\n",
       "  (throttle_head): Linear(in_features=512, out_features=1, bias=True)\n",
       "  (brake_head): Linear(in_features=512, out_features=1, bias=True)\n",
       ")"
      ]
     },
     "execution_count": 4,
     "metadata": {},
     "output_type": "execute_result"
    }
   ],
   "source": [
    "# model = ImitationCNN().to(device)\n",
    "model = ImitationResNet().to(device)\n",
    "model.load_state_dict(torch.load(MODEL_PATH)['model_state_dict'])\n",
    "model.eval()"
   ]
  },
  {
   "cell_type": "code",
   "execution_count": 5,
   "id": "d8ed18ca",
   "metadata": {},
   "outputs": [],
   "source": [
    "def pre_process(rgb_image, seg_image, transform):\n",
    "    rgb_tensor = transforms.ToTensor()(rgb_image)\n",
    "    seg_image = np.array(seg_image)\n",
    "    lane_mask = np.all(seg_image == [0, 255, 0], axis=2).astype(np.uint8)\n",
    "    obs_mask = np.all(seg_image == [255, 0, 0], axis=2).astype(np.uint8)\n",
    "    \n",
    "    seg_tensor = torch.tensor(np.stack([lane_mask, obs_mask], axis=0), dtype=torch.float32)\n",
    "    \n",
    "    if seg_tensor.shape[1:] != rgb_tensor.shape[1:]:\n",
    "        seg_tensor = F.interpolate(\n",
    "            seg_tensor.unsqueeze(0),\n",
    "            size=rgb_tensor.shape[1:],\n",
    "            mode='nearest'\n",
    "        ).squeeze(0)\n",
    "    \n",
    "    input_tensor = torch.cat([rgb_tensor, seg_tensor], dim=0)\n",
    "    \n",
    "    return input_tensor.unsqueeze(0).cuda()\n"
   ]
  },
  {
   "cell_type": "code",
   "execution_count": 6,
   "id": "e85cadde",
   "metadata": {},
   "outputs": [],
   "source": [
    "client = carla.Client('localhost', 2000)\n",
    "client.set_timeout(10.0)\n",
    "world = client.get_world()\n",
    "traffic_manager = client.get_trafficmanager()\n",
    "blueprint = world.get_blueprint_library()"
   ]
  },
  {
   "cell_type": "code",
   "execution_count": 7,
   "id": "dd9b9836",
   "metadata": {},
   "outputs": [],
   "source": [
    "vehicle_bp = blueprint.find('vehicle.volkswagen.t2_2021')\n",
    "camera_bp = blueprint.find('sensor.camera.rgb')"
   ]
  },
  {
   "cell_type": "code",
   "execution_count": 8,
   "id": "b1117364",
   "metadata": {},
   "outputs": [],
   "source": [
    "spawn_points = world.get_map().get_spawn_points()\n",
    "image = None"
   ]
  },
  {
   "cell_type": "code",
   "execution_count": 9,
   "id": "af1d08b5",
   "metadata": {},
   "outputs": [],
   "source": [
    "def image_callback(data):\n",
    "    global image\n",
    "    array = np.frombuffer(data.raw_data, dtype=np.uint8)\n",
    "    array = np.reshape(array, (data.height, data.width, 4))[:, :, :3]\n",
    "    image = array\n"
   ]
  },
  {
   "cell_type": "code",
   "execution_count": 19,
   "id": "cfa2e344",
   "metadata": {},
   "outputs": [
    {
     "name": "stdout",
     "output_type": "stream",
     "text": [
      "Actor(id=29, type=sensor.camera.rgb)\n",
      "Actor(id=28, type=vehicle.volkswagen.t2_2021)\n"
     ]
    }
   ],
   "source": [
    "for actor in world.get_actors().filter(\"*sensor*\"):\n",
    "    print(actor)\n",
    "    actor.destroy()\n",
    "for actor in world.get_actors().filter(\"*vehicle*\"):\n",
    "    print(actor)\n",
    "    actor.destroy()\n",
    "camera_bp.set_attribute('image_size_x', '640')\n",
    "camera_bp.set_attribute('image_size_y', '360')\n",
    "\n",
    "vehicle_length = 4.442184\n",
    "vehicle_width = 1.774566\n",
    "vehicle_height = 1.987206\n",
    "\n",
    "camera_location = carla.Location(\n",
    "    x=vehicle_length / 2.9 , \n",
    "    y=0,\n",
    "    z=2.2\n",
    ")\n",
    "\n",
    "camera_transform = carla.Transform(camera_location)\n",
    "\n",
    "vehicle = world.try_spawn_actor(vehicle_bp, spawn_points[0])\n",
    "camera_sensor = world.spawn_actor(camera_bp, camera_transform, attach_to=vehicle)\n"
   ]
  },
  {
   "cell_type": "code",
   "execution_count": 11,
   "id": "78db3b04",
   "metadata": {},
   "outputs": [],
   "source": [
    "camera_sensor.listen(lambda image: image_callback(image))"
   ]
  },
  {
   "cell_type": "code",
   "execution_count": 12,
   "id": "583994ea",
   "metadata": {},
   "outputs": [],
   "source": [
    "rgb_image = image\n",
    "seg_image = process_frame(image)\n",
    "transform = None"
   ]
  },
  {
   "cell_type": "code",
   "execution_count": 13,
   "id": "17dee283",
   "metadata": {},
   "outputs": [],
   "source": [
    "def pre_process(rgb_image, seg_image, transform):\n",
    "    \n",
    "    if transform:\n",
    "        rgb_tensor = transform(rgb_image)\n",
    "    else:\n",
    "        rgb_tensor = transforms.ToTensor()(rgb_image)\n",
    "        \n",
    "    seg_image = np.array(seg_image)\n",
    "    \n",
    "    lane_mask = np.all(seg_image == [0, 255, 0], axis=2).astype(np.uint8)\n",
    "    obs_mask = np.all(seg_image == [255, 0, 0], axis=2).astype(np.uint8)\n",
    "    \n",
    "    seg_tensor = torch.tensor(np.stack([lane_mask, obs_mask], axis=0), dtype=torch.float32)\n",
    "    \n",
    "    if seg_tensor.shape[1:] != rgb_tensor.shape[1:]:\n",
    "        seg_tensor = F.interpolate(\n",
    "            seg_tensor.unsqueeze(0),\n",
    "            size=rgb_tensor.shape[1:],\n",
    "            mode='nearest'\n",
    "        ).squeeze(0)\n",
    "    \n",
    "    input_tensor = torch.cat([rgb_tensor, seg_tensor], dim=0)\n",
    "    \n",
    "    return input_tensor"
   ]
  },
  {
   "cell_type": "code",
   "execution_count": null,
   "id": "ecfa8b02",
   "metadata": {},
   "outputs": [
    {
     "name": "stdout",
     "output_type": "stream",
     "text": [
      "-0.06070667505264282 0.8126466274261475 0.0\n",
      "-0.06070667505264282 0.8126466274261475 0.0\n",
      "-0.06070667505264282 0.8126466274261475 0.0\n",
      "-0.06065952032804489 0.8126171827316284 0.0\n",
      "-0.06065952032804489 0.8126171827316284 0.0\n",
      "-0.06065952032804489 0.8126171827316284 0.0\n",
      "-0.06065952032804489 0.8126171827316284 0.0\n",
      "-0.06065952032804489 0.8126171827316284 0.0\n",
      "-0.06065952032804489 0.8126171827316284 0.0\n",
      "-0.06065952032804489 0.8126171827316284 0.0\n",
      "-0.06065952032804489 0.8126171827316284 0.0\n",
      "-0.06065952032804489 0.8126171827316284 0.0\n",
      "-0.06065952032804489 0.8126171827316284 0.0\n",
      "-0.06065952032804489 0.8126171827316284 0.0\n",
      "-0.06065952032804489 0.8126171827316284 0.0\n",
      "-0.06065952032804489 0.8126171827316284 0.0\n"
     ]
    }
   ],
   "source": [
    "# # Testing Behaviour clonning\n",
    "with torch.no_grad():\n",
    "    while True:\n",
    "        input_tensor = pre_process(rgb_image, seg_image, transform).unsqueeze(0).to(device)\n",
    "        output = model(input_tensor)\n",
    "        # print(output)\n",
    "        steer, throttle, brake = output[0].cpu().numpy().tolist()\n",
    "        # steer = float(f\"{steer:.4f}\")\n",
    "        # steer = max(min(steer, 1.0), -1.0)    # [-1.0, 1.0]\n",
    "        # throttle = max(min(throttle, 1.0), 0.0)  # [0.0, 1.0]\n",
    "        brake = max(min(brake, 1.0), 0.0)\n",
    "        print(steer, throttle, brake)\n",
    "\n",
    "        vehicle.apply_control(carla.VehicleControl(\n",
    "            throttle=throttle,\n",
    "            steer=steer,\n",
    "            brake= 0 if brake < 0.7 else 1,\n",
    "            hand_brake=False))\n",
    "        \n"
   ]
  },
  {
   "cell_type": "code",
   "execution_count": 18,
   "id": "e8d8ecaf",
   "metadata": {},
   "outputs": [],
   "source": [
    "collision_bp = blueprint.find('sensor.other.collision')\n",
    "collision_sensor = world.spawn_actor(collision_bp, carla.Transform(), attach_to=vehicle)"
   ]
  },
  {
   "cell_type": "code",
   "execution_count": null,
   "id": "43acd465",
   "metadata": {},
   "outputs": [],
   "source": [
    "collision_detected = False\n",
    "def handle_collision(event):\n",
    "    global collision_detected\n",
    "    collision_detected = True\n",
    "collision_sensor.listen(handle_collision)"
   ]
  },
  {
   "cell_type": "code",
   "execution_count": 20,
   "id": "1305c207",
   "metadata": {},
   "outputs": [],
   "source": [
    "agent = BasicAgent(vehicle)"
   ]
  },
  {
   "cell_type": "code",
   "execution_count": 21,
   "id": "b32ad0ab",
   "metadata": {},
   "outputs": [],
   "source": [
    "import random"
   ]
  },
  {
   "cell_type": "code",
   "execution_count": 53,
   "id": "0c12d885",
   "metadata": {},
   "outputs": [],
   "source": [
    "goal = random.choice(spawn_points)\n",
    "destination = goal.location\n",
    "agent.set_destination(destination)"
   ]
  },
  {
   "cell_type": "code",
   "execution_count": 33,
   "id": "86d37cc8",
   "metadata": {},
   "outputs": [],
   "source": [
    "expert_control = agent.run_step()"
   ]
  },
  {
   "cell_type": "code",
   "execution_count": 35,
   "id": "ff2cfa86",
   "metadata": {},
   "outputs": [
    {
     "name": "stdout",
     "output_type": "stream",
     "text": [
      "VehicleControl(throttle=0.750000, steer=-0.083131, brake=0.000000, hand_brake=False, reverse=False, manual_gear_shift=False, gear=0)\n"
     ]
    }
   ],
   "source": [
    "print(expert_control)"
   ]
  },
  {
   "cell_type": "code",
   "execution_count": 54,
   "id": "4bcdeb9e",
   "metadata": {},
   "outputs": [
    {
     "name": "stdout",
     "output_type": "stream",
     "text": [
      "Transform(Location(x=-64.644844, y=24.471010, z=0.600000), Rotation(pitch=0.000000, yaw=0.159198, roll=0.000000))\n",
      "Transform(Location(x=-15.448323, y=-68.007065, z=0.600005), Rotation(pitch=0.000000, yaw=-179.403244, roll=0.000000))\n"
     ]
    }
   ],
   "source": [
    "print(spawn_points[0])\n",
    "print(goal)\n",
    "map_ = world.get_map()"
   ]
  },
  {
   "cell_type": "code",
   "execution_count": 55,
   "id": "59f5d405",
   "metadata": {},
   "outputs": [],
   "source": [
    "grp = GlobalRoutePlanner(map_, sampling_resolution=2.0)\n",
    "route = grp.trace_route(spawn_points[0].location, goal.location)\n",
    "# route_coords = [[wp.transform.location.x, wp.transform.location.y] for wp, _ in route]\n",
    "for wp, _ in route:\n",
    "    world.debug.draw_point(\n",
    "    wp.transform.location + carla.Location(z=0.5),\n",
    "    size=0.2,\n",
    "    color=carla.Color(0, 255, 0),\n",
    "    life_time=300.0\n",
    "                        )"
   ]
  },
  {
   "cell_type": "code",
   "execution_count": 25,
   "id": "6af709ac",
   "metadata": {},
   "outputs": [
    {
     "name": "stdout",
     "output_type": "stream",
     "text": [
      "VehicleControl(throttle=0.750000, steer=0.016869, brake=0.000000, hand_brake=False, reverse=False, manual_gear_shift=False, gear=0)\n"
     ]
    }
   ],
   "source": [
    "print(expert_control)"
   ]
  },
  {
   "cell_type": "code",
   "execution_count": null,
   "id": "4494ce8b",
   "metadata": {},
   "outputs": [
    {
     "ename": "KeyboardInterrupt",
     "evalue": "",
     "output_type": "error",
     "traceback": [
      "\u001b[0;31m---------------------------------------------------------------------------\u001b[0m",
      "\u001b[0;31mKeyboardInterrupt\u001b[0m                         Traceback (most recent call last)",
      "Cell \u001b[0;32mIn[57], line 4\u001b[0m\n\u001b[1;32m      1\u001b[0m \u001b[38;5;28;01mwhile\u001b[39;00m \u001b[38;5;28;01mTrue\u001b[39;00m:\n\u001b[1;32m      3\u001b[0m     \u001b[38;5;28;01mif\u001b[39;00m random\u001b[38;5;241m.\u001b[39mrandom() \u001b[38;5;241m<\u001b[39m \u001b[38;5;241m0.6\u001b[39m:\n\u001b[0;32m----> 4\u001b[0m         control \u001b[38;5;241m=\u001b[39m \u001b[43magent\u001b[49m\u001b[38;5;241;43m.\u001b[39;49m\u001b[43mrun_step\u001b[49m\u001b[43m(\u001b[49m\u001b[43m)\u001b[49m\n\u001b[1;32m      5\u001b[0m         vehicle\u001b[38;5;241m.\u001b[39mapply_control(control)\n\u001b[1;32m      7\u001b[0m     \u001b[38;5;28;01melse\u001b[39;00m:\n",
      "File \u001b[0;32m~/CARLA_15/PythonAPI/carla/agents/navigation/basic_agent.py:200\u001b[0m, in \u001b[0;36mBasicAgent.run_step\u001b[0;34m(self)\u001b[0m\n\u001b[1;32m    198\u001b[0m \u001b[38;5;66;03m# Check for possible vehicle obstacles\u001b[39;00m\n\u001b[1;32m    199\u001b[0m max_vehicle_distance \u001b[38;5;241m=\u001b[39m \u001b[38;5;28mself\u001b[39m\u001b[38;5;241m.\u001b[39m_base_vehicle_threshold \u001b[38;5;241m+\u001b[39m \u001b[38;5;28mself\u001b[39m\u001b[38;5;241m.\u001b[39m_speed_ratio \u001b[38;5;241m*\u001b[39m vehicle_speed\n\u001b[0;32m--> 200\u001b[0m affected_by_vehicle, _, _ \u001b[38;5;241m=\u001b[39m \u001b[38;5;28;43mself\u001b[39;49m\u001b[38;5;241;43m.\u001b[39;49m\u001b[43m_vehicle_obstacle_detected\u001b[49m\u001b[43m(\u001b[49m\u001b[43mvehicle_list\u001b[49m\u001b[43m,\u001b[49m\u001b[43m \u001b[49m\u001b[43mmax_vehicle_distance\u001b[49m\u001b[43m)\u001b[49m\n\u001b[1;32m    201\u001b[0m \u001b[38;5;28;01mif\u001b[39;00m affected_by_vehicle:\n\u001b[1;32m    202\u001b[0m     hazard_detected \u001b[38;5;241m=\u001b[39m \u001b[38;5;28;01mTrue\u001b[39;00m\n",
      "File \u001b[0;32m~/CARLA_15/PythonAPI/carla/agents/navigation/basic_agent.py:371\u001b[0m, in \u001b[0;36mBasicAgent._vehicle_obstacle_detected\u001b[0;34m(self, vehicle_list, max_distance, up_angle_th, low_angle_th, lane_offset)\u001b[0m\n\u001b[1;32m    367\u001b[0m ego_front_transform \u001b[38;5;241m=\u001b[39m ego_transform\n\u001b[1;32m    368\u001b[0m ego_front_transform\u001b[38;5;241m.\u001b[39mlocation \u001b[38;5;241m+\u001b[39m\u001b[38;5;241m=\u001b[39m carla\u001b[38;5;241m.\u001b[39mLocation(\n\u001b[1;32m    369\u001b[0m     \u001b[38;5;28mself\u001b[39m\u001b[38;5;241m.\u001b[39m_vehicle\u001b[38;5;241m.\u001b[39mbounding_box\u001b[38;5;241m.\u001b[39mextent\u001b[38;5;241m.\u001b[39mx \u001b[38;5;241m*\u001b[39m ego_transform\u001b[38;5;241m.\u001b[39mget_forward_vector())\n\u001b[0;32m--> 371\u001b[0m opposite_invasion \u001b[38;5;241m=\u001b[39m \u001b[38;5;28;43mabs\u001b[39;49m\u001b[43m(\u001b[49m\u001b[38;5;28;43mself\u001b[39;49m\u001b[38;5;241;43m.\u001b[39;49m\u001b[43m_offset\u001b[49m\u001b[43m)\u001b[49m \u001b[38;5;241m+\u001b[39m \u001b[38;5;28mself\u001b[39m\u001b[38;5;241m.\u001b[39m_vehicle\u001b[38;5;241m.\u001b[39mbounding_box\u001b[38;5;241m.\u001b[39mextent\u001b[38;5;241m.\u001b[39my \u001b[38;5;241m>\u001b[39m ego_wpt\u001b[38;5;241m.\u001b[39mlane_width \u001b[38;5;241m/\u001b[39m \u001b[38;5;241m2\u001b[39m\n\u001b[1;32m    372\u001b[0m use_bbs \u001b[38;5;241m=\u001b[39m \u001b[38;5;28mself\u001b[39m\u001b[38;5;241m.\u001b[39m_use_bbs_detection \u001b[38;5;129;01mor\u001b[39;00m opposite_invasion \u001b[38;5;129;01mor\u001b[39;00m ego_wpt\u001b[38;5;241m.\u001b[39mis_junction\n\u001b[1;32m    374\u001b[0m \u001b[38;5;66;03m# Get the route bounding box\u001b[39;00m\n",
      "\u001b[0;31mKeyboardInterrupt\u001b[0m: "
     ]
    }
   ],
   "source": [
    "while True:\n",
    "    \n",
    "    if random.random() < 0.6:\n",
    "        print(\"Expert Control\")\n",
    "        control = agent.run_step()\n",
    "        vehicle.apply_control(control)\n",
    "        \n",
    "    else:\n",
    "        print(\"Stra\")\n",
    "        control = vehicle.apply_control(\n",
    "                        carla.VehicleControl(\n",
    "                            throttle=0.5, \n",
    "                            steer=0, \n",
    "                            brake=0\n",
    "                        )\n",
    "                    )"
   ]
  },
  {
   "cell_type": "code",
   "execution_count": 12,
   "id": "8dc9032a",
   "metadata": {},
   "outputs": [],
   "source": [
    "frame = {'count': 0}\n",
    "def save_data(image):\n",
    "    \n",
    "    processed_image = process_frame(image)\n",
    "    img_name = f\"{frame['count']:05d}.png\"\n",
    "    cv2.imwrite(os.path.join(IMG_RGB, img_name), image)\n",
    "    cv2.imwrite(os.path.join(IMG_SEG, img_name), processed_image)\n",
    "\n",
    "    expert_control = vehicle.get_control()\n",
    "    expert_throttle = expert_control.throttle\n",
    "    expert_steer = expert_control.steer\n",
    "    expert_brake = expert_control.brake\n",
    "    \n",
    "    input_tensor = pre_process(rgb_image, seg_image, transform)\n",
    "    with torch.no_grad():\n",
    "        output = model(input_tensor).squeeze().cpu().numpy()\n",
    "    model_steer, model_throttle, model_brake = output\n",
    "    \n",
    "    dagger_log.append({\n",
    "        'img': img_name,\n",
    "        'expert': {\n",
    "            'steer': float(expert_steer),\n",
    "            'throttle': float(expert_throttle),\n",
    "            'brake': float(expert_brake),\n",
    "        },\n",
    "        'model': {\n",
    "            'steer': float(model_steer),\n",
    "            'throttle': float(model_throttle),\n",
    "            'brake': float(model_brake),\n",
    "        }\n",
    "    })\n",
    "\n",
    "    frame['count'] += 1\n",
    "    if frame['count'] >= 5000:\n",
    "        camera_sensor.stop()\n",
    "        with open(os.path.join(JSON_PATH, \"dagger_log.json\"), \"w\") as f:\n",
    "            json.dump(dagger_log, f, indent=2)\n",
    "        print(\"DAgger data collection complete.\")\n"
   ]
  },
  {
   "cell_type": "code",
   "execution_count": 14,
   "id": "e9dcc96f",
   "metadata": {},
   "outputs": [],
   "source": [
    "traffic_manager.ignore_lights_percentage(vehicle, 100.0)\n",
    "traffic_manager.ignore_signs_percentage(vehicle, 100.0)\n",
    "\n",
    "vehicle.set_autopilot(False)\n",
    "\n",
    "# for i in range(5000):\n",
    "#     try:\n",
    "#         save_data(image)\n",
    "#         time.sleep(0.1)\n",
    "#     except:\n",
    "#         pass\n"
   ]
  },
  {
   "cell_type": "code",
   "execution_count": null,
   "id": "6f02c786",
   "metadata": {},
   "outputs": [],
   "source": [
    "while True:\n",
    "    processed_image = process_frame(image)\n",
    "    \n",
    "    if cv2.waitKey(1) == ord('q'):\n",
    "        quit = True\n",
    "        break\n",
    "\n",
    "    combined_image = np.hstack((processed_image, image))\n",
    "\n",
    "    cv2.imshow(\"Camera\", combined_image)\n",
    "    cv2.waitKey(1)\n",
    "\n",
    "cv2.destroyAllWindows()"
   ]
  },
  {
   "cell_type": "code",
   "execution_count": 16,
   "id": "33345953",
   "metadata": {},
   "outputs": [
    {
     "data": {
      "text/plain": [
       "False"
      ]
     },
     "execution_count": 16,
     "metadata": {},
     "output_type": "execute_result"
    }
   ],
   "source": [
    "vehicle.is_alive"
   ]
  },
  {
   "cell_type": "code",
   "execution_count": null,
   "id": "7c9aefe1",
   "metadata": {},
   "outputs": [],
   "source": []
  }
 ],
 "metadata": {
  "kernelspec": {
   "display_name": "carla_15",
   "language": "python",
   "name": "python3"
  },
  "language_info": {
   "codemirror_mode": {
    "name": "ipython",
    "version": 3
   },
   "file_extension": ".py",
   "mimetype": "text/x-python",
   "name": "python",
   "nbconvert_exporter": "python",
   "pygments_lexer": "ipython3",
   "version": "3.10.0"
  }
 },
 "nbformat": 4,
 "nbformat_minor": 5
}
