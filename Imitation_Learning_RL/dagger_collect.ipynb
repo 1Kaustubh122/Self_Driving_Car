{
 "cells": [
  {
   "cell_type": "code",
   "execution_count": 1,
   "id": "c1904698",
   "metadata": {},
   "outputs": [
    {
     "name": "stderr",
     "output_type": "stream",
     "text": [
      "/home/kaustubh/miniconda3/envs/carla_15/lib/python3.10/site-packages/torchvision/models/_utils.py:208: UserWarning: The parameter 'pretrained' is deprecated since 0.13 and may be removed in the future, please use 'weights' instead.\n",
      "  warnings.warn(\n",
      "/home/kaustubh/miniconda3/envs/carla_15/lib/python3.10/site-packages/torchvision/models/_utils.py:223: UserWarning: Arguments other than a weight enum or `None` for 'weights' are deprecated since 0.13 and may be removed in the future. The current behavior is equivalent to passing `weights=None`.\n",
      "  warnings.warn(msg)\n"
     ]
    }
   ],
   "source": [
    "import os\n",
    "import cv2\n",
    "import time\n",
    "import json\n",
    "import carla\n",
    "import torch\n",
    "import numpy as np\n",
    "import torch.nn.functional as F\n",
    "import torchvision.transforms as transforms\n",
    "from PIL import Image  \n",
    "from model.ImitationCNN import ImitationCNN\n",
    "from process_frame import process_frame"
   ]
  },
  {
   "cell_type": "code",
   "execution_count": 31,
   "id": "ddaa4b57",
   "metadata": {},
   "outputs": [],
   "source": [
    "device = torch.device(\"cuda\" if torch.cuda.is_available() else \"cpu\")\n",
    "MODEL_PATH = \"models/bc_model.pth\"\n",
    "IMG_RGB = os.path.join('DAgger/rgb', \"DAgger_image\")\n",
    "IMG_SEG = os.path.join('DAgger/seg', \"DAgger_image\")\n",
    "JSON_PATH = os.path.join('DAgger', 'DAgger_log')\n",
    "MODEL_PATH = \"models/bc_model.pth\"\n",
    "dagger_log = []\n",
    "\n",
    "os.makedirs(IMG_RGB, exist_ok=True)\n",
    "os.makedirs(IMG_SEG, exist_ok=True)\n",
    "os.makedirs(JSON_PATH, exist_ok=True)"
   ]
  },
  {
   "cell_type": "code",
   "execution_count": 3,
   "id": "df983477",
   "metadata": {},
   "outputs": [
    {
     "data": {
      "text/plain": [
       "ImitationCNN(\n",
       "  (conv1): Conv2d(5, 32, kernel_size=(5, 5), stride=(2, 2), padding=(2, 2))\n",
       "  (conv2): Conv2d(32, 64, kernel_size=(3, 3), stride=(2, 2), padding=(1, 1))\n",
       "  (conv3): Conv2d(64, 128, kernel_size=(3, 3), stride=(2, 2), padding=(1, 1))\n",
       "  (conv4): Conv2d(128, 256, kernel_size=(3, 3), stride=(2, 2), padding=(1, 1))\n",
       "  (fc): Linear(in_features=235520, out_features=512, bias=True)\n",
       "  (steer_head): Linear(in_features=512, out_features=1, bias=True)\n",
       "  (throttle_head): Linear(in_features=512, out_features=1, bias=True)\n",
       "  (brake_head): Linear(in_features=512, out_features=1, bias=True)\n",
       ")"
      ]
     },
     "execution_count": 3,
     "metadata": {},
     "output_type": "execute_result"
    }
   ],
   "source": [
    "model = ImitationCNN().to(device)\n",
    "model.load_state_dict(torch.load(MODEL_PATH)['model_state_dict'])\n",
    "model.eval()"
   ]
  },
  {
   "cell_type": "code",
   "execution_count": 4,
   "id": "d8ed18ca",
   "metadata": {},
   "outputs": [],
   "source": [
    "def pre_process(rgb_image, seg_image, transform):\n",
    "    rgb_tensor = transforms.ToTensor()(rgb_image)\n",
    "    seg_image = np.array(seg_image)\n",
    "    lane_mask = np.all(seg_image == [0, 255, 0], axis=2).astype(np.uint8)\n",
    "    obs_mask = np.all(seg_image == [255, 0, 0], axis=2).astype(np.uint8)\n",
    "    \n",
    "    seg_tensor = torch.tensor(np.stack([lane_mask, obs_mask], axis=0), dtype=torch.float32)\n",
    "    \n",
    "    if seg_tensor.shape[1:] != rgb_tensor.shape[1:]:\n",
    "        seg_tensor = F.interpolate(\n",
    "            seg_tensor.unsqueeze(0),\n",
    "            size=rgb_tensor.shape[1:],\n",
    "            mode='nearest'\n",
    "        ).squeeze(0)\n",
    "    \n",
    "    input_tensor = torch.cat([rgb_tensor, seg_tensor], dim=0)\n",
    "    \n",
    "    return input_tensor.unsqueeze(0).cuda()\n"
   ]
  },
  {
   "cell_type": "code",
   "execution_count": 5,
   "id": "e85cadde",
   "metadata": {},
   "outputs": [],
   "source": [
    "client = carla.Client('localhost', 2000)\n",
    "client.set_timeout(10.0)\n",
    "world = client.get_world()\n",
    "blueprint = world.get_blueprint_library()"
   ]
  },
  {
   "cell_type": "code",
   "execution_count": 8,
   "id": "dd9b9836",
   "metadata": {},
   "outputs": [],
   "source": [
    "vehicle_bp = blueprint.find('vehicle.volkswagen.t2_2021')\n",
    "camera_bp = blueprint.find('sensor.camera.rgb')"
   ]
  },
  {
   "cell_type": "code",
   "execution_count": 26,
   "id": "b1117364",
   "metadata": {},
   "outputs": [],
   "source": [
    "spawn_points = world.get_map().get_spawn_points()\n",
    "image = None"
   ]
  },
  {
   "cell_type": "code",
   "execution_count": 10,
   "id": "af1d08b5",
   "metadata": {},
   "outputs": [],
   "source": [
    "def image_callback(data):\n",
    "    global image\n",
    "    array = np.frombuffer(data.raw_data, dtype=np.uint8)\n",
    "    array = np.reshape(array, (data.height, data.width, 4))[:, :, :3]\n",
    "    image = array\n"
   ]
  },
  {
   "cell_type": "code",
   "execution_count": 27,
   "id": "cfa2e344",
   "metadata": {},
   "outputs": [
    {
     "name": "stdout",
     "output_type": "stream",
     "text": [
      "Actor(id=73, type=sensor.camera.rgb)\n",
      "Actor(id=72, type=vehicle.volkswagen.t2_2021)\n"
     ]
    }
   ],
   "source": [
    "for actor in world.get_actors().filter(\"*sensor*\"):\n",
    "    print(actor)\n",
    "    actor.destroy()\n",
    "for actor in world.get_actors().filter(\"*vehicle*\"):\n",
    "    print(actor)\n",
    "    actor.destroy()\n",
    "camera_bp.set_attribute('image_size_x', '640')\n",
    "camera_bp.set_attribute('image_size_y', '360')\n",
    "\n",
    "vehicle_length = 4.442184\n",
    "vehicle_width = 1.774566\n",
    "vehicle_height = 1.987206\n",
    "\n",
    "camera_location = carla.Location(\n",
    "    x=vehicle_length / 2.9 , \n",
    "    y=0,\n",
    "    z=2.2\n",
    ")\n",
    "\n",
    "camera_transform = carla.Transform(camera_location)\n",
    "\n",
    "vehicle = world.try_spawn_actor(vehicle_bp, spawn_points[0])\n",
    "camera_sensor = world.spawn_actor(camera_bp, camera_transform, attach_to=vehicle)\n",
    "\n",
    "expert_vehicle = world.try_spawn_actor(vehicle_bp, spawn_points[1])\n",
    "expert_camera_sensor = world.spawn_actor(camera_bp, camera_transform, attach_to=vehicle)\n"
   ]
  },
  {
   "cell_type": "code",
   "execution_count": 12,
   "id": "78db3b04",
   "metadata": {},
   "outputs": [],
   "source": [
    "camera_sensor.listen(lambda image: image_callback(image))"
   ]
  },
  {
   "cell_type": "code",
   "execution_count": 13,
   "id": "583994ea",
   "metadata": {},
   "outputs": [],
   "source": [
    "rgb_image = image\n",
    "seg_image = process_frame(image)\n",
    "transform = None"
   ]
  },
  {
   "cell_type": "code",
   "execution_count": null,
   "id": "ec75c5b1",
   "metadata": {},
   "outputs": [
    {
     "name": "stdout",
     "output_type": "stream",
     "text": [
      "tensor([[0.0427, 0.7091, 0.0296]], device='cuda:0')\n",
      "0.04269259423017502 0.7090549468994141 0.029589863494038582\n"
     ]
    }
   ],
   "source": [
    "# Testing Behaviour clonning\n",
    "with torch.no_grad():\n",
    "    input_tensor = pre_process(rgb_image, seg_image, transform)\n",
    "    output = model(input_tensor)\n",
    "    print(output)\n",
    "    steer, throttle, brake = output[0].cpu().numpy().tolist()\n",
    "    print(steer, throttle, brake)\n",
    "\n",
    "    vehicle.apply_control(carla.VehicleControl(\n",
    "        throttle=throttle,\n",
    "        steer=steer,\n",
    "        brake=0,\n",
    "        hand_brake=False))\n",
    "    \n"
   ]
  },
  {
   "cell_type": "code",
   "execution_count": null,
   "id": "8dc9032a",
   "metadata": {},
   "outputs": [],
   "source": [
    "frame = {'count': 0}\n",
    "def save_data(image):\n",
    "    \n",
    "    processed_image = process_frame(image)\n",
    "    img_name = f\"{frame['count']:05d}.png\"\n",
    "    cv2.imwrite(os.path.join(IMG_RGB, img_name), image)\n",
    "    cv2.imwrite(os.path.join(IMG_SEG, img_name), processed_image)\n",
    "\n",
    "    expert_control = expert_vehicle.get_control()\n",
    "    throttle = expert_control.throttle\n",
    "    steer = expert_control.steer\n",
    "    brake = expert_control.brake\n",
    "    \n",
    "    dagger_log.append({\n",
    "        'img': img_name,\n",
    "        'steer': steer,\n",
    "        'throttle': throttle,\n",
    "        'brake': brake,\n",
    "    })\n",
    "\n",
    "    frame['count'] += 1\n",
    "    if frame['count'] >= 10000:\n",
    "        camera_sensor.stop()"
   ]
  },
  {
   "cell_type": "code",
   "execution_count": null,
   "id": "e9dcc96f",
   "metadata": {},
   "outputs": [
    {
     "name": "stdout",
     "output_type": "stream",
     "text": [
      "True\n"
     ]
    }
   ],
   "source": [
    "traffic_manager.ignore_lights_percentage(vehicle, 100.0)\n",
    "traffic_manager.ignore_signs_percentage(vehicle, 100.0)\n",
    "\n",
    "vehicle.set_autopilot(True)\n",
    "\n",
    "for i in range(10000):\n",
    "    try:\n",
    "        save_data(image)\n",
    "        time.sleep(0.1)\n",
    "    except:\n",
    "        pass\n",
    "with open(os.path.join(logs, \"logs.json\"), \"w\") as f:\n",
    "    json.dump(data_log, f, indent=2)\n",
    "    print(\"Done logging\")"
   ]
  },
  {
   "cell_type": "code",
   "execution_count": null,
   "id": "6f02c786",
   "metadata": {},
   "outputs": [],
   "source": [
    "while True:\n",
    "    processed_image = process_frame(image)\n",
    "    \n",
    "    if cv2.waitKey(1) == ord('q'):\n",
    "        quit = True\n",
    "        break\n",
    "\n",
    "    combined_image = np.hstack((processed_image, image))\n",
    "\n",
    "    cv2.imshow(\"Camera\", combined_image)\n",
    "    cv2.waitKey(1)\n",
    "\n",
    "cv2.destroyAllWindows()"
   ]
  },
  {
   "cell_type": "code",
   "execution_count": null,
   "id": "33345953",
   "metadata": {},
   "outputs": [],
   "source": []
  },
  {
   "cell_type": "code",
   "execution_count": null,
   "id": "7c9aefe1",
   "metadata": {},
   "outputs": [],
   "source": []
  }
 ],
 "metadata": {
  "kernelspec": {
   "display_name": "carla_15",
   "language": "python",
   "name": "python3"
  },
  "language_info": {
   "codemirror_mode": {
    "name": "ipython",
    "version": 3
   },
   "file_extension": ".py",
   "mimetype": "text/x-python",
   "name": "python",
   "nbconvert_exporter": "python",
   "pygments_lexer": "ipython3",
   "version": "3.10.0"
  }
 },
 "nbformat": 4,
 "nbformat_minor": 5
}
