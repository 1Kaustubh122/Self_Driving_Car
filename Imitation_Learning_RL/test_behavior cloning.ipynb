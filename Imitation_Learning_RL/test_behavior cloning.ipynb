{
 "cells": [
  {
   "cell_type": "code",
   "execution_count": 26,
   "id": "c1904698",
   "metadata": {},
   "outputs": [],
   "source": [
    "import os\n",
    "import sys\n",
    "import cv2\n",
    "# import time\n",
    "import json\n",
    "import carla\n",
    "import torch\n",
    "import random\n",
    "import numpy as np\n",
    "import torch.nn.functional as F\n",
    "import torchvision.transforms as transforms\n",
    "# from PIL import Image  \n",
    "from process_frame import process_frame\n",
    "# from model.ImitationCNN import ImitationCNN\n",
    "from model.ImitationResNet import ImitationResNet"
   ]
  },
  {
   "cell_type": "code",
   "execution_count": 2,
   "id": "5a0726c3",
   "metadata": {},
   "outputs": [],
   "source": [
    "sys.path.append(r'/home/kaustubh/CARLA_15/PythonAPI/carla')\n",
    "from agents.navigation.basic_agent import BasicAgent\n",
    "from agents.navigation.global_route_planner import GlobalRoutePlanner"
   ]
  },
  {
   "cell_type": "code",
   "execution_count": 33,
   "id": "ddaa4b57",
   "metadata": {},
   "outputs": [],
   "source": [
    "device = torch.device(\"cuda\" if torch.cuda.is_available() else \"cpu\")\n",
    "MODEL_PATH = \"models/bc_model.pth\"\n",
    "IMG_RGB = os.path.join('DAgger/rgb', \"DAgger_image\")\n",
    "IMG_SEG = os.path.join('DAgger/seg', \"DAgger_image\")\n",
    "JSON_PATH = os.path.join('DAgger', 'DAgger_log')\n",
    "\n",
    "dagger_log = []\n",
    "\n",
    "os.makedirs(IMG_RGB, exist_ok=True)\n",
    "os.makedirs(IMG_SEG, exist_ok=True)\n",
    "os.makedirs(JSON_PATH, exist_ok=True)"
   ]
  },
  {
   "cell_type": "code",
   "execution_count": 34,
   "id": "df983477",
   "metadata": {},
   "outputs": [
    {
     "name": "stderr",
     "output_type": "stream",
     "text": [
      "/home/kaustubh/miniconda3/envs/carla_15/lib/python3.10/site-packages/torchvision/models/_utils.py:208: UserWarning: The parameter 'pretrained' is deprecated since 0.13 and may be removed in the future, please use 'weights' instead.\n",
      "  warnings.warn(\n",
      "/home/kaustubh/miniconda3/envs/carla_15/lib/python3.10/site-packages/torchvision/models/_utils.py:223: UserWarning: Arguments other than a weight enum or `None` for 'weights' are deprecated since 0.13 and may be removed in the future. The current behavior is equivalent to passing `weights=ResNet18_Weights.IMAGENET1K_V1`. You can also use `weights=ResNet18_Weights.DEFAULT` to get the most up-to-date weights.\n",
      "  warnings.warn(msg)\n"
     ]
    },
    {
     "data": {
      "text/plain": [
       "ImitationResNet(\n",
       "  (conv1): Conv2d(5, 64, kernel_size=(7, 7), stride=(2, 2), padding=(3, 3), bias=False)\n",
       "  (bn1): BatchNorm2d(64, eps=1e-05, momentum=0.1, affine=True, track_running_stats=True)\n",
       "  (relu): ReLU(inplace=True)\n",
       "  (maxpool): MaxPool2d(kernel_size=3, stride=2, padding=1, dilation=1, ceil_mode=False)\n",
       "  (layer1): Sequential(\n",
       "    (0): BasicBlock(\n",
       "      (conv1): Conv2d(64, 64, kernel_size=(3, 3), stride=(1, 1), padding=(1, 1), bias=False)\n",
       "      (bn1): BatchNorm2d(64, eps=1e-05, momentum=0.1, affine=True, track_running_stats=True)\n",
       "      (relu): ReLU(inplace=True)\n",
       "      (conv2): Conv2d(64, 64, kernel_size=(3, 3), stride=(1, 1), padding=(1, 1), bias=False)\n",
       "      (bn2): BatchNorm2d(64, eps=1e-05, momentum=0.1, affine=True, track_running_stats=True)\n",
       "    )\n",
       "    (1): BasicBlock(\n",
       "      (conv1): Conv2d(64, 64, kernel_size=(3, 3), stride=(1, 1), padding=(1, 1), bias=False)\n",
       "      (bn1): BatchNorm2d(64, eps=1e-05, momentum=0.1, affine=True, track_running_stats=True)\n",
       "      (relu): ReLU(inplace=True)\n",
       "      (conv2): Conv2d(64, 64, kernel_size=(3, 3), stride=(1, 1), padding=(1, 1), bias=False)\n",
       "      (bn2): BatchNorm2d(64, eps=1e-05, momentum=0.1, affine=True, track_running_stats=True)\n",
       "    )\n",
       "  )\n",
       "  (layer2): Sequential(\n",
       "    (0): BasicBlock(\n",
       "      (conv1): Conv2d(64, 128, kernel_size=(3, 3), stride=(2, 2), padding=(1, 1), bias=False)\n",
       "      (bn1): BatchNorm2d(128, eps=1e-05, momentum=0.1, affine=True, track_running_stats=True)\n",
       "      (relu): ReLU(inplace=True)\n",
       "      (conv2): Conv2d(128, 128, kernel_size=(3, 3), stride=(1, 1), padding=(1, 1), bias=False)\n",
       "      (bn2): BatchNorm2d(128, eps=1e-05, momentum=0.1, affine=True, track_running_stats=True)\n",
       "      (downsample): Sequential(\n",
       "        (0): Conv2d(64, 128, kernel_size=(1, 1), stride=(2, 2), bias=False)\n",
       "        (1): BatchNorm2d(128, eps=1e-05, momentum=0.1, affine=True, track_running_stats=True)\n",
       "      )\n",
       "    )\n",
       "    (1): BasicBlock(\n",
       "      (conv1): Conv2d(128, 128, kernel_size=(3, 3), stride=(1, 1), padding=(1, 1), bias=False)\n",
       "      (bn1): BatchNorm2d(128, eps=1e-05, momentum=0.1, affine=True, track_running_stats=True)\n",
       "      (relu): ReLU(inplace=True)\n",
       "      (conv2): Conv2d(128, 128, kernel_size=(3, 3), stride=(1, 1), padding=(1, 1), bias=False)\n",
       "      (bn2): BatchNorm2d(128, eps=1e-05, momentum=0.1, affine=True, track_running_stats=True)\n",
       "    )\n",
       "  )\n",
       "  (layer3): Sequential(\n",
       "    (0): BasicBlock(\n",
       "      (conv1): Conv2d(128, 256, kernel_size=(3, 3), stride=(2, 2), padding=(1, 1), bias=False)\n",
       "      (bn1): BatchNorm2d(256, eps=1e-05, momentum=0.1, affine=True, track_running_stats=True)\n",
       "      (relu): ReLU(inplace=True)\n",
       "      (conv2): Conv2d(256, 256, kernel_size=(3, 3), stride=(1, 1), padding=(1, 1), bias=False)\n",
       "      (bn2): BatchNorm2d(256, eps=1e-05, momentum=0.1, affine=True, track_running_stats=True)\n",
       "      (downsample): Sequential(\n",
       "        (0): Conv2d(128, 256, kernel_size=(1, 1), stride=(2, 2), bias=False)\n",
       "        (1): BatchNorm2d(256, eps=1e-05, momentum=0.1, affine=True, track_running_stats=True)\n",
       "      )\n",
       "    )\n",
       "    (1): BasicBlock(\n",
       "      (conv1): Conv2d(256, 256, kernel_size=(3, 3), stride=(1, 1), padding=(1, 1), bias=False)\n",
       "      (bn1): BatchNorm2d(256, eps=1e-05, momentum=0.1, affine=True, track_running_stats=True)\n",
       "      (relu): ReLU(inplace=True)\n",
       "      (conv2): Conv2d(256, 256, kernel_size=(3, 3), stride=(1, 1), padding=(1, 1), bias=False)\n",
       "      (bn2): BatchNorm2d(256, eps=1e-05, momentum=0.1, affine=True, track_running_stats=True)\n",
       "    )\n",
       "  )\n",
       "  (layer4): Sequential(\n",
       "    (0): BasicBlock(\n",
       "      (conv1): Conv2d(256, 512, kernel_size=(3, 3), stride=(2, 2), padding=(1, 1), bias=False)\n",
       "      (bn1): BatchNorm2d(512, eps=1e-05, momentum=0.1, affine=True, track_running_stats=True)\n",
       "      (relu): ReLU(inplace=True)\n",
       "      (conv2): Conv2d(512, 512, kernel_size=(3, 3), stride=(1, 1), padding=(1, 1), bias=False)\n",
       "      (bn2): BatchNorm2d(512, eps=1e-05, momentum=0.1, affine=True, track_running_stats=True)\n",
       "      (downsample): Sequential(\n",
       "        (0): Conv2d(256, 512, kernel_size=(1, 1), stride=(2, 2), bias=False)\n",
       "        (1): BatchNorm2d(512, eps=1e-05, momentum=0.1, affine=True, track_running_stats=True)\n",
       "      )\n",
       "    )\n",
       "    (1): BasicBlock(\n",
       "      (conv1): Conv2d(512, 512, kernel_size=(3, 3), stride=(1, 1), padding=(1, 1), bias=False)\n",
       "      (bn1): BatchNorm2d(512, eps=1e-05, momentum=0.1, affine=True, track_running_stats=True)\n",
       "      (relu): ReLU(inplace=True)\n",
       "      (conv2): Conv2d(512, 512, kernel_size=(3, 3), stride=(1, 1), padding=(1, 1), bias=False)\n",
       "      (bn2): BatchNorm2d(512, eps=1e-05, momentum=0.1, affine=True, track_running_stats=True)\n",
       "    )\n",
       "  )\n",
       "  (avgpool): AdaptiveAvgPool2d(output_size=(1, 1))\n",
       "  (lstm): LSTM(512, 256, batch_first=True)\n",
       "  (fc): Linear(in_features=256, out_features=512, bias=True)\n",
       "  (steer_head): Linear(in_features=512, out_features=1, bias=True)\n",
       "  (throttle_head): Linear(in_features=512, out_features=1, bias=True)\n",
       "  (brake_head): Linear(in_features=512, out_features=1, bias=True)\n",
       ")"
      ]
     },
     "execution_count": 34,
     "metadata": {},
     "output_type": "execute_result"
    }
   ],
   "source": [
    "# model = ImitationCNN().to(device)\n",
    "model = ImitationResNet().to(device='cpu')\n",
    "model.load_state_dict(torch.load(MODEL_PATH)['model_state_dict'])\n",
    "model.eval()"
   ]
  },
  {
   "cell_type": "code",
   "execution_count": 35,
   "id": "e85cadde",
   "metadata": {},
   "outputs": [],
   "source": [
    "client = carla.Client('localhost', 2000)\n",
    "client.set_timeout(10.0)\n",
    "world = client.get_world()\n",
    "traffic_manager = client.get_trafficmanager()\n",
    "blueprint = world.get_blueprint_library()"
   ]
  },
  {
   "cell_type": "code",
   "execution_count": 36,
   "id": "dd9b9836",
   "metadata": {},
   "outputs": [],
   "source": [
    "vehicle_bp = blueprint.find('vehicle.volkswagen.t2_2021')\n",
    "camera_bp = blueprint.find('sensor.camera.rgb')"
   ]
  },
  {
   "cell_type": "code",
   "execution_count": 37,
   "id": "b1117364",
   "metadata": {},
   "outputs": [
    {
     "name": "stderr",
     "output_type": "stream",
     "text": [
      "WARNING: sensor object went out of the scope but the sensor is still alive in the simulation: Actor 396 (sensor.camera.rgb) \n",
      "WARNING: sensor object went out of the scope but the sensor is still alive in the simulation: Actor 397 (sensor.other.collision) \n"
     ]
    }
   ],
   "source": [
    "spawn_points = world.get_map().get_spawn_points()\n",
    "image = None\n",
    "collision_detected = None\n",
    "camera_sensor = None\n",
    "vehicle = None\n",
    "seg_image = None\n",
    "rgb_image = None\n",
    "collision_sensor = None"
   ]
  },
  {
   "cell_type": "code",
   "execution_count": 38,
   "id": "af1d08b5",
   "metadata": {},
   "outputs": [],
   "source": [
    "def image_callback(data):\n",
    "    global image\n",
    "    array = np.frombuffer(data.raw_data, dtype=np.uint8)\n",
    "    array = np.reshape(array, (data.height, data.width, 4))[:, :, :3]\n",
    "    image = array\n",
    "\n",
    "def handle_collision(event):\n",
    "    global collision_detected\n",
    "    collision_detected = True"
   ]
  },
  {
   "cell_type": "code",
   "execution_count": 39,
   "id": "670d133b",
   "metadata": {},
   "outputs": [],
   "source": [
    "def pre_process(rgb_image, seg_image, transform):\n",
    "    \n",
    "    if transform:\n",
    "        rgb_tensor = transform(rgb_image)\n",
    "    else:\n",
    "        rgb_tensor = transforms.ToTensor()(rgb_image)\n",
    "        \n",
    "    seg_image = np.array(seg_image)\n",
    "    \n",
    "    lane_mask = np.all(seg_image == [0, 255, 0], axis=2).astype(np.uint8)\n",
    "    obs_mask = np.all(seg_image == [255, 0, 0], axis=2).astype(np.uint8)\n",
    "    \n",
    "    seg_tensor = torch.tensor(np.stack([lane_mask, obs_mask], axis=0), dtype=torch.float32)\n",
    "    \n",
    "    if seg_tensor.shape[1:] != rgb_tensor.shape[1:]:\n",
    "        seg_tensor = F.interpolate(\n",
    "            seg_tensor.unsqueeze(0),\n",
    "            size=rgb_tensor.shape[1:],\n",
    "            mode='nearest'\n",
    "        ).squeeze(0)\n",
    "    \n",
    "    input_tensor = torch.cat([rgb_tensor, seg_tensor], dim=0)\n",
    "    \n",
    "    return input_tensor"
   ]
  },
  {
   "cell_type": "code",
   "execution_count": 40,
   "id": "cfa2e344",
   "metadata": {},
   "outputs": [],
   "source": [
    "def init():\n",
    "    global camera_sensor, vehicle, rgb_image, seg_image, collision_sensor\n",
    "    for actor in world.get_actors().filter(\"vehicle.volkswagen.t2_2021\"):\n",
    "        print(actor)\n",
    "        actor.destroy()\n",
    "    for actor in world.get_actors().filter(\"*sensor*\"):\n",
    "        print(actor)\n",
    "        actor.destroy()\n",
    "    camera_bp.set_attribute('image_size_x', '640')\n",
    "    camera_bp.set_attribute('image_size_y', '360')\n",
    "\n",
    "    vehicle_length = 4.442184\n",
    "    # vehicle_width = 1.774566\n",
    "    # vehicle_height = 1.987206\n",
    "\n",
    "    camera_location = carla.Location(\n",
    "        x=vehicle_length / 2.9 , \n",
    "        y=0,\n",
    "        z=2.2\n",
    "    )\n",
    "\n",
    "    camera_transform = carla.Transform(camera_location)\n",
    "\n",
    "    vehicle = world.try_spawn_actor(vehicle_bp, random.choice(spawn_points))\n",
    "    camera_sensor = world.spawn_actor(camera_bp, camera_transform, attach_to=vehicle)\n",
    "    camera_sensor.listen(lambda image: image_callback(image))\n",
    "    \n",
    "    rgb_image = image\n",
    "    seg_image = process_frame(image)\n",
    "    transform = None\n",
    "    \n",
    "    collision_bp = blueprint.find('sensor.other.collision')\n",
    "    collision_sensor = world.spawn_actor(collision_bp, carla.Transform(), attach_to=vehicle)\n",
    "    collision_sensor.listen(handle_collision)\n"
   ]
  },
  {
   "cell_type": "code",
   "execution_count": 41,
   "id": "4a9df018",
   "metadata": {},
   "outputs": [
    {
     "name": "stdout",
     "output_type": "stream",
     "text": [
      "Actor(id=395, type=vehicle.volkswagen.t2_2021)\n",
      "Actor(id=397, type=sensor.other.collision)\n",
      "Actor(id=396, type=sensor.camera.rgb)\n"
     ]
    }
   ],
   "source": [
    "init()"
   ]
  },
  {
   "cell_type": "code",
   "execution_count": null,
   "id": "ecfa8b02",
   "metadata": {},
   "outputs": [
    {
     "name": "stdout",
     "output_type": "stream",
     "text": [
      "Actor(id=398, type=vehicle.volkswagen.t2_2021)\n",
      "Actor(id=400, type=sensor.other.collision)\n",
      "Actor(id=399, type=sensor.camera.rgb)\n"
     ]
    },
    {
     "name": "stderr",
     "output_type": "stream",
     "text": [
      "WARNING: sensor object went out of the scope but the sensor is still alive in the simulation: Actor 399 (sensor.camera.rgb) \n",
      "WARNING: sensor object went out of the scope but the sensor is still alive in the simulation: Actor 400 (sensor.other.collision) \n"
     ]
    },
    {
     "name": "stdout",
     "output_type": "stream",
     "text": [
      "Actor(id=401, type=vehicle.volkswagen.t2_2021)\n",
      "Actor(id=403, type=sensor.other.collision)\n",
      "Actor(id=402, type=sensor.camera.rgb)\n"
     ]
    },
    {
     "name": "stderr",
     "output_type": "stream",
     "text": [
      "WARNING: sensor object went out of the scope but the sensor is still alive in the simulation: Actor 402 (sensor.camera.rgb) \n",
      "WARNING: sensor object went out of the scope but the sensor is still alive in the simulation: Actor 403 (sensor.other.collision) \n"
     ]
    },
    {
     "name": "stdout",
     "output_type": "stream",
     "text": [
      "Actor(id=404, type=vehicle.volkswagen.t2_2021)\n",
      "Actor(id=405, type=sensor.camera.rgb)\n",
      "Actor(id=406, type=sensor.other.collision)\n"
     ]
    },
    {
     "name": "stderr",
     "output_type": "stream",
     "text": [
      "WARNING: sensor object went out of the scope but the sensor is still alive in the simulation: Actor 405 (sensor.camera.rgb) \n",
      "WARNING: sensor object went out of the scope but the sensor is still alive in the simulation: Actor 406 (sensor.other.collision) \n"
     ]
    },
    {
     "name": "stdout",
     "output_type": "stream",
     "text": [
      "Actor(id=407, type=vehicle.volkswagen.t2_2021)\n",
      "Actor(id=409, type=sensor.other.collision)\n",
      "Actor(id=408, type=sensor.camera.rgb)\n"
     ]
    },
    {
     "name": "stderr",
     "output_type": "stream",
     "text": [
      "WARNING: sensor object went out of the scope but the sensor is still alive in the simulation: Actor 408 (sensor.camera.rgb) \n",
      "WARNING: sensor object went out of the scope but the sensor is still alive in the simulation: Actor 409 (sensor.other.collision) \n"
     ]
    },
    {
     "name": "stdout",
     "output_type": "stream",
     "text": [
      "Actor(id=410, type=vehicle.volkswagen.t2_2021)\n",
      "Actor(id=412, type=sensor.other.collision)\n",
      "Actor(id=411, type=sensor.camera.rgb)\n"
     ]
    },
    {
     "name": "stderr",
     "output_type": "stream",
     "text": [
      "WARNING: sensor object went out of the scope but the sensor is still alive in the simulation: Actor 411 (sensor.camera.rgb) \n",
      "WARNING: sensor object went out of the scope but the sensor is still alive in the simulation: Actor 412 (sensor.other.collision) \n"
     ]
    },
    {
     "name": "stdout",
     "output_type": "stream",
     "text": [
      "Actor(id=413, type=vehicle.volkswagen.t2_2021)\n",
      "Actor(id=415, type=sensor.other.collision)\n",
      "Actor(id=414, type=sensor.camera.rgb)\n"
     ]
    },
    {
     "name": "stderr",
     "output_type": "stream",
     "text": [
      "WARNING: sensor object went out of the scope but the sensor is still alive in the simulation: Actor 414 (sensor.camera.rgb) \n",
      "WARNING: sensor object went out of the scope but the sensor is still alive in the simulation: Actor 415 (sensor.other.collision) \n"
     ]
    },
    {
     "name": "stdout",
     "output_type": "stream",
     "text": [
      "Actor(id=416, type=vehicle.volkswagen.t2_2021)\n",
      "Actor(id=418, type=sensor.other.collision)\n",
      "Actor(id=417, type=sensor.camera.rgb)\n"
     ]
    },
    {
     "name": "stderr",
     "output_type": "stream",
     "text": [
      "WARNING: sensor object went out of the scope but the sensor is still alive in the simulation: Actor 417 (sensor.camera.rgb) \n",
      "WARNING: sensor object went out of the scope but the sensor is still alive in the simulation: Actor 418 (sensor.other.collision) \n"
     ]
    },
    {
     "name": "stdout",
     "output_type": "stream",
     "text": [
      "Actor(id=419, type=vehicle.volkswagen.t2_2021)\n",
      "Actor(id=421, type=sensor.other.collision)\n",
      "Actor(id=420, type=sensor.camera.rgb)\n"
     ]
    },
    {
     "name": "stderr",
     "output_type": "stream",
     "text": [
      "WARNING: sensor object went out of the scope but the sensor is still alive in the simulation: Actor 420 (sensor.camera.rgb) \n",
      "WARNING: sensor object went out of the scope but the sensor is still alive in the simulation: Actor 421 (sensor.other.collision) \n"
     ]
    },
    {
     "name": "stdout",
     "output_type": "stream",
     "text": [
      "Actor(id=422, type=vehicle.volkswagen.t2_2021)\n",
      "Actor(id=424, type=sensor.other.collision)\n",
      "Actor(id=423, type=sensor.camera.rgb)\n"
     ]
    },
    {
     "name": "stderr",
     "output_type": "stream",
     "text": [
      "WARNING: sensor object went out of the scope but the sensor is still alive in the simulation: Actor 423 (sensor.camera.rgb) \n",
      "WARNING: sensor object went out of the scope but the sensor is still alive in the simulation: Actor 424 (sensor.other.collision) \n"
     ]
    },
    {
     "name": "stdout",
     "output_type": "stream",
     "text": [
      "Actor(id=425, type=vehicle.volkswagen.t2_2021)\n",
      "Actor(id=427, type=sensor.other.collision)\n",
      "Actor(id=426, type=sensor.camera.rgb)\n"
     ]
    },
    {
     "name": "stderr",
     "output_type": "stream",
     "text": [
      "WARNING: sensor object went out of the scope but the sensor is still alive in the simulation: Actor 426 (sensor.camera.rgb) \n",
      "WARNING: sensor object went out of the scope but the sensor is still alive in the simulation: Actor 427 (sensor.other.collision) \n"
     ]
    },
    {
     "name": "stdout",
     "output_type": "stream",
     "text": [
      "Actor(id=428, type=vehicle.volkswagen.t2_2021)\n",
      "Actor(id=430, type=sensor.other.collision)\n",
      "Actor(id=429, type=sensor.camera.rgb)\n"
     ]
    },
    {
     "name": "stderr",
     "output_type": "stream",
     "text": [
      "WARNING: sensor object went out of the scope but the sensor is still alive in the simulation: Actor 429 (sensor.camera.rgb) \n",
      "WARNING: sensor object went out of the scope but the sensor is still alive in the simulation: Actor 430 (sensor.other.collision) \n"
     ]
    }
   ],
   "source": [
    "# # Testing Behaviour clonning, sometimes it works!\n",
    "with torch.no_grad():\n",
    "    while True:\n",
    "        if collision_detected:\n",
    "            init()\n",
    "            collision_detected = False\n",
    "            \n",
    "        input_tensor = pre_process(rgb_image, seg_image, transform=None).unsqueeze(0).to('cpu')\n",
    "        output = model(input_tensor)\n",
    "        # print(output)\n",
    "        steer, throttle, brake = output[0].cpu().numpy().tolist()\n",
    "        # steer = float(f\"{steer:.4f}\")\n",
    "        # steer = max(min(steer, 1.0), -1.0)    \n",
    "        # throttle = max(min(throttle, 1.0), 0.0)  \n",
    "        brake = max(min(brake, 1.0), 0.0)\n",
    "        # if steer > 1 or throttle > 1:\n",
    "        # print(steer, throttle, brake)\n",
    "        \n",
    "        processed_image = process_frame(image)\n",
    "    \n",
    "        if cv2.waitKey(1) == ord('q'):\n",
    "            quit = True\n",
    "            break\n",
    "\n",
    "        combined_image = np.hstack((processed_image, image))\n",
    "\n",
    "        cv2.imshow(\"Camera\", combined_image)\n",
    "        cv2.waitKey(1)\n",
    "\n",
    "        vehicle.apply_control(carla.VehicleControl(\n",
    "            # throttle= 0 if brake == 1.0 else 0.4,\n",
    "            throttle= 0.5,\n",
    "            steer=steer,\n",
    "            # brake= 0 if brake < 7.0 else 1,\n",
    "            brake= 0,\n",
    "            hand_brake=False))\n",
    "    \n",
    "    cv2.destroyAllWindows()\n"
   ]
  },
  {
   "cell_type": "code",
   "execution_count": null,
   "id": "1305c207",
   "metadata": {},
   "outputs": [],
   "source": [
    "agent = BasicAgent(vehicle)"
   ]
  },
  {
   "cell_type": "code",
   "execution_count": null,
   "id": "0c12d885",
   "metadata": {},
   "outputs": [],
   "source": [
    "goal = random.choice(spawn_points)\n",
    "destination = goal.location\n",
    "agent.set_destination(destination)"
   ]
  },
  {
   "cell_type": "code",
   "execution_count": null,
   "id": "86d37cc8",
   "metadata": {},
   "outputs": [],
   "source": [
    "expert_control = agent.run_step()"
   ]
  },
  {
   "cell_type": "code",
   "execution_count": null,
   "id": "ff2cfa86",
   "metadata": {},
   "outputs": [],
   "source": [
    "print(expert_control)"
   ]
  },
  {
   "cell_type": "code",
   "execution_count": null,
   "id": "4bcdeb9e",
   "metadata": {},
   "outputs": [],
   "source": [
    "print(spawn_points[0])\n",
    "print(goal)\n",
    "map_ = world.get_map()"
   ]
  },
  {
   "cell_type": "code",
   "execution_count": null,
   "id": "59f5d405",
   "metadata": {},
   "outputs": [],
   "source": [
    "grp = GlobalRoutePlanner(map_, sampling_resolution=2.0)\n",
    "route = grp.trace_route(spawn_points[0].location, goal.location)\n",
    "# route_coords = [[wp.transform.location.x, wp.transform.location.y] for wp, _ in route]\n",
    "for wp, _ in route:\n",
    "    world.debug.draw_point(\n",
    "    wp.transform.location + carla.Location(z=0.5),\n",
    "    size=0.2,\n",
    "    color=carla.Color(0, 255, 0),\n",
    "    life_time=300.0\n",
    "                        )"
   ]
  },
  {
   "cell_type": "code",
   "execution_count": null,
   "id": "6af709ac",
   "metadata": {},
   "outputs": [],
   "source": [
    "print(expert_control)"
   ]
  },
  {
   "cell_type": "code",
   "execution_count": null,
   "id": "4494ce8b",
   "metadata": {},
   "outputs": [],
   "source": [
    "while True:\n",
    "    \n",
    "    if random.random() < 0.6:\n",
    "        print(\"Expert Control\")\n",
    "        control = agent.run_step()\n",
    "        vehicle.apply_control(control)\n",
    "        \n",
    "    else:\n",
    "        print(\"Stra\")\n",
    "        control = vehicle.apply_control(\n",
    "                        carla.VehicleControl(\n",
    "                            throttle=0.5, \n",
    "                            steer=0, \n",
    "                            brake=0\n",
    "                        )\n",
    "                    )"
   ]
  },
  {
   "cell_type": "code",
   "execution_count": null,
   "id": "8dc9032a",
   "metadata": {},
   "outputs": [],
   "source": [
    "frame = {'count': 0}\n",
    "def save_data(image):\n",
    "    \n",
    "    processed_image = process_frame(image)\n",
    "    img_name = f\"{frame['count']:05d}.png\"\n",
    "    cv2.imwrite(os.path.join(IMG_RGB, img_name), image)\n",
    "    cv2.imwrite(os.path.join(IMG_SEG, img_name), processed_image)\n",
    "\n",
    "    expert_control = vehicle.get_control()\n",
    "    expert_throttle = expert_control.throttle\n",
    "    expert_steer = expert_control.steer\n",
    "    expert_brake = expert_control.brake\n",
    "    \n",
    "    input_tensor = pre_process(rgb_image, seg_image, transform)\n",
    "    with torch.no_grad():\n",
    "        output = model(input_tensor).squeeze().cpu().numpy()\n",
    "    model_steer, model_throttle, model_brake = output\n",
    "    \n",
    "    dagger_log.append({\n",
    "        'img': img_name,\n",
    "        'expert': {\n",
    "            'steer': float(expert_steer),\n",
    "            'throttle': float(expert_throttle),\n",
    "            'brake': float(expert_brake),\n",
    "        },\n",
    "        'model': {\n",
    "            'steer': float(model_steer),\n",
    "            'throttle': float(model_throttle),\n",
    "            'brake': float(model_brake),\n",
    "        }\n",
    "    })\n",
    "\n",
    "    frame['count'] += 1\n",
    "    if frame['count'] >= 5000:\n",
    "        camera_sensor.stop()\n",
    "        with open(os.path.join(JSON_PATH, \"dagger_log.json\"), \"w\") as f:\n",
    "            json.dump(dagger_log, f, indent=2)\n",
    "        print(\"DAgger data collection complete.\")\n"
   ]
  },
  {
   "cell_type": "code",
   "execution_count": null,
   "id": "e9dcc96f",
   "metadata": {},
   "outputs": [],
   "source": [
    "traffic_manager.ignore_lights_percentage(vehicle, 100.0)\n",
    "traffic_manager.ignore_signs_percentage(vehicle, 100.0)\n",
    "\n",
    "vehicle.set_autopilot(False)\n",
    "\n",
    "# for i in range(5000):\n",
    "#     try:\n",
    "#         save_data(image)\n",
    "#         time.sleep(0.1)\n",
    "#     except:\n",
    "#         pass\n"
   ]
  },
  {
   "cell_type": "code",
   "execution_count": null,
   "id": "7c9aefe1",
   "metadata": {},
   "outputs": [],
   "source": []
  }
 ],
 "metadata": {
  "kernelspec": {
   "display_name": "carla_15",
   "language": "python",
   "name": "python3"
  },
  "language_info": {
   "codemirror_mode": {
    "name": "ipython",
    "version": 3
   },
   "file_extension": ".py",
   "mimetype": "text/x-python",
   "name": "python",
   "nbconvert_exporter": "python",
   "pygments_lexer": "ipython3",
   "version": "3.10.0"
  }
 },
 "nbformat": 4,
 "nbformat_minor": 5
}
