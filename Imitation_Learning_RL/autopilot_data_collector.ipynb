{
 "cells": [
  {
   "cell_type": "code",
   "execution_count": 1,
   "id": "632d21de",
   "metadata": {},
   "outputs": [
    {
     "name": "stderr",
     "output_type": "stream",
     "text": [
      "/home/kaustubh/miniconda3/envs/carla_15/lib/python3.10/site-packages/torchvision/models/_utils.py:208: UserWarning: The parameter 'pretrained' is deprecated since 0.13 and may be removed in the future, please use 'weights' instead.\n",
      "  warnings.warn(\n",
      "/home/kaustubh/miniconda3/envs/carla_15/lib/python3.10/site-packages/torchvision/models/_utils.py:223: UserWarning: Arguments other than a weight enum or `None` for 'weights' are deprecated since 0.13 and may be removed in the future. The current behavior is equivalent to passing `weights=None`.\n",
      "  warnings.warn(msg)\n"
     ]
    }
   ],
   "source": [
    "import os\n",
    "import sys\n",
    "import cv2\n",
    "import time\n",
    "import math\n",
    "import json\n",
    "import carla\n",
    "import pickle\n",
    "import random\n",
    "import numpy as np\n",
    "from threading import Lock\n",
    "from process_frame import process_frame\n",
    "sys.path.append(r'/home/kaustubh/CARLA_15/PythonAPI/carla')\n",
    "from agents.navigation.global_route_planner import GlobalRoutePlanner"
   ]
  },
  {
   "cell_type": "code",
   "execution_count": 2,
   "id": "8305fbf6",
   "metadata": {},
   "outputs": [],
   "source": [
    "rgb_path = \"Dataset/rgb_image\"\n",
    "seg_path = \"Dataset/seg_image\"\n",
    "logs = \"logs\"\n",
    "os.makedirs(rgb_path, exist_ok=True)\n",
    "os.makedirs(seg_path, exist_ok=True)\n",
    "os.makedirs(logs, exist_ok=True)"
   ]
  },
  {
   "cell_type": "code",
   "execution_count": 3,
   "id": "eb297e26",
   "metadata": {},
   "outputs": [],
   "source": [
    "client = carla.Client('localhost', 2000)\n",
    "client.set_timeout(10.0)\n",
    "world = client.get_world()\n",
    "traffic_manager = client.get_trafficmanager()\n",
    "blueprint = world.get_blueprint_library()"
   ]
  },
  {
   "cell_type": "code",
   "execution_count": 4,
   "id": "c337281c",
   "metadata": {},
   "outputs": [],
   "source": [
    "# Destroying old actors i.e old sensors and vehicles\n",
    "for x in world.get_actors().filter('*sensor*'):\n",
    "    x.destroy()\n",
    "for x in world.get_actors().filter('vehicle.volkswagen.t2_2021'):\n",
    "    x.destroy()\n",
    "\n",
    "# Blueprint of the vehicles and sensors\n",
    "vehicle_bp = blueprint.find('vehicle.volkswagen.t2_2021')\n",
    "camera_bp = blueprint.find('sensor.camera.rgb')\n",
    "imu_bp = blueprint.find('sensor.other.imu')\n",
    "gnss_bp = blueprint.find('sensor.other.gnss')"
   ]
  },
  {
   "cell_type": "code",
   "execution_count": 5,
   "id": "6c94b4f7",
   "metadata": {},
   "outputs": [],
   "source": [
    "spawn_points = world.get_map().get_spawn_points()"
   ]
  },
  {
   "cell_type": "code",
   "execution_count": 6,
   "id": "40603306",
   "metadata": {},
   "outputs": [],
   "source": [
    "camera_bp.set_attribute('image_size_x', '640')\n",
    "camera_bp.set_attribute('image_size_y', '360')\n",
    "image = None\n",
    "\n",
    "vehicle_length = 4.442184\n",
    "vehicle_width = 1.774566\n",
    "vehicle_height = 1.987206\n",
    "\n",
    "camera_location = carla.Location(\n",
    "    x=vehicle_length / 2.9 , \n",
    "    y=0,\n",
    "    z=2.2\n",
    ")\n",
    "\n",
    "# camera_rotation = carla.Rotation(pitch=-30, yaw=0, roll=0)\n",
    "\n",
    "# camera_transform = carla.Transform(carla.Location(z=2.25, x=1.3))\n",
    "camera_transform = carla.Transform(camera_location)\n",
    "\n",
    "gnss_transform = carla.Transform(carla.Location(z=2.0))\n",
    "imu_transform = carla.Transform(carla.Location(z=2.0))\n",
    "gnss = None\n",
    "imu = None\n",
    "# vehicle = world.try_spawn_actor(vehicle_bp, random.choice(spawn_points))\n",
    "vehicle = world.try_spawn_actor(vehicle_bp, spawn_points[0])\n"
   ]
  },
  {
   "cell_type": "code",
   "execution_count": null,
   "id": "1a525f6b",
   "metadata": {},
   "outputs": [],
   "source": [
    "def euler_to_quaternion():\n",
    "    pitch, roll = 0, 0\n",
    "    yaw=vehicle.get_transform().rotation.yaw\n",
    "    cy = math.cos(yaw * 0.5)\n",
    "    sy = math.sin(yaw * 0.5)\n",
    "    cp = math.cos(pitch * 0.5)\n",
    "    sp = math.sin(pitch * 0.5)\n",
    "    cr = math.cos(roll * 0.5)\n",
    "    sr = math.sin(roll * 0.5)\n",
    "\n",
    "    return {\n",
    "        \"w\": cr * cp * cy + sr * sp * sy,\n",
    "        \"x\": sr * cp * cy - cr * sp * sy,\n",
    "        \"y\": cr * sp * cy + sr * cp * sy,\n",
    "        \"z\": cr * cp * sy - sr * sp * cy\n",
    "    }\n",
    "\n",
    "# Callbacks\n",
    "def image_callback(data):\n",
    "    global image\n",
    "    array = np.frombuffer(data.raw_data, dtype=np.uint8)\n",
    "    array = np.reshape(array, (data.height, data.width, 4))[:, :, :3]\n",
    "    image = array\n",
    "    \n",
    "def gnss_callback(event):\n",
    "    global gnss\n",
    "    gnss = {\n",
    "        \"latitude\": event.latitude,\n",
    "        \"longitude\": event.longitude\n",
    "    }\n",
    "    \n",
    "def imu_callback(event):\n",
    "    global imu\n",
    "    imu = {\n",
    "        \"orientation\": euler_to_quaternion(),\n",
    "        \"orientation_covariance\": [0.0]*9,  \n",
    "        \"angular_velocity\": {\n",
    "            \"x\": event.gyroscope.x,\n",
    "            \"y\": event.gyroscope.y,\n",
    "            \"z\": event.gyroscope.z\n",
    "        },\n",
    "        \"angular_velocity_covariance\": [0.0]*9,  \n",
    "        \"linear_acceleration\": {\n",
    "            \"x\": event.accelerometer.x,\n",
    "            \"y\": event.accelerometer.y,\n",
    "            \"z\": event.accelerometer.z\n",
    "        },\n",
    "        \"linear_acceleration_covariance\": [0.0]*9 \n",
    "    }"
   ]
  },
  {
   "cell_type": "code",
   "execution_count": 8,
   "id": "87cab7aa",
   "metadata": {},
   "outputs": [],
   "source": [
    "camera_sensor = world.spawn_actor(camera_bp, camera_transform, attach_to=vehicle)\n",
    "gnss_sensor = world.spawn_actor(gnss_bp, gnss_transform, attach_to=vehicle)\n",
    "imu_sensor = world.spawn_actor(imu_bp, imu_transform, attach_to=vehicle)"
   ]
  },
  {
   "cell_type": "code",
   "execution_count": 9,
   "id": "0d959c4f",
   "metadata": {},
   "outputs": [],
   "source": [
    "camera_sensor.listen(lambda data: image_callback(data))\n",
    "gnss_sensor.listen(lambda data: gnss_callback(data))\n",
    "imu_sensor.listen(lambda data: imu_callback(data))"
   ]
  },
  {
   "cell_type": "code",
   "execution_count": 10,
   "id": "e4d6c385",
   "metadata": {},
   "outputs": [],
   "source": [
    "# vehicle.set_autopilot(True)\n",
    "\n",
    "\n",
    "\n",
    "# vehicle.set_autopilot(False)\n",
    "while True:\n",
    "    processed_image = process_frame(image)\n",
    "    \n",
    "    if cv2.waitKey(1) == ord('q'):\n",
    "        quit = True\n",
    "        break\n",
    "\n",
    "    combined_image = np.hstack((processed_image, image))\n",
    "\n",
    "    cv2.imshow(\"Camera\", combined_image)\n",
    "    cv2.waitKey(1)\n",
    "\n",
    "cv2.destroyAllWindows()"
   ]
  },
  {
   "cell_type": "code",
   "execution_count": null,
   "id": "b12a5c99",
   "metadata": {},
   "outputs": [],
   "source": [
    "frame = {'count': 0}\n",
    "data_log = []\n",
    "def save_data(image):\n",
    "    timestamp = time.time()\n",
    "    \n",
    "    # processed_image = process_frame(image)\n",
    "    img_name = f\"{frame['count']:05d}.png\"\n",
    "    cv2.imwrite(os.path.join(rgb_path, img_name), image)\n",
    "    # cv2.imwrite(os.path.join(seg_path, img_name), processed_image)\n",
    "\n",
    "    control = vehicle.get_control()\n",
    "    throttle = control.throttle\n",
    "    steer = control.steer\n",
    "    brake = control.brake\n",
    "    \n",
    "    data_log.append({\n",
    "        'img': img_name,\n",
    "        'steer': steer,\n",
    "        'throttle': throttle,\n",
    "        'brake': brake,\n",
    "        'imu': imu,\n",
    "        'gnss': gnss,\n",
    "        'timestamp': timestamp\n",
    "    })\n",
    "\n",
    "    frame['count'] += 1\n",
    "    if frame['count'] >= 10000:\n",
    "        camera_sensor.stop()"
   ]
  },
  {
   "cell_type": "code",
   "execution_count": null,
   "id": "0349afa9",
   "metadata": {},
   "outputs": [],
   "source": [
    "traffic_manager.ignore_lights_percentage(vehicle, 100.0)\n",
    "traffic_manager.ignore_signs_percentage(vehicle, 100.0)\n",
    "\n",
    "vehicle.set_autopilot(True)\n",
    "\n",
    "for i in range(10000):\n",
    "    try:\n",
    "        save_data(image)\n",
    "        time.sleep(0.1)\n",
    "    except:\n",
    "        pass\n",
    "with open(os.path.join(logs, \"logs.json\"), \"w\") as f:\n",
    "    json.dump(data_log, f, indent=2)\n",
    "    print(\"Done logging\")\n",
    "    \n"
   ]
  },
  {
   "cell_type": "code",
   "execution_count": 3,
   "id": "b4ff6bc3",
   "metadata": {},
   "outputs": [
    {
     "name": "stderr",
     "output_type": "stream",
     "text": [
      "100%|██████████| 10000/10000 [09:28<00:00, 17.60it/s]\n"
     ]
    }
   ],
   "source": [
    "import os\n",
    "import cv2\n",
    "from tqdm import tqdm\n",
    "import json\n",
    "\n",
    "rgb_dir = rgb_path\n",
    "segmentation_dir = seg_path\n",
    "os.makedirs(segmentation_dir, exist_ok=True)\n",
    "\n",
    "with open(os.path.join(logs, \"logs.json\"), \"r\") as f:\n",
    "    data = json.load(f)\n",
    "\n",
    "for entry in tqdm(data):\n",
    "    img_filename = entry[\"img\"]\n",
    "    # print(img_filename)\n",
    "    rgb_path = os.path.join(rgb_dir, img_filename)\n",
    "    seg_path = os.path.join(segmentation_dir, img_filename)\n",
    "\n",
    "    rgb_image = cv2.imread(rgb_path)\n",
    "    if rgb_image is None:\n",
    "        print(f\"Missing: {rgb_path}\")\n",
    "        continue\n",
    "\n",
    "    mask = process_frame(rgb_image) \n",
    "    cv2.imwrite(seg_path, mask) \n"
   ]
  },
  {
   "cell_type": "code",
   "execution_count": null,
   "id": "06339bce",
   "metadata": {},
   "outputs": [],
   "source": []
  }
 ],
 "metadata": {
  "kernelspec": {
   "display_name": "carla_15",
   "language": "python",
   "name": "python3"
  },
  "language_info": {
   "codemirror_mode": {
    "name": "ipython",
    "version": 3
   },
   "file_extension": ".py",
   "mimetype": "text/x-python",
   "name": "python",
   "nbconvert_exporter": "python",
   "pygments_lexer": "ipython3",
   "version": "3.10.0"
  }
 },
 "nbformat": 4,
 "nbformat_minor": 5
}
