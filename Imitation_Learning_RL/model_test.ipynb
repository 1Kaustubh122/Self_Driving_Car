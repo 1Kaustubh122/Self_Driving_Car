{
 "cells": [
  {
   "cell_type": "code",
   "execution_count": null,
   "id": "c1904698",
   "metadata": {},
   "outputs": [],
   "source": []
  }
 ],
 "metadata": {
  "kernelspec": {
   "display_name": "carla_15",
   "language": "python",
   "name": "python3"
  },
  "language_info": {
   "name": "python",
   "version": "3.10.0"
  }
 },
 "nbformat": 4,
 "nbformat_minor": 5
}
