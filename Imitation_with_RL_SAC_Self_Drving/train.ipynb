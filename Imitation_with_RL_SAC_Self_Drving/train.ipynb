{
 "cells": [
  {
   "cell_type": "code",
   "execution_count": 1,
   "id": "b32a7c2c",
   "metadata": {},
   "outputs": [],
   "source": [
    "import sys\n",
    "sys.path.append('/home/kaustubh/Documents/GitHub/Self_Driving_Car/')"
   ]
  },
  {
   "cell_type": "code",
   "execution_count": 2,
   "id": "8deebc8d",
   "metadata": {},
   "outputs": [
    {
     "name": "stdout",
     "output_type": "stream",
     "text": [
      "['', '/opt/ros/humble/lib/python3.10/site-packages', '/opt/ros/humble/local/lib/python3.10/dist-packages', '/home/kaustubh/miniconda3/envs/carla_15/lib/python310.zip', '/home/kaustubh/miniconda3/envs/carla_15/lib/python3.10', '/home/kaustubh/miniconda3/envs/carla_15/lib/python3.10/lib-dynload', '/home/kaustubh/miniconda3/envs/carla_15/lib/python3.10/site-packages', '/home/kaustubh/Documents/GitHub/Self_Driving_Car/', '/home/kaustubh/miniconda3/envs/carla_15/lib/python3.10/site-packages/setuptools/_vendor', '/tmp/tmpzb1p4uex', '/home/kaustubh/Documents/GitHub/Self_Driving_Car/Imitation_Learning_RL', '/home/kaustubh/Documents/GitHub/Self_Driving_Car/Imitation_Learning_RL/model', '/home/kaustubh/Documents/GitHub/Self_Driving_Car/Imitation_Learning_RL/model']\n"
     ]
    },
    {
     "name": "stderr",
     "output_type": "stream",
     "text": [
      "/home/kaustubh/miniconda3/envs/carla_15/lib/python3.10/site-packages/torchvision/models/_utils.py:208: UserWarning: The parameter 'pretrained' is deprecated since 0.13 and may be removed in the future, please use 'weights' instead.\n",
      "  warnings.warn(\n",
      "/home/kaustubh/miniconda3/envs/carla_15/lib/python3.10/site-packages/torchvision/models/_utils.py:223: UserWarning: Arguments other than a weight enum or `None` for 'weights' are deprecated since 0.13 and may be removed in the future. The current behavior is equivalent to passing `weights=None`.\n",
      "  warnings.warn(msg)\n"
     ]
    }
   ],
   "source": [
    "from stable_baselines3 import SAC\n",
    "from carla_gym_env import CarlaEnv\n",
    "from custom_feature_extractor import CustomFeatureExtractor"
   ]
  },
  {
   "cell_type": "code",
   "execution_count": 3,
   "id": "d770c58f",
   "metadata": {},
   "outputs": [],
   "source": [
    "def main():\n",
    "    env = CarlaEnv()\n",
    "    policy_kwargs = {\n",
    "        'features_extractor_class' : CustomFeatureExtractor,\n",
    "        'features_extractor_kwargs' : {},\n",
    "        'net_arch' : dict(pi=[768, 256, 256], qf=[768, 256, 256])\n",
    "    }\n",
    "    \n",
    "    model = SAC(\n",
    "        \"CnnPolicy\",\n",
    "        env,\n",
    "        policy_kwargs=policy_kwargs,\n",
    "        learning_rate=3e-4,\n",
    "        buffer_size=10000,\n",
    "        learning_starts=5000,\n",
    "        batch_size=64,\n",
    "        tau=0.005,\n",
    "        gamma=0.99,\n",
    "        train_freq=1,\n",
    "        gradient_steps=1,\n",
    "        verbose=1,\n",
    "        device='cpu'\n",
    "    )\n",
    "    \n",
    "    model.learn(total_timesteps=1000000)\n",
    "    model.save(\"sac_carla_model\")"
   ]
  },
  {
   "cell_type": "code",
   "execution_count": null,
   "id": "7423d321",
   "metadata": {},
   "outputs": [
    {
     "name": "stderr",
     "output_type": "stream",
     "text": [
      "/home/kaustubh/miniconda3/envs/carla_15/lib/python3.10/site-packages/gymnasium/spaces/box.py:235: UserWarning: \u001b[33mWARN: Box low's precision lowered by casting to float32, current low.dtype=float64\u001b[0m\n",
      "  gym.logger.warn(\n",
      "/home/kaustubh/miniconda3/envs/carla_15/lib/python3.10/site-packages/gymnasium/spaces/box.py:305: UserWarning: \u001b[33mWARN: Box high's precision lowered by casting to float32, current high.dtype=float64\u001b[0m\n",
      "  gym.logger.warn(\n",
      "/home/kaustubh/miniconda3/envs/carla_15/lib/python3.10/site-packages/stable_baselines3/common/buffers.py:242: UserWarning: This system does not have apparently enough memory to store the complete replay buffer 23.04GB > 22.95GB\n",
      "  warnings.warn(\n"
     ]
    },
    {
     "name": "stdout",
     "output_type": "stream",
     "text": [
      "Using cpu device\n",
      "Wrapping the env with a `Monitor` wrapper\n",
      "Wrapping the env in a DummyVecEnv.\n"
     ]
    },
    {
     "name": "stderr",
     "output_type": "stream",
     "text": [
      "/home/kaustubh/miniconda3/envs/carla_15/lib/python3.10/site-packages/torchvision/transforms/functional.py:154: UserWarning: The given NumPy array is not writable, and PyTorch does not support non-writable tensors. This means writing to this tensor will result in undefined behavior. You may want to copy the array to protect its data or make it writable before converting it to a tensor. This type of warning will be suppressed for the rest of this program. (Triggered internally at /pytorch/torch/csrc/utils/tensor_numpy.cpp:203.)\n",
      "  img = torch.from_numpy(pic.transpose((2, 0, 1))).contiguous()\n"
     ]
    },
    {
     "name": "stdout",
     "output_type": "stream",
     "text": [
      "Lane Invaded\n"
     ]
    },
    {
     "name": "stderr",
     "output_type": "stream",
     "text": [
      "WARNING: sensor object went out of the scope but the sensor is still alive in the simulation: Actor 37 (sensor.camera.rgb) \n",
      "WARNING: sensor object went out of the scope but the sensor is still alive in the simulation: Actor 38 (sensor.other.collision) \n"
     ]
    }
   ],
   "source": [
    "if __name__ == \"__main__\":\n",
    "    main()"
   ]
  },
  {
   "cell_type": "code",
   "execution_count": null,
   "id": "c4594c40",
   "metadata": {},
   "outputs": [],
   "source": []
  }
 ],
 "metadata": {
  "kernelspec": {
   "display_name": "carla_15",
   "language": "python",
   "name": "python3"
  },
  "language_info": {
   "codemirror_mode": {
    "name": "ipython",
    "version": 3
   },
   "file_extension": ".py",
   "mimetype": "text/x-python",
   "name": "python",
   "nbconvert_exporter": "python",
   "pygments_lexer": "ipython3",
   "version": "3.10.0"
  }
 },
 "nbformat": 4,
 "nbformat_minor": 5
}
