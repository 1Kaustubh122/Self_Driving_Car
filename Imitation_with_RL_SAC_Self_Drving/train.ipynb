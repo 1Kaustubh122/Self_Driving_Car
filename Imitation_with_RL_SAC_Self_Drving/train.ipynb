{
 "cells": [
  {
   "cell_type": "code",
   "execution_count": 1,
   "id": "b32a7c2c",
   "metadata": {},
   "outputs": [],
   "source": [
    "import os\n",
    "import sys\n",
    "import platform\n",
    "\n",
    "if platform.system() == \"Windows\":\n",
    "    sys.path.append('C:/Users/WORKSTATION2/Self_Driving_Car/')\n",
    "    sys.path.append('C:/Users/WORKSTATION2/Self_Driving_Car/Imitation_Learning_RL/')\n",
    "    sys.path.append('C:/Users/WORKSTATION2/Self_Driving_Car/Imitation_Learning_RL/model')\n",
    "else: # Ubunutu\n",
    "    sys.path.append('/home/user/Self_Driving_Car/')\n",
    "    sys.path.append('/home/user/Self_Driving_Car/Imitation_Learning_RL/')\n",
    "    sys.path.append('/home/user/Self_Driving_Car/Imitation_Learning_RL/model')\n"
   ]
  },
  {
   "cell_type": "code",
   "execution_count": 2,
   "id": "8deebc8d",
   "metadata": {},
   "outputs": [
    {
     "name": "stdout",
     "output_type": "stream",
     "text": [
      "['c:\\\\Users\\\\WORKSTATION2\\\\Miniconda3\\\\envs\\\\carla_15\\\\python310.zip', 'c:\\\\Users\\\\WORKSTATION2\\\\Miniconda3\\\\envs\\\\carla_15\\\\DLLs', 'c:\\\\Users\\\\WORKSTATION2\\\\Miniconda3\\\\envs\\\\carla_15\\\\lib', 'c:\\\\Users\\\\WORKSTATION2\\\\Miniconda3\\\\envs\\\\carla_15', '', 'c:\\\\Users\\\\WORKSTATION2\\\\Miniconda3\\\\envs\\\\carla_15\\\\lib\\\\site-packages', 'c:\\\\Users\\\\WORKSTATION2\\\\Miniconda3\\\\envs\\\\carla_15\\\\lib\\\\site-packages\\\\win32', 'c:\\\\Users\\\\WORKSTATION2\\\\Miniconda3\\\\envs\\\\carla_15\\\\lib\\\\site-packages\\\\win32\\\\lib', 'c:\\\\Users\\\\WORKSTATION2\\\\Miniconda3\\\\envs\\\\carla_15\\\\lib\\\\site-packages\\\\Pythonwin', 'C:/Users/WORKSTATION2/Self_Driving_Car/', 'C:/Users/WORKSTATION2/Self_Driving_Car/Imitation_Learning_RL/', 'C:/Users/WORKSTATION2/Self_Driving_Car/Imitation_Learning_RL/model', '/home/kaustubh/Documents/GitHub/Self_Driving_Car/Imitation_Learning_RL', '/home/kaustubh/Documents/GitHub/Self_Driving_Car/Imitation_Learning_RL/model', '/home/kaustubh/Documents/GitHub/Self_Driving_Car/Imitation_Learning_RL/model']\n"
     ]
    },
    {
     "name": "stderr",
     "output_type": "stream",
     "text": [
      "c:\\Users\\WORKSTATION2\\Miniconda3\\envs\\carla_15\\lib\\site-packages\\torchvision\\models\\_utils.py:208: UserWarning: The parameter 'pretrained' is deprecated since 0.13 and may be removed in the future, please use 'weights' instead.\n",
      "  warnings.warn(\n",
      "c:\\Users\\WORKSTATION2\\Miniconda3\\envs\\carla_15\\lib\\site-packages\\torchvision\\models\\_utils.py:223: UserWarning: Arguments other than a weight enum or `None` for 'weights' are deprecated since 0.13 and may be removed in the future. The current behavior is equivalent to passing `weights=None`.\n",
      "  warnings.warn(msg)\n"
     ]
    }
   ],
   "source": [
    "import gc\n",
    "import torch\n",
    "import multiprocessing as mp\n",
    "from stable_baselines3 import SAC\n",
    "from carla_gym_env import CarlaEnv\n",
    "from stable_baselines3.common.vec_env import DummyVecEnv\n",
    "from stable_baselines3.common.vec_env import SubprocVecEnv\n",
    "from custom_feature_extractor import UnifiedFeatureExtractor\n",
    "from stable_baselines3.common.callbacks import CheckpointCallback, CallbackList, BaseCallback"
   ]
  },
  {
   "cell_type": "code",
   "execution_count": 3,
   "id": "2832d4a1",
   "metadata": {},
   "outputs": [],
   "source": [
    "CHECKPOINTS_DIR = \"checkpoints\"\n",
    "TENSORBOARD_LOGS = \"tensorboard_logs\"\n",
    "CHECKPOINT_PATH = os.path.join(CHECKPOINTS_DIR, \"sac_carla_model\")\n",
    "TOTAL_TIMESTEPS = 5_000_000\n",
    "SAVE_INTERVAL = 10000\n",
    "DEVICE = \"cuda\" if torch.cuda.is_available() else 'cpu'"
   ]
  },
  {
   "cell_type": "code",
   "execution_count": 4,
   "id": "5f6f92a7",
   "metadata": {},
   "outputs": [],
   "source": [
    "def make_env(host, port):\n",
    "    def _init():\n",
    "        env = CarlaEnv(host=host, port=port)\n",
    "        env.reset()\n",
    "        return env\n",
    "    return _init"
   ]
  },
  {
   "cell_type": "code",
   "execution_count": 5,
   "id": "46add44b",
   "metadata": {},
   "outputs": [],
   "source": [
    "pc_ip = \"192.168.0.2\"\n",
    "# env_fns = [make_env(pc_ip, 2000 + i) for i in range(0, 19, 3)]\n",
    "# env_fns = [make_env(pc_ip, port) for port in [2000, 2003, 2006, 2012, 2015, 2018]]\n",
    "env_fns = [make_env(pc_ip, port) for port in [2000]]\n"
   ]
  },
  {
   "cell_type": "code",
   "execution_count": 6,
   "id": "57e50f27",
   "metadata": {},
   "outputs": [],
   "source": [
    "class TorchGCCallback(BaseCallback):\n",
    "    def __init__(self, verbose=0):\n",
    "        super().__init__(verbose)\n",
    "    \n",
    "    def _on_step(self) -> bool:\n",
    "        if self.n_calls % 100 == 0:\n",
    "            torch.cuda.empty_cache()\n",
    "            gc.collect()\n",
    "        return True"
   ]
  },
  {
   "cell_type": "code",
   "execution_count": null,
   "id": "d770c58f",
   "metadata": {},
   "outputs": [],
   "source": [
    "def main():\n",
    "\n",
    "    \n",
    "    os.makedirs(CHECKPOINTS_DIR, exist_ok=True)\n",
    "    os.makedirs(TENSORBOARD_LOGS, exist_ok=True)\n",
    "    \n",
    "    # try:\n",
    "    #     env=SubprocVecEnv(env_fns)\n",
    "    # except Exception as e:\n",
    "    #     print(f\"Failed to create multi-envs: {e}\")\n",
    "    #     env=DummyVecEnv([make_env(\"localhost\", 2000)])\n",
    "\n",
    "    env=SubprocVecEnv(env_fns)\n",
    "    # env=DummyVecEnv([make_env(\"localhost\", 2000)])\n",
    "    \n",
    "\n",
    "    print(env.observation_space)\n",
    "\n",
    "    \n",
    "    policy_kwargs = {\n",
    "        'features_extractor_class' : UnifiedFeatureExtractor,\n",
    "\n",
    "        'features_extractor_kwargs' : {\n",
    "            \"features_dim\" : 768\n",
    "        },\n",
    "        # 'net_arch': {\n",
    "        #     'pi': [256, 128],\n",
    "        #     'qf': [256, 128]\n",
    "        # }\n",
    "        # 'net_arch' : dict(pi=[768, 256, 256], qf=[768, 256, 256])\n",
    "        # 'net_arch' : dict(pi=[512, 256], qf=[512, 256])\n",
    "        'net_arch' : dict(pi=[256, 128], qf=[256, 128])\n",
    "        \n",
    "    }\n",
    "    \n",
    "    if os.path.exists(CHECKPOINT_PATH + \".zip\"):\n",
    "        model = SAC.load(CHECKPOINT_PATH, env=env, device=DEVICE)\n",
    "        print(f\"Resuming training from checkpoint: {CHECKPOINT_PATH}\")\n",
    "    else:\n",
    "        print(\"Starting new training.\")\n",
    "        \n",
    "        model = SAC(\n",
    "            \"MultiInputPolicy\",\n",
    "            env,\n",
    "            policy_kwargs=policy_kwargs,\n",
    "            learning_rate=3e-4,\n",
    "            # buffer_size=100000,\n",
    "            buffer_size=10000,\n",
    "            learning_starts=5000,\n",
    "            batch_size=256,\n",
    "            tau=0.005,\n",
    "            gamma=0.99,\n",
    "            # train_freq=1,\n",
    "            train_freq=(1, \"step\"),\n",
    "            gradient_steps=2,\n",
    "            tensorboard_log=TENSORBOARD_LOGS,\n",
    "            verbose=1,\n",
    "            device=DEVICE\n",
    "        )\n",
    "    \n",
    "    checkpoint_callback = CheckpointCallback(save_freq=SAVE_INTERVAL, save_path=CHECKPOINTS_DIR, name_prefix='sac_carla_model')\n",
    "    # tensorboard_callback = TensorBoardOutputFormat(folder=TENSORBOARD_LOGS)\n",
    "    # callbacks = CallbackList([checkpoint_callback, tensorboard_callback])\n",
    "    callbacks = CallbackList([checkpoint_callback, TorchGCCallback()])\n",
    "    model.learn(total_timesteps=TOTAL_TIMESTEPS, callback=callbacks, progress_bar=True)\n",
    "    gc.collect()  \n",
    "    torch.cuda.empty_cache()\n",
    "    model.save(\"sac_carla_model\")\n",
    "    \n",
    "    final_model_path = os.path.join(CHECKPOINTS_DIR, f\"sac_final_{TOTAL_TIMESTEPS//1000}k\")\n",
    "    model.save(final_model_path)\n",
    "    print(f\"[DONE] Final model saved to: {final_model_path}\")\n"
   ]
  },
  {
   "cell_type": "code",
   "execution_count": 8,
   "id": "7423d321",
   "metadata": {},
   "outputs": [
    {
     "ename": "EOFError",
     "evalue": "",
     "output_type": "error",
     "traceback": [
      "\u001b[1;31m---------------------------------------------------------------------------\u001b[0m",
      "\u001b[1;31mBrokenPipeError\u001b[0m                           Traceback (most recent call last)",
      "File \u001b[1;32mc:\\Users\\WORKSTATION2\\Miniconda3\\envs\\carla_15\\lib\\multiprocessing\\connection.py:312\u001b[0m, in \u001b[0;36mPipeConnection._recv_bytes\u001b[1;34m(self, maxsize)\u001b[0m\n\u001b[0;32m    311\u001b[0m \u001b[38;5;28;01mfinally\u001b[39;00m:\n\u001b[1;32m--> 312\u001b[0m     nread, err \u001b[38;5;241m=\u001b[39m \u001b[43mov\u001b[49m\u001b[38;5;241;43m.\u001b[39;49m\u001b[43mGetOverlappedResult\u001b[49m\u001b[43m(\u001b[49m\u001b[38;5;28;43;01mTrue\u001b[39;49;00m\u001b[43m)\u001b[49m\n\u001b[0;32m    313\u001b[0m     \u001b[38;5;28;01mif\u001b[39;00m err \u001b[38;5;241m==\u001b[39m \u001b[38;5;241m0\u001b[39m:\n",
      "\u001b[1;31mBrokenPipeError\u001b[0m: [WinError 109] The pipe has been ended",
      "\nDuring handling of the above exception, another exception occurred:\n",
      "\u001b[1;31mEOFError\u001b[0m                                  Traceback (most recent call last)",
      "Cell \u001b[1;32mIn[8], line 3\u001b[0m\n\u001b[0;32m      1\u001b[0m \u001b[38;5;28;01mif\u001b[39;00m \u001b[38;5;18m__name__\u001b[39m \u001b[38;5;241m==\u001b[39m \u001b[38;5;124m\"\u001b[39m\u001b[38;5;124m__main__\u001b[39m\u001b[38;5;124m\"\u001b[39m:\n\u001b[0;32m      2\u001b[0m     \u001b[38;5;66;03m# mp.set_start_method(\"spawn\", force=True)\u001b[39;00m\n\u001b[1;32m----> 3\u001b[0m     \u001b[43mmain\u001b[49m\u001b[43m(\u001b[49m\u001b[43m)\u001b[49m\n",
      "Cell \u001b[1;32mIn[7], line 13\u001b[0m, in \u001b[0;36mmain\u001b[1;34m()\u001b[0m\n\u001b[0;32m      5\u001b[0m os\u001b[38;5;241m.\u001b[39mmakedirs(TENSORBOARD_LOGS, exist_ok\u001b[38;5;241m=\u001b[39m\u001b[38;5;28;01mTrue\u001b[39;00m)\n\u001b[0;32m      7\u001b[0m \u001b[38;5;66;03m# try:\u001b[39;00m\n\u001b[0;32m      8\u001b[0m \u001b[38;5;66;03m#     env=SubprocVecEnv(env_fns)\u001b[39;00m\n\u001b[0;32m      9\u001b[0m \u001b[38;5;66;03m# except Exception as e:\u001b[39;00m\n\u001b[0;32m     10\u001b[0m \u001b[38;5;66;03m#     print(f\"Failed to create multi-envs: {e}\")\u001b[39;00m\n\u001b[0;32m     11\u001b[0m \u001b[38;5;66;03m#     env=DummyVecEnv([make_env(\"localhost\", 2000)])\u001b[39;00m\n\u001b[1;32m---> 13\u001b[0m env\u001b[38;5;241m=\u001b[39m\u001b[43mSubprocVecEnv\u001b[49m\u001b[43m(\u001b[49m\u001b[43menv_fns\u001b[49m\u001b[43m)\u001b[49m\n\u001b[0;32m     14\u001b[0m \u001b[38;5;66;03m# env=DummyVecEnv([make_env(\"localhost\", 2000)])\u001b[39;00m\n\u001b[0;32m     17\u001b[0m \u001b[38;5;28mprint\u001b[39m(env\u001b[38;5;241m.\u001b[39mobservation_space)\n",
      "File \u001b[1;32mc:\\Users\\WORKSTATION2\\Miniconda3\\envs\\carla_15\\lib\\site-packages\\stable_baselines3\\common\\vec_env\\subproc_vec_env.py:127\u001b[0m, in \u001b[0;36mSubprocVecEnv.__init__\u001b[1;34m(self, env_fns, start_method)\u001b[0m\n\u001b[0;32m    124\u001b[0m     work_remote\u001b[38;5;241m.\u001b[39mclose()\n\u001b[0;32m    126\u001b[0m \u001b[38;5;28mself\u001b[39m\u001b[38;5;241m.\u001b[39mremotes[\u001b[38;5;241m0\u001b[39m]\u001b[38;5;241m.\u001b[39msend((\u001b[38;5;124m\"\u001b[39m\u001b[38;5;124mget_spaces\u001b[39m\u001b[38;5;124m\"\u001b[39m, \u001b[38;5;28;01mNone\u001b[39;00m))\n\u001b[1;32m--> 127\u001b[0m observation_space, action_space \u001b[38;5;241m=\u001b[39m \u001b[38;5;28;43mself\u001b[39;49m\u001b[38;5;241;43m.\u001b[39;49m\u001b[43mremotes\u001b[49m\u001b[43m[\u001b[49m\u001b[38;5;241;43m0\u001b[39;49m\u001b[43m]\u001b[49m\u001b[38;5;241;43m.\u001b[39;49m\u001b[43mrecv\u001b[49m\u001b[43m(\u001b[49m\u001b[43m)\u001b[49m\n\u001b[0;32m    129\u001b[0m \u001b[38;5;28msuper\u001b[39m()\u001b[38;5;241m.\u001b[39m\u001b[38;5;21m__init__\u001b[39m(\u001b[38;5;28mlen\u001b[39m(env_fns), observation_space, action_space)\n",
      "File \u001b[1;32mc:\\Users\\WORKSTATION2\\Miniconda3\\envs\\carla_15\\lib\\multiprocessing\\connection.py:250\u001b[0m, in \u001b[0;36m_ConnectionBase.recv\u001b[1;34m(self)\u001b[0m\n\u001b[0;32m    248\u001b[0m \u001b[38;5;28mself\u001b[39m\u001b[38;5;241m.\u001b[39m_check_closed()\n\u001b[0;32m    249\u001b[0m \u001b[38;5;28mself\u001b[39m\u001b[38;5;241m.\u001b[39m_check_readable()\n\u001b[1;32m--> 250\u001b[0m buf \u001b[38;5;241m=\u001b[39m \u001b[38;5;28;43mself\u001b[39;49m\u001b[38;5;241;43m.\u001b[39;49m\u001b[43m_recv_bytes\u001b[49m\u001b[43m(\u001b[49m\u001b[43m)\u001b[49m\n\u001b[0;32m    251\u001b[0m \u001b[38;5;28;01mreturn\u001b[39;00m _ForkingPickler\u001b[38;5;241m.\u001b[39mloads(buf\u001b[38;5;241m.\u001b[39mgetbuffer())\n",
      "File \u001b[1;32mc:\\Users\\WORKSTATION2\\Miniconda3\\envs\\carla_15\\lib\\multiprocessing\\connection.py:321\u001b[0m, in \u001b[0;36mPipeConnection._recv_bytes\u001b[1;34m(self, maxsize)\u001b[0m\n\u001b[0;32m    319\u001b[0m \u001b[38;5;28;01mexcept\u001b[39;00m \u001b[38;5;167;01mOSError\u001b[39;00m \u001b[38;5;28;01mas\u001b[39;00m e:\n\u001b[0;32m    320\u001b[0m     \u001b[38;5;28;01mif\u001b[39;00m e\u001b[38;5;241m.\u001b[39mwinerror \u001b[38;5;241m==\u001b[39m _winapi\u001b[38;5;241m.\u001b[39mERROR_BROKEN_PIPE:\n\u001b[1;32m--> 321\u001b[0m         \u001b[38;5;28;01mraise\u001b[39;00m \u001b[38;5;167;01mEOFError\u001b[39;00m\n\u001b[0;32m    322\u001b[0m     \u001b[38;5;28;01melse\u001b[39;00m:\n\u001b[0;32m    323\u001b[0m         \u001b[38;5;28;01mraise\u001b[39;00m\n",
      "\u001b[1;31mEOFError\u001b[0m: "
     ]
    }
   ],
   "source": [
    "if __name__ == \"__main__\":\n",
    "    # mp.set_start_method(\"spawn\", force=True)\n",
    "    main()"
   ]
  },
  {
   "cell_type": "code",
   "execution_count": null,
   "id": "c585f354",
   "metadata": {},
   "outputs": [
    {
     "name": "stdout",
     "output_type": "stream",
     "text": [
      "Connected to port 2000\n",
      "Connected to port 2003\n",
      "Connected to port 2006\n",
      "Connected to port 2009\n",
      "Connected to port 2012\n",
      "Connected to port 2015\n",
      "Connected to port 2018\n"
     ]
    }
   ],
   "source": [
    "import carla\n",
    "for port in [2000, 2003, 2006, 2009, 2012, 2015, 2018]:\n",
    "    try:\n",
    "        client = carla.Client('192.168.0.2', port)\n",
    "        client.set_timeout(5.0)\n",
    "        world = client.get_world()\n",
    "        print(f\"Connected to port {port}\")\n",
    "    except Exception as e:\n",
    "        print(f\"Failed to connect to port {port}: {e}\")"
   ]
  },
  {
   "cell_type": "code",
   "execution_count": null,
   "id": "e13c88d0",
   "metadata": {},
   "outputs": [],
   "source": []
  }
 ],
 "metadata": {
  "kernelspec": {
   "display_name": "carla_15",
   "language": "python",
   "name": "python3"
  },
  "language_info": {
   "codemirror_mode": {
    "name": "ipython",
    "version": 3
   },
   "file_extension": ".py",
   "mimetype": "text/x-python",
   "name": "python",
   "nbconvert_exporter": "python",
   "pygments_lexer": "ipython3",
   "version": "3.10.16"
  }
 },
 "nbformat": 4,
 "nbformat_minor": 5
}
