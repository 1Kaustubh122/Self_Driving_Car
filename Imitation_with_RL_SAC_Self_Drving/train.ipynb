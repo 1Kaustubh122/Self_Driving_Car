{
 "cells": [
  {
   "cell_type": "code",
   "execution_count": 1,
   "id": "b32a7c2c",
   "metadata": {},
   "outputs": [],
   "source": [
    "import os\n",
    "import sys\n",
    "sys.path.append('/home/kaustubh/Documents/GitHub/Self_Driving_Car/')"
   ]
  },
  {
   "cell_type": "code",
   "execution_count": 7,
   "id": "8deebc8d",
   "metadata": {},
   "outputs": [],
   "source": [
    "import torch\n",
    "from stable_baselines3 import SAC\n",
    "from carla_gym_env import CarlaEnv\n",
    "from custom_feature_extractor import CustomFeatureExtractor\n",
    "from stable_baselines3.common.callbacks import CheckpointCallback"
   ]
  },
  {
   "cell_type": "code",
   "execution_count": null,
   "id": "2832d4a1",
   "metadata": {},
   "outputs": [],
   "source": [
    "CHECKPOINTS_DIR = \"checkpoints\"\n",
    "CHECKPOINT_PATH = os.path.join(CHECKPOINTS_DIR, \"sac_carla_model\")\n",
    "TOTAL_TIMESTEPS = 5_000_000\n",
    "SAVE_INTERVAL = 100_100"
   ]
  },
  {
   "cell_type": "code",
   "execution_count": null,
   "id": "d770c58f",
   "metadata": {},
   "outputs": [],
   "source": [
    "def main():\n",
    "    os.makedirs(CHECKPOINTS_DIR, exist_ok=True)\n",
    "    \n",
    "    env = CarlaEnv()\n",
    "    policy_kwargs = {\n",
    "        'features_extractor_class' : CustomFeatureExtractor,\n",
    "        'features_extractor_kwargs' : {},\n",
    "        'net_arch' : dict(pi=[768, 256, 256], qf=[768, 256, 256])\n",
    "    }\n",
    "    \n",
    "    if os.path.exists(CHECKPOINT_PATH + \".zip\"):\n",
    "        model = SAC.load(CHECKPOINT_PATH, env=env, device=\"cuda\" if torch.cuda.is_available() else 'cpu')\n",
    "        print(f\"Resuming training from checkpoint: {CHECKPOINT_PATH}\")\n",
    "    else:\n",
    "        print(\"Starting new training.\")\n",
    "        \n",
    "        model = SAC(\n",
    "            \"CnnPolicy\",\n",
    "            env,\n",
    "            policy_kwargs=policy_kwargs,\n",
    "            learning_rate=3e-4,\n",
    "            buffer_size=10000,\n",
    "            learning_starts=5000,\n",
    "            batch_size=64,\n",
    "            tau=0.005,\n",
    "            gamma=0.99,\n",
    "            train_freq=1,\n",
    "            gradient_steps=1,\n",
    "            verbose=1,\n",
    "            device='cpu'\n",
    "        )\n",
    "    \n",
    "    checkpoint_callback = CheckpointCallback(save_freq=SAVE_INTERVAL, save_path=CHECKPOINTS_DIR, name_prefix='sac_carla_model')\n",
    "    model.learn(total_timesteps=TOTAL_TIMESTEPS, callback=checkpoint_callback, progress_bar=True)\n",
    "    model.save(\"sac_carla_model\")\n",
    "    \n",
    "    final_model_path = os.path.join(CHECKPOINTS_DIR, f\"sac_final_{TOTAL_TIMESTEPS//1000}k\")\n",
    "    model.save(final_model_path)\n",
    "    print(f\"[DONE] Final model saved to: {final_model_path}\")\n"
   ]
  },
  {
   "cell_type": "code",
   "execution_count": null,
   "id": "7423d321",
   "metadata": {},
   "outputs": [
    {
     "name": "stderr",
     "output_type": "stream",
     "text": [
      "/home/kaustubh/miniconda3/envs/carla_15/lib/python3.10/site-packages/gymnasium/spaces/box.py:235: UserWarning: \u001b[33mWARN: Box low's precision lowered by casting to float32, current low.dtype=float64\u001b[0m\n",
      "  gym.logger.warn(\n",
      "/home/kaustubh/miniconda3/envs/carla_15/lib/python3.10/site-packages/gymnasium/spaces/box.py:305: UserWarning: \u001b[33mWARN: Box high's precision lowered by casting to float32, current high.dtype=float64\u001b[0m\n",
      "  gym.logger.warn(\n",
      "/home/kaustubh/miniconda3/envs/carla_15/lib/python3.10/site-packages/stable_baselines3/common/buffers.py:242: UserWarning: This system does not have apparently enough memory to store the complete replay buffer 23.04GB > 22.95GB\n",
      "  warnings.warn(\n"
     ]
    },
    {
     "name": "stdout",
     "output_type": "stream",
     "text": [
      "Using cpu device\n",
      "Wrapping the env with a `Monitor` wrapper\n",
      "Wrapping the env in a DummyVecEnv.\n"
     ]
    },
    {
     "name": "stderr",
     "output_type": "stream",
     "text": [
      "/home/kaustubh/miniconda3/envs/carla_15/lib/python3.10/site-packages/torchvision/transforms/functional.py:154: UserWarning: The given NumPy array is not writable, and PyTorch does not support non-writable tensors. This means writing to this tensor will result in undefined behavior. You may want to copy the array to protect its data or make it writable before converting it to a tensor. This type of warning will be suppressed for the rest of this program. (Triggered internally at /pytorch/torch/csrc/utils/tensor_numpy.cpp:203.)\n",
      "  img = torch.from_numpy(pic.transpose((2, 0, 1))).contiguous()\n"
     ]
    },
    {
     "name": "stdout",
     "output_type": "stream",
     "text": [
      "Lane Invaded\n"
     ]
    },
    {
     "name": "stderr",
     "output_type": "stream",
     "text": [
      "WARNING: sensor object went out of the scope but the sensor is still alive in the simulation: Actor 37 (sensor.camera.rgb) \n",
      "WARNING: sensor object went out of the scope but the sensor is still alive in the simulation: Actor 38 (sensor.other.collision) \n"
     ]
    }
   ],
   "source": [
    "if __name__ == \"__main__\":\n",
    "    main()"
   ]
  },
  {
   "cell_type": "code",
   "execution_count": null,
   "id": "c4594c40",
   "metadata": {},
   "outputs": [],
   "source": []
  }
 ],
 "metadata": {
  "kernelspec": {
   "display_name": "carla_15",
   "language": "python",
   "name": "python3"
  },
  "language_info": {
   "codemirror_mode": {
    "name": "ipython",
    "version": 3
   },
   "file_extension": ".py",
   "mimetype": "text/x-python",
   "name": "python",
   "nbconvert_exporter": "python",
   "pygments_lexer": "ipython3",
   "version": "3.10.0"
  }
 },
 "nbformat": 4,
 "nbformat_minor": 5
}
