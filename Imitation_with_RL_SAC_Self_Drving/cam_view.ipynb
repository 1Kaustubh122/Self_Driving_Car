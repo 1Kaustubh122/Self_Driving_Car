{
 "cells": [
  {
   "cell_type": "markdown",
   "id": "e7148c7b",
   "metadata": {},
   "source": [
    "\n",
    "To check cam view while trainng RL model,\n",
    "make sure that train.ipynb is running\n"
   ]
  },
  {
   "cell_type": "code",
   "execution_count": 1,
   "id": "3fa13171",
   "metadata": {},
   "outputs": [],
   "source": [
    "import sys\n",
    "sys.path.append('/home/kaustubh/Documents/GitHub/Self_Driving_Car/')"
   ]
  },
  {
   "cell_type": "code",
   "execution_count": 2,
   "id": "10925d2b",
   "metadata": {},
   "outputs": [
    {
     "name": "stdout",
     "output_type": "stream",
     "text": [
      "['', '/opt/ros/humble/lib/python3.10/site-packages', '/opt/ros/humble/local/lib/python3.10/dist-packages', '/home/kaustubh/miniconda3/envs/carla_15/lib/python310.zip', '/home/kaustubh/miniconda3/envs/carla_15/lib/python3.10', '/home/kaustubh/miniconda3/envs/carla_15/lib/python3.10/lib-dynload', '/home/kaustubh/miniconda3/envs/carla_15/lib/python3.10/site-packages', '/home/kaustubh/Documents/GitHub/Self_Driving_Car/', '/home/kaustubh/Documents/GitHub/Self_Driving_Car/Imitation_Learning_RL', '/home/kaustubh/Documents/GitHub/Self_Driving_Car/Imitation_Learning_RL/model', '/home/kaustubh/Documents/GitHub/Self_Driving_Car/Imitation_Learning_RL/model', '/home/kaustubh/miniconda3/envs/carla_15/lib/python3.10/site-packages/setuptools/_vendor', '/tmp/tmp_bc_0dep']\n"
     ]
    },
    {
     "name": "stderr",
     "output_type": "stream",
     "text": [
      "/home/kaustubh/miniconda3/envs/carla_15/lib/python3.10/site-packages/torchvision/models/_utils.py:208: UserWarning: The parameter 'pretrained' is deprecated since 0.13 and may be removed in the future, please use 'weights' instead.\n",
      "  warnings.warn(\n",
      "/home/kaustubh/miniconda3/envs/carla_15/lib/python3.10/site-packages/torchvision/models/_utils.py:223: UserWarning: Arguments other than a weight enum or `None` for 'weights' are deprecated since 0.13 and may be removed in the future. The current behavior is equivalent to passing `weights=None`.\n",
      "  warnings.warn(msg)\n"
     ]
    }
   ],
   "source": [
    "import carla\n",
    "import numpy as np\n",
    "from Imitation_Learning_RL.process_frame import process_frame"
   ]
  },
  {
   "cell_type": "code",
   "execution_count": 3,
   "id": "e91e9470",
   "metadata": {},
   "outputs": [],
   "source": [
    "seg_image = None\n",
    "rgb_image = None\n",
    "collision = None\n",
    "lane_invasion = None"
   ]
  },
  {
   "cell_type": "code",
   "execution_count": null,
   "id": "45794b55",
   "metadata": {},
   "outputs": [],
   "source": [
    "# Callbacks\n",
    "def image_callback(data):\n",
    "    global rgb_image, seg_image\n",
    "    array = np.frombuffer(data.raw_data, dtype=np.uint8)\n",
    "    array = np.reshape(array, (data.height, data.width, 4))[:, :, :3]\n",
    "    rgb_image = array\n",
    "    seg_image = process_frame(rgb_image)\n",
    "\n",
    "def collision_callback(data):\n",
    "    global collision\n",
    "    collision = True\n",
    "\n",
    "def lane_invasion_callback(event):\n",
    "    global lane_invasion\n",
    "    lane_invasion = True"
   ]
  },
  {
   "cell_type": "code",
   "execution_count": 5,
   "id": "2832b599",
   "metadata": {},
   "outputs": [],
   "source": [
    "client_ = carla.Client('localhost', 2000)\n",
    "client_.set_timeout(10.0)\n",
    "world_ = client_.get_world()\n",
    "blueprint_library_ = world_.get_blueprint_library()"
   ]
  },
  {
   "cell_type": "code",
   "execution_count": 6,
   "id": "bbad2a65",
   "metadata": {},
   "outputs": [],
   "source": [
    "vehicle = world_.get_actors().filter(\"vehicle.volkswagen.t2_2021\")\n",
    "camera_sensor = world_.get_actors().filter(\"sensor.camera.rgb\")[0]\n",
    "collision_sensor = world_.get_actors().filter(\"sensor.other.collision\")[0]\n",
    "lane_invasion_sensor = world_.get_actors().filter(\"sensor.other.lane_invasion\")[0]"
   ]
  },
  {
   "cell_type": "code",
   "execution_count": null,
   "id": "2d3d7135",
   "metadata": {},
   "outputs": [],
   "source": [
    "camera_sensor.listen(lambda data: image_callback(data))\n",
    "collision_sensor.listen(lambda data: collision_callback(data))\n",
    "lane_invasion_sensor.listen(lambda data: lane_invasion_callback(data))"
   ]
  },
  {
   "cell_type": "code",
   "execution_count": 9,
   "id": "6aef42ff",
   "metadata": {},
   "outputs": [
    {
     "name": "stdout",
     "output_type": "stream",
     "text": [
      "Actor(id=29, type=sensor.camera.rgb)\n",
      "Actor(id=31, type=sensor.other.lane_invasion)\n",
      "Actor(id=30, type=sensor.other.collision)\n"
     ]
    }
   ],
   "source": [
    "for sensors in world_.get_actors().filter(\"*sensor*\"):\n",
    "    print(sensors)"
   ]
  },
  {
   "cell_type": "code",
   "execution_count": null,
   "id": "edb28789",
   "metadata": {},
   "outputs": [],
   "source": []
  },
  {
   "cell_type": "code",
   "execution_count": null,
   "id": "5f8dc977",
   "metadata": {},
   "outputs": [],
   "source": [
    "while True"
   ]
  }
 ],
 "metadata": {
  "kernelspec": {
   "display_name": "carla_15",
   "language": "python",
   "name": "python3"
  },
  "language_info": {
   "codemirror_mode": {
    "name": "ipython",
    "version": 3
   },
   "file_extension": ".py",
   "mimetype": "text/x-python",
   "name": "python",
   "nbconvert_exporter": "python",
   "pygments_lexer": "ipython3",
   "version": "3.10.0"
  }
 },
 "nbformat": 4,
 "nbformat_minor": 5
}
