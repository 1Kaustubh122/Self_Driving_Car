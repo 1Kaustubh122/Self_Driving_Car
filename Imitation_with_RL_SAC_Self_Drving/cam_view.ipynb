{
 "cells": [
  {
   "cell_type": "markdown",
   "id": "e7148c7b",
   "metadata": {},
   "source": [
    "\n",
    "To check cam view while trainng RL model,\n",
    "make sure that train.ipynb is running\n"
   ]
  },
  {
   "cell_type": "code",
   "execution_count": 1,
   "id": "3fa13171",
   "metadata": {},
   "outputs": [],
   "source": [
    "import sys\n",
    "sys.path.append('/home/kaustubh/Documents/GitHub/Self_Driving_Car/')"
   ]
  },
  {
   "cell_type": "code",
   "execution_count": 1,
   "id": "10925d2b",
   "metadata": {},
   "outputs": [],
   "source": [
    "import carla\n",
    "import numpy as np\n",
    "# from Imitation_Learning_RL.process_frame import process_frame"
   ]
  },
  {
   "cell_type": "code",
   "execution_count": 2,
   "id": "e91e9470",
   "metadata": {},
   "outputs": [],
   "source": [
    "seg_image = None\n",
    "rgb_image = None\n",
    "collision = None\n",
    "lane_invasion = None"
   ]
  },
  {
   "cell_type": "code",
   "execution_count": 3,
   "id": "45794b55",
   "metadata": {},
   "outputs": [],
   "source": [
    "# Callbacks\n",
    "def image_callback(data):\n",
    "    global rgb_image, seg_image\n",
    "    array = np.frombuffer(data.raw_data, dtype=np.uint8)\n",
    "    array = np.reshape(array, (data.height, data.width, 4))[:, :, :3]\n",
    "    rgb_image = array\n",
    "    # seg_image = process_frame(rgb_image)\n",
    "\n",
    "def collision_callback(data):\n",
    "    global collision\n",
    "    collision = True\n",
    "\n",
    "def lane_invasion_callback(event):\n",
    "    global lane_invasion\n",
    "    lane_invasion = True"
   ]
  },
  {
   "cell_type": "code",
   "execution_count": 4,
   "id": "2832b599",
   "metadata": {},
   "outputs": [],
   "source": [
    "# client_ = carla.Client('localhost', 2000)\n",
    "client_ = carla.Client(\"192.168.0.2\", 2030)\n",
    "client_.set_timeout(10.0)\n",
    "world_ = client_.get_world()\n",
    "blueprint_library_ = world_.get_blueprint_library()\n",
    "vehicle_bp = blueprint_library_.find(\"vehicle.mini.cooper_s\")\n",
    "spawn_points = world_.get_map().get_spawn_points()\n",
    "vehicle = world_.try_spawn_actor(vehicle_bp, spawn_points[0])"
   ]
  },
  {
   "cell_type": "code",
   "execution_count": 5,
   "id": "bbad2a65",
   "metadata": {},
   "outputs": [
    {
     "name": "stdout",
     "output_type": "stream",
     "text": [
      "Actor(id=24, type=vehicle.mini.cooper_s)\n"
     ]
    }
   ],
   "source": [
    "# vehicle = world_.get_actors().filter(\"vehicle.volkswagen.t2_2021\")\n",
    "# vehicle = world_.get_actors().filter(\"vehicle.mini.cooper_s\")[0]\n",
    "print(vehicle)\n",
    "\n",
    "# camera_sensor = world_.get_actors().filter(\"sensor.camera.rgb\")[0]\n",
    "# collision_sensor = world_.get_actors().filter(\"sensor.other.collision\")[0]\n",
    "# lane_invasion_sensor = world_.get_actors().filter(\"sensor.other.lane_invasion\")[0]"
   ]
  },
  {
   "cell_type": "code",
   "execution_count": 6,
   "id": "9d637fb9",
   "metadata": {},
   "outputs": [],
   "source": [
    "camera_bp_ = blueprint_library_.find('sensor.camera.rgb')\n",
    "collision_bp = blueprint_library_.find(\"sensor.other.collision\")\n",
    "lane_inv_bp = blueprint_library_.find(\"sensor.other.lane_invasion\")\n",
    "\n",
    "camera_bp_.set_attribute('image_size_x', '128')\n",
    "camera_bp_.set_attribute('image_size_y', '128')\n",
    "\n",
    "\n",
    "camera_location = carla.Location(x=4.442184 / 2.9, y=0, z=2.2)\n",
    "\n",
    "camera_transform = carla.Transform(camera_location)\n",
    "collision_transform = carla.Transform()\n",
    "lane_inv_transform = carla.Transform()\n",
    "\n",
    "camera_sensor = world_.spawn_actor(camera_bp_, camera_transform, attach_to=vehicle)\n",
    "collision_sensor = world_.spawn_actor(collision_bp, collision_transform, attach_to=vehicle)\n",
    "lane_invasion_sensor = world_.spawn_actor(lane_inv_bp, lane_inv_transform, attach_to=vehicle)"
   ]
  },
  {
   "cell_type": "code",
   "execution_count": 7,
   "id": "2d3d7135",
   "metadata": {},
   "outputs": [],
   "source": [
    "camera_sensor.listen(lambda data: image_callback(data))\n",
    "collision_sensor.listen(lambda data: collision_callback(data))\n",
    "lane_invasion_sensor.listen(lambda data: lane_invasion_callback(data))"
   ]
  },
  {
   "cell_type": "code",
   "execution_count": 15,
   "id": "6aef42ff",
   "metadata": {},
   "outputs": [
    {
     "name": "stdout",
     "output_type": "stream",
     "text": [
      "Actor(id=24, type=vehicle.mini.cooper_s)\n"
     ]
    }
   ],
   "source": [
    "for vehicle in world_.get_actors().filter(\"*vehicle*\"):\n",
    "    print(vehicle)"
   ]
  },
  {
   "cell_type": "code",
   "execution_count": 8,
   "id": "edb28789",
   "metadata": {},
   "outputs": [],
   "source": [
    "import cv2"
   ]
  },
  {
   "cell_type": "code",
   "execution_count": null,
   "id": "5f8dc977",
   "metadata": {},
   "outputs": [],
   "source": [
    "while True:\n",
    "    cv2.imshow(\"as\", rgb_image)\n",
    "    cv2.waitKey(1)\n",
    "    "
   ]
  },
  {
   "cell_type": "code",
   "execution_count": 14,
   "id": "e358d9ba",
   "metadata": {},
   "outputs": [],
   "source": [
    "cv2.destroyAllWindows()"
   ]
  },
  {
   "cell_type": "code",
   "execution_count": null,
   "id": "d09ea2eb",
   "metadata": {},
   "outputs": [],
   "source": []
  }
 ],
 "metadata": {
  "kernelspec": {
   "display_name": "carla_15",
   "language": "python",
   "name": "python3"
  },
  "language_info": {
   "codemirror_mode": {
    "name": "ipython",
    "version": 3
   },
   "file_extension": ".py",
   "mimetype": "text/x-python",
   "name": "python",
   "nbconvert_exporter": "python",
   "pygments_lexer": "ipython3",
   "version": "3.10.16"
  }
 },
 "nbformat": 4,
 "nbformat_minor": 5
}
